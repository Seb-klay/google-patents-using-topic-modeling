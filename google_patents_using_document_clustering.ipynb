{
  "cells": [
    {
      "cell_type": "markdown",
      "metadata": {
        "id": "view-in-github",
        "colab_type": "text"
      },
      "source": [
        "<a href=\"https://colab.research.google.com/github/Seb-klay/google-patents-using-topic-modeling/blob/main/google_patents_using_document_clustering.ipynb\" target=\"_parent\"><img src=\"https://colab.research.google.com/assets/colab-badge.svg\" alt=\"Open In Colab\"/></a>"
      ]
    },
    {
      "cell_type": "markdown",
      "metadata": {
        "id": "M7At0L9Xpc4S"
      },
      "source": [
        "# Introduction"
      ]
    },
    {
      "cell_type": "markdown",
      "metadata": {
        "id": "jKaya8IhqS93"
      },
      "source": [
        "## Goal of this project"
      ]
    },
    {
      "cell_type": "markdown",
      "metadata": {
        "id": "QKe8E26-piJK"
      },
      "source": [
        "This project aims to answer one question :\n",
        "**In the wake of third-party cookie deprecation, does Google implement alternative user tracking or targeting practices that may raise privacy disclosed to the public ?**\n",
        "\n",
        "To answer this question, 2 hypothesis have yet to be answered :\n",
        "- H1: *Google's privacy-related patents filed after the announcement of third-party cookie phase-out reflect ongoing development of alternative targeting systems.*\n",
        "- H2: *Google has deployed new forms of user tracking that replicate or exceed the privacy intrusiveness of third-party cookies.*\n",
        "\n",
        "To answer this questions, the Google patents, from year 1995 to 2024, so for the past 29 years, are going to be explored. We are going to dig into them using topic modeling techniques. Creating clusters of the different patents and identify those that are related to tracking topics.\n",
        "\n",
        "We are going to answer the question by validating hypothesis such as H1 and H2."
      ]
    },
    {
      "cell_type": "markdown",
      "metadata": {
        "id": "grc_h4XPAis_"
      },
      "source": [
        "# Installation"
      ]
    },
    {
      "cell_type": "code",
      "execution_count": 1,
      "metadata": {
        "colab": {
          "base_uri": "https://localhost:8080/",
          "height": 1000,
          "referenced_widgets": [
            "fbe9d53e04eb4437bbab4066313e68ae",
            "183c53b47605495e99ce62fa56dd3e23",
            "07b58733f1404bc08cbe476fe0119efa",
            "45f556f13411440297c77d678f17179a",
            "a5856a92512b4123bb254781706a826b",
            "8cf75de4668845c9a62e295dbc8bbb18",
            "06fcf954be3b460fa2bc5ca88c1c50c6",
            "47815cdb8ef940f58c1bbf84804ec587",
            "d7c1e0847c52403e9a95363cd3f50805",
            "6afb3b7a7e1848a18516d796139df53b",
            "3d4ca98bbb13441da1d786d2cf8dc9cc",
            "d4cc992f547740beb34c2029526ef204",
            "0b57b98038cb4495b58a9d59083ee70f",
            "a22e3592b3c949f088f195f04279726e",
            "cc8f1d07e0094c0384d988195887d331",
            "06ef044ad4a2463aa1faf443750af7b9",
            "5d9f86f35cea4e359689747a2a548f99",
            "37a6cd1461724641bf969a7cff6c053e",
            "af38c9f70d2b443faac1e552673a364d",
            "4edc1a97f95e4dafa124b319127e15cc",
            "dd6588d4b4c34872a340d6387f770e67",
            "1d98d207762c4945a03830941493c3fb",
            "f14a7ce431a541ddacff4c85d574777d",
            "9c493c3b15194967be4c89fae6013b20",
            "ab65a4405b594b11bec894f8d9cd3bae",
            "f59f9a2401db439e80af7fe32cc513b4",
            "ba514e1b7e404257bbb75e698a695922",
            "246a844b9fc14365944505e8fa96c841",
            "8d2da56a46244256a68396d437d746bd",
            "be4cafb372524a6597771bc33e9432fc",
            "ca13ff3ac1714d9b96090a406618151c",
            "a06ddcce6ce942dcbf6f871cbfe98e0f",
            "f790d3cadab042fe9d58c830e4b9284b",
            "07da5d54cc124abd88b55c59a62b5e85",
            "63bbadbb4c9f41c28663f7a099680b9f",
            "0918b347a6214dd89d59d89e03465741",
            "532f46e58a20404dbe949c2f249b4fe4",
            "7795270b0a4b47ee80f9457405c5947b",
            "159afe0099a7460f9821cfce32ab765d",
            "91b87c10f12f4c9b8ae42219b0882604",
            "1072e8d742ff42c286b2d41c86419bee",
            "8d64d67ae5a9487f9766f44778317ee6",
            "51194160f4894d32a51d8c1915fc540a",
            "cfa561a743294c81a26ec6f60e42812a",
            "52e7feded99c43c58657c0587643ba08",
            "ac8341be254840f4bb32369d087d68ea",
            "4e9b66d2365c4550aead46618450fe9e",
            "4b52dcc11b3d4f3eb72c28c80598aefd",
            "1a8d8c10e01948eb951ce8e550f36f20",
            "309b8323aa2340ceb993ccb7fc162fed",
            "0338b2efa6374f89a351f399484df147",
            "a12fc3a999304d0d88591dbc1ada5e59",
            "a174b1181adf43799b70b4211e83824b",
            "f82aa908b7284b62ad64358d2de7c01c",
            "d2ea4b17d33d4b8abdc4b6940d02baf8",
            "db219f7f51174db9813a6c26741467e0",
            "5d71db97a38c4032960dd95b504587fd",
            "6d65e63a1e6e49db9404ddcaf17893fb",
            "0cae13de2b6a45e7993704cce94afb01",
            "a765a0e07ba542208c81d4dba1020f6a",
            "3fdf0166fc06410ea93ac6af8dcb828f",
            "44ee2194fc1947de95134265f64b6261",
            "4b471b2049d14fd4a032f2c3f4d032ec",
            "a2f9468eb0ca4166af981c147656a590",
            "39dad08013414640a8187efc37c00b5f",
            "621192219ec34aab8d7e3d5741be17f8",
            "8c16d51aae0d4d1bb3a7c0079d3cd8bb",
            "bb156414ca86442e81436441b1cf9b77",
            "b6482af7211641d1b5e5af4c5c2dabb9",
            "47e11561caf147e1af96a843c7df235d",
            "49873ec6e3de41ba931efe9f7a83596e",
            "b69d625d934a46898719d53d3d68a8f1",
            "23eee31391774eb7b8b323b14a39dc71",
            "6b349ea0ceba471bb26d80f78d99264a",
            "5751cd0c1c2e47a994f44840369dd62f",
            "cd09c2e3dad54ee9aab68aeeef9e27ea",
            "94882b16147c4f85b29f617e722333ef",
            "1913ac94b2b54a14a60ad49d80b7c14e",
            "973190230b164569afc823068d84557c",
            "0127758df6a341c58402d46f0a4ff23e",
            "92005fdce38e40138c1c356a40e88d4b",
            "e375c88ff29243759a12cf03bb2933d2",
            "958fdf7bd83649ddacd16dceb51bc3f6",
            "b2cec2891a9f4289aa16717736609728",
            "6075cc0341204ff288e2e681af39c01d",
            "a47fee2ee5aa4fafba5f4c86bfb7d1d2",
            "59bd217cbe9f4107bd13661d30c5bdfd",
            "f3c6686b272741bc91e39992d77be6a8",
            "517aed03607b4d98b22120a1fc9eb363",
            "f8f228f58ae840a08c52f3c588ab99f5",
            "501a1c06dadb48a0afe23d76ce8bb3ad",
            "a78d1a5b1b384790a0f2638abf40c9b5",
            "9297a089800340778494be8108775631",
            "84134f1a45094004a9b21b2011c02397",
            "14b7d5b30ac64d52bdb3b5f0fbf25847",
            "86dab02b8e3546a4a1bd3fe3c1f1b154",
            "115dbb4fb5224099b6b8a358943fe259",
            "50fedda93be94c479a947cbd0bd34f94",
            "b2a497a0c42f45718c393b400e716604",
            "262a93a05f024fd7b63034dacd9d4395",
            "4fb4ec97fcd64de7b068170004a08f6b",
            "b3ce774083a6407dbb59afd12e7f78f9",
            "44450be306984773a1920a80fe0bdd49",
            "a9bf17eed1e542d4afdeb99db13da5ed",
            "5e1fd4355c48426abd243122fdf04a85",
            "d9a3634549ff491c8bcb20cc4cc16ada",
            "8db5878cdc104e0385b1cb7d43b6f50a",
            "14ea806ca5e24dcea8b95974f746ef26",
            "fb7ea49a2f7b4bcfa220738f9c92b871",
            "ff9334e245574079afb645c573ab6b1a",
            "ba30035d53be46949387a83d36b27462",
            "e0470fbb1747491d96c4f771b033c41b",
            "d53922b2396645368a50d61bed925166",
            "9c29523cc5df442d930e104d11873dff",
            "12a756a4f363485691b1916f2ef2b158",
            "8709df41abf34de78dc5ee2556332f57",
            "36b3cd4de8a54237a2926ba54d9eeba4",
            "15961a3327614046932dcc55ab88dfe6",
            "78f2eedef079407d903c706040c9fb12",
            "871125b2efaa4862800dff7423da7c8b",
            "23296d4d23f946a780d0ba143966ded0",
            "bf48b1385cd54b809ff993f3896f60a8",
            "a5f5f495dd3c46b987e9f7c252758a3d",
            "3f1579a7e70e43f4b91f60f703474e82",
            "42bbf2874c254ab7a1f5b367aa9466f4",
            "b336a086b50849c4bad30f8520255e6b",
            "6e701d667a3e4b4c8bf421f55396a090",
            "bca50d321b614654a387a61ccb07f644",
            "3a522c6c7c434c8c9dd441b86c41d7af",
            "ac7b77fbfda9402693ce10bbe4ee56d3",
            "ee9f0818184e4177a614619a0f40ef49",
            "a857fdda9f8f4522a986f81e85522029"
          ]
        },
        "id": "8gmk90bCutbQ",
        "outputId": "a4b39d06-df23-4db5-ea3d-c88394f52456"
      },
      "outputs": [
        {
          "output_type": "stream",
          "name": "stdout",
          "text": [
            "Collecting bertopic==0.17.0\n",
            "  Downloading bertopic-0.17.0-py3-none-any.whl.metadata (23 kB)\n",
            "Requirement already satisfied: hdbscan>=0.8.29 in /usr/local/lib/python3.11/dist-packages (from bertopic==0.17.0) (0.8.40)\n",
            "Requirement already satisfied: numpy>=1.20.0 in /usr/local/lib/python3.11/dist-packages (from bertopic==0.17.0) (2.0.2)\n",
            "Requirement already satisfied: pandas>=1.1.5 in /usr/local/lib/python3.11/dist-packages (from bertopic==0.17.0) (2.2.2)\n",
            "Requirement already satisfied: plotly>=4.7.0 in /usr/local/lib/python3.11/dist-packages (from bertopic==0.17.0) (5.24.1)\n",
            "Requirement already satisfied: scikit-learn>=1.0 in /usr/local/lib/python3.11/dist-packages (from bertopic==0.17.0) (1.6.1)\n",
            "Requirement already satisfied: sentence-transformers>=0.4.1 in /usr/local/lib/python3.11/dist-packages (from bertopic==0.17.0) (4.1.0)\n",
            "Requirement already satisfied: tqdm>=4.41.1 in /usr/local/lib/python3.11/dist-packages (from bertopic==0.17.0) (4.67.1)\n",
            "Requirement already satisfied: umap-learn>=0.5.0 in /usr/local/lib/python3.11/dist-packages (from bertopic==0.17.0) (0.5.7)\n",
            "Requirement already satisfied: scipy>=1.0 in /usr/local/lib/python3.11/dist-packages (from hdbscan>=0.8.29->bertopic==0.17.0) (1.15.3)\n",
            "Requirement already satisfied: joblib>=1.0 in /usr/local/lib/python3.11/dist-packages (from hdbscan>=0.8.29->bertopic==0.17.0) (1.5.1)\n",
            "Requirement already satisfied: python-dateutil>=2.8.2 in /usr/local/lib/python3.11/dist-packages (from pandas>=1.1.5->bertopic==0.17.0) (2.9.0.post0)\n",
            "Requirement already satisfied: pytz>=2020.1 in /usr/local/lib/python3.11/dist-packages (from pandas>=1.1.5->bertopic==0.17.0) (2025.2)\n",
            "Requirement already satisfied: tzdata>=2022.7 in /usr/local/lib/python3.11/dist-packages (from pandas>=1.1.5->bertopic==0.17.0) (2025.2)\n",
            "Requirement already satisfied: tenacity>=6.2.0 in /usr/local/lib/python3.11/dist-packages (from plotly>=4.7.0->bertopic==0.17.0) (9.1.2)\n",
            "Requirement already satisfied: packaging in /usr/local/lib/python3.11/dist-packages (from plotly>=4.7.0->bertopic==0.17.0) (24.2)\n",
            "Requirement already satisfied: threadpoolctl>=3.1.0 in /usr/local/lib/python3.11/dist-packages (from scikit-learn>=1.0->bertopic==0.17.0) (3.6.0)\n",
            "Requirement already satisfied: transformers<5.0.0,>=4.41.0 in /usr/local/lib/python3.11/dist-packages (from sentence-transformers>=0.4.1->bertopic==0.17.0) (4.52.4)\n",
            "Requirement already satisfied: torch>=1.11.0 in /usr/local/lib/python3.11/dist-packages (from sentence-transformers>=0.4.1->bertopic==0.17.0) (2.6.0+cu124)\n",
            "Requirement already satisfied: huggingface-hub>=0.20.0 in /usr/local/lib/python3.11/dist-packages (from sentence-transformers>=0.4.1->bertopic==0.17.0) (0.32.4)\n",
            "Requirement already satisfied: Pillow in /usr/local/lib/python3.11/dist-packages (from sentence-transformers>=0.4.1->bertopic==0.17.0) (11.2.1)\n",
            "Requirement already satisfied: typing_extensions>=4.5.0 in /usr/local/lib/python3.11/dist-packages (from sentence-transformers>=0.4.1->bertopic==0.17.0) (4.14.0)\n",
            "Requirement already satisfied: numba>=0.51.2 in /usr/local/lib/python3.11/dist-packages (from umap-learn>=0.5.0->bertopic==0.17.0) (0.60.0)\n",
            "Requirement already satisfied: pynndescent>=0.5 in /usr/local/lib/python3.11/dist-packages (from umap-learn>=0.5.0->bertopic==0.17.0) (0.5.13)\n",
            "Requirement already satisfied: filelock in /usr/local/lib/python3.11/dist-packages (from huggingface-hub>=0.20.0->sentence-transformers>=0.4.1->bertopic==0.17.0) (3.18.0)\n",
            "Requirement already satisfied: fsspec>=2023.5.0 in /usr/local/lib/python3.11/dist-packages (from huggingface-hub>=0.20.0->sentence-transformers>=0.4.1->bertopic==0.17.0) (2025.3.2)\n",
            "Requirement already satisfied: pyyaml>=5.1 in /usr/local/lib/python3.11/dist-packages (from huggingface-hub>=0.20.0->sentence-transformers>=0.4.1->bertopic==0.17.0) (6.0.2)\n",
            "Requirement already satisfied: requests in /usr/local/lib/python3.11/dist-packages (from huggingface-hub>=0.20.0->sentence-transformers>=0.4.1->bertopic==0.17.0) (2.32.3)\n",
            "Requirement already satisfied: hf-xet<2.0.0,>=1.1.2 in /usr/local/lib/python3.11/dist-packages (from huggingface-hub>=0.20.0->sentence-transformers>=0.4.1->bertopic==0.17.0) (1.1.2)\n",
            "Requirement already satisfied: llvmlite<0.44,>=0.43.0dev0 in /usr/local/lib/python3.11/dist-packages (from numba>=0.51.2->umap-learn>=0.5.0->bertopic==0.17.0) (0.43.0)\n",
            "Requirement already satisfied: six>=1.5 in /usr/local/lib/python3.11/dist-packages (from python-dateutil>=2.8.2->pandas>=1.1.5->bertopic==0.17.0) (1.17.0)\n",
            "Requirement already satisfied: networkx in /usr/local/lib/python3.11/dist-packages (from torch>=1.11.0->sentence-transformers>=0.4.1->bertopic==0.17.0) (3.5)\n",
            "Requirement already satisfied: jinja2 in /usr/local/lib/python3.11/dist-packages (from torch>=1.11.0->sentence-transformers>=0.4.1->bertopic==0.17.0) (3.1.6)\n",
            "Collecting nvidia-cuda-nvrtc-cu12==12.4.127 (from torch>=1.11.0->sentence-transformers>=0.4.1->bertopic==0.17.0)\n",
            "  Downloading nvidia_cuda_nvrtc_cu12-12.4.127-py3-none-manylinux2014_x86_64.whl.metadata (1.5 kB)\n",
            "Collecting nvidia-cuda-runtime-cu12==12.4.127 (from torch>=1.11.0->sentence-transformers>=0.4.1->bertopic==0.17.0)\n",
            "  Downloading nvidia_cuda_runtime_cu12-12.4.127-py3-none-manylinux2014_x86_64.whl.metadata (1.5 kB)\n",
            "Collecting nvidia-cuda-cupti-cu12==12.4.127 (from torch>=1.11.0->sentence-transformers>=0.4.1->bertopic==0.17.0)\n",
            "  Downloading nvidia_cuda_cupti_cu12-12.4.127-py3-none-manylinux2014_x86_64.whl.metadata (1.6 kB)\n",
            "Collecting nvidia-cudnn-cu12==9.1.0.70 (from torch>=1.11.0->sentence-transformers>=0.4.1->bertopic==0.17.0)\n",
            "  Downloading nvidia_cudnn_cu12-9.1.0.70-py3-none-manylinux2014_x86_64.whl.metadata (1.6 kB)\n",
            "Collecting nvidia-cublas-cu12==12.4.5.8 (from torch>=1.11.0->sentence-transformers>=0.4.1->bertopic==0.17.0)\n",
            "  Downloading nvidia_cublas_cu12-12.4.5.8-py3-none-manylinux2014_x86_64.whl.metadata (1.5 kB)\n",
            "Collecting nvidia-cufft-cu12==11.2.1.3 (from torch>=1.11.0->sentence-transformers>=0.4.1->bertopic==0.17.0)\n",
            "  Downloading nvidia_cufft_cu12-11.2.1.3-py3-none-manylinux2014_x86_64.whl.metadata (1.5 kB)\n",
            "Collecting nvidia-curand-cu12==10.3.5.147 (from torch>=1.11.0->sentence-transformers>=0.4.1->bertopic==0.17.0)\n",
            "  Downloading nvidia_curand_cu12-10.3.5.147-py3-none-manylinux2014_x86_64.whl.metadata (1.5 kB)\n",
            "Collecting nvidia-cusolver-cu12==11.6.1.9 (from torch>=1.11.0->sentence-transformers>=0.4.1->bertopic==0.17.0)\n",
            "  Downloading nvidia_cusolver_cu12-11.6.1.9-py3-none-manylinux2014_x86_64.whl.metadata (1.6 kB)\n",
            "Collecting nvidia-cusparse-cu12==12.3.1.170 (from torch>=1.11.0->sentence-transformers>=0.4.1->bertopic==0.17.0)\n",
            "  Downloading nvidia_cusparse_cu12-12.3.1.170-py3-none-manylinux2014_x86_64.whl.metadata (1.6 kB)\n",
            "Requirement already satisfied: nvidia-cusparselt-cu12==0.6.2 in /usr/local/lib/python3.11/dist-packages (from torch>=1.11.0->sentence-transformers>=0.4.1->bertopic==0.17.0) (0.6.2)\n",
            "Requirement already satisfied: nvidia-nccl-cu12==2.21.5 in /usr/local/lib/python3.11/dist-packages (from torch>=1.11.0->sentence-transformers>=0.4.1->bertopic==0.17.0) (2.21.5)\n",
            "Requirement already satisfied: nvidia-nvtx-cu12==12.4.127 in /usr/local/lib/python3.11/dist-packages (from torch>=1.11.0->sentence-transformers>=0.4.1->bertopic==0.17.0) (12.4.127)\n",
            "Collecting nvidia-nvjitlink-cu12==12.4.127 (from torch>=1.11.0->sentence-transformers>=0.4.1->bertopic==0.17.0)\n",
            "  Downloading nvidia_nvjitlink_cu12-12.4.127-py3-none-manylinux2014_x86_64.whl.metadata (1.5 kB)\n",
            "Requirement already satisfied: triton==3.2.0 in /usr/local/lib/python3.11/dist-packages (from torch>=1.11.0->sentence-transformers>=0.4.1->bertopic==0.17.0) (3.2.0)\n",
            "Requirement already satisfied: sympy==1.13.1 in /usr/local/lib/python3.11/dist-packages (from torch>=1.11.0->sentence-transformers>=0.4.1->bertopic==0.17.0) (1.13.1)\n",
            "Requirement already satisfied: mpmath<1.4,>=1.1.0 in /usr/local/lib/python3.11/dist-packages (from sympy==1.13.1->torch>=1.11.0->sentence-transformers>=0.4.1->bertopic==0.17.0) (1.3.0)\n",
            "Requirement already satisfied: regex!=2019.12.17 in /usr/local/lib/python3.11/dist-packages (from transformers<5.0.0,>=4.41.0->sentence-transformers>=0.4.1->bertopic==0.17.0) (2024.11.6)\n",
            "Requirement already satisfied: tokenizers<0.22,>=0.21 in /usr/local/lib/python3.11/dist-packages (from transformers<5.0.0,>=4.41.0->sentence-transformers>=0.4.1->bertopic==0.17.0) (0.21.1)\n",
            "Requirement already satisfied: safetensors>=0.4.3 in /usr/local/lib/python3.11/dist-packages (from transformers<5.0.0,>=4.41.0->sentence-transformers>=0.4.1->bertopic==0.17.0) (0.5.3)\n",
            "Requirement already satisfied: MarkupSafe>=2.0 in /usr/local/lib/python3.11/dist-packages (from jinja2->torch>=1.11.0->sentence-transformers>=0.4.1->bertopic==0.17.0) (3.0.2)\n",
            "Requirement already satisfied: charset-normalizer<4,>=2 in /usr/local/lib/python3.11/dist-packages (from requests->huggingface-hub>=0.20.0->sentence-transformers>=0.4.1->bertopic==0.17.0) (3.4.2)\n",
            "Requirement already satisfied: idna<4,>=2.5 in /usr/local/lib/python3.11/dist-packages (from requests->huggingface-hub>=0.20.0->sentence-transformers>=0.4.1->bertopic==0.17.0) (3.10)\n",
            "Requirement already satisfied: urllib3<3,>=1.21.1 in /usr/local/lib/python3.11/dist-packages (from requests->huggingface-hub>=0.20.0->sentence-transformers>=0.4.1->bertopic==0.17.0) (2.4.0)\n",
            "Requirement already satisfied: certifi>=2017.4.17 in /usr/local/lib/python3.11/dist-packages (from requests->huggingface-hub>=0.20.0->sentence-transformers>=0.4.1->bertopic==0.17.0) (2025.4.26)\n",
            "Downloading bertopic-0.17.0-py3-none-any.whl (150 kB)\n",
            "\u001b[2K   \u001b[90m━━━━━━━━━━━━━━━━━━━━━━━━━━━━━━━━━━━━━━━━\u001b[0m \u001b[32m150.6/150.6 kB\u001b[0m \u001b[31m5.3 MB/s\u001b[0m eta \u001b[36m0:00:00\u001b[0m\n",
            "\u001b[?25hDownloading nvidia_cublas_cu12-12.4.5.8-py3-none-manylinux2014_x86_64.whl (363.4 MB)\n",
            "\u001b[2K   \u001b[90m━━━━━━━━━━━━━━━━━━━━━━━━━━━━━━━━━━━━━━━━\u001b[0m \u001b[32m363.4/363.4 MB\u001b[0m \u001b[31m3.4 MB/s\u001b[0m eta \u001b[36m0:00:00\u001b[0m\n",
            "\u001b[?25hDownloading nvidia_cuda_cupti_cu12-12.4.127-py3-none-manylinux2014_x86_64.whl (13.8 MB)\n",
            "\u001b[2K   \u001b[90m━━━━━━━━━━━━━━━━━━━━━━━━━━━━━━━━━━━━━━━━\u001b[0m \u001b[32m13.8/13.8 MB\u001b[0m \u001b[31m121.5 MB/s\u001b[0m eta \u001b[36m0:00:00\u001b[0m\n",
            "\u001b[?25hDownloading nvidia_cuda_nvrtc_cu12-12.4.127-py3-none-manylinux2014_x86_64.whl (24.6 MB)\n",
            "\u001b[2K   \u001b[90m━━━━━━━━━━━━━━━━━━━━━━━━━━━━━━━━━━━━━━━━\u001b[0m \u001b[32m24.6/24.6 MB\u001b[0m \u001b[31m107.0 MB/s\u001b[0m eta \u001b[36m0:00:00\u001b[0m\n",
            "\u001b[?25hDownloading nvidia_cuda_runtime_cu12-12.4.127-py3-none-manylinux2014_x86_64.whl (883 kB)\n",
            "\u001b[2K   \u001b[90m━━━━━━━━━━━━━━━━━━━━━━━━━━━━━━━━━━━━━━━━\u001b[0m \u001b[32m883.7/883.7 kB\u001b[0m \u001b[31m54.0 MB/s\u001b[0m eta \u001b[36m0:00:00\u001b[0m\n",
            "\u001b[?25hDownloading nvidia_cudnn_cu12-9.1.0.70-py3-none-manylinux2014_x86_64.whl (664.8 MB)\n",
            "\u001b[2K   \u001b[90m━━━━━━━━━━━━━━━━━━━━━━━━━━━━━━━━━━━━━━━━\u001b[0m \u001b[32m664.8/664.8 MB\u001b[0m \u001b[31m2.3 MB/s\u001b[0m eta \u001b[36m0:00:00\u001b[0m\n",
            "\u001b[?25hDownloading nvidia_cufft_cu12-11.2.1.3-py3-none-manylinux2014_x86_64.whl (211.5 MB)\n",
            "\u001b[2K   \u001b[90m━━━━━━━━━━━━━━━━━━━━━━━━━━━━━━━━━━━━━━━━\u001b[0m \u001b[32m211.5/211.5 MB\u001b[0m \u001b[31m5.3 MB/s\u001b[0m eta \u001b[36m0:00:00\u001b[0m\n",
            "\u001b[?25hDownloading nvidia_curand_cu12-10.3.5.147-py3-none-manylinux2014_x86_64.whl (56.3 MB)\n",
            "\u001b[2K   \u001b[90m━━━━━━━━━━━━━━━━━━━━━━━━━━━━━━━━━━━━━━━━\u001b[0m \u001b[32m56.3/56.3 MB\u001b[0m \u001b[31m46.5 MB/s\u001b[0m eta \u001b[36m0:00:00\u001b[0m\n",
            "\u001b[?25hDownloading nvidia_cusolver_cu12-11.6.1.9-py3-none-manylinux2014_x86_64.whl (127.9 MB)\n",
            "\u001b[2K   \u001b[90m━━━━━━━━━━━━━━━━━━━━━━━━━━━━━━━━━━━━━━━━\u001b[0m \u001b[32m127.9/127.9 MB\u001b[0m \u001b[31m22.6 MB/s\u001b[0m eta \u001b[36m0:00:00\u001b[0m\n",
            "\u001b[?25hDownloading nvidia_cusparse_cu12-12.3.1.170-py3-none-manylinux2014_x86_64.whl (207.5 MB)\n",
            "\u001b[2K   \u001b[90m━━━━━━━━━━━━━━━━━━━━━━━━━━━━━━━━━━━━━━━━\u001b[0m \u001b[32m207.5/207.5 MB\u001b[0m \u001b[31m4.3 MB/s\u001b[0m eta \u001b[36m0:00:00\u001b[0m\n",
            "\u001b[?25hDownloading nvidia_nvjitlink_cu12-12.4.127-py3-none-manylinux2014_x86_64.whl (21.1 MB)\n",
            "\u001b[2K   \u001b[90m━━━━━━━━━━━━━━━━━━━━━━━━━━━━━━━━━━━━━━━━\u001b[0m \u001b[32m21.1/21.1 MB\u001b[0m \u001b[31m120.3 MB/s\u001b[0m eta \u001b[36m0:00:00\u001b[0m\n",
            "\u001b[?25hInstalling collected packages: nvidia-nvjitlink-cu12, nvidia-curand-cu12, nvidia-cufft-cu12, nvidia-cuda-runtime-cu12, nvidia-cuda-nvrtc-cu12, nvidia-cuda-cupti-cu12, nvidia-cublas-cu12, nvidia-cusparse-cu12, nvidia-cudnn-cu12, nvidia-cusolver-cu12, bertopic\n",
            "  Attempting uninstall: nvidia-nvjitlink-cu12\n",
            "    Found existing installation: nvidia-nvjitlink-cu12 12.5.82\n",
            "    Uninstalling nvidia-nvjitlink-cu12-12.5.82:\n",
            "      Successfully uninstalled nvidia-nvjitlink-cu12-12.5.82\n",
            "  Attempting uninstall: nvidia-curand-cu12\n",
            "    Found existing installation: nvidia-curand-cu12 10.3.6.82\n",
            "    Uninstalling nvidia-curand-cu12-10.3.6.82:\n",
            "      Successfully uninstalled nvidia-curand-cu12-10.3.6.82\n",
            "  Attempting uninstall: nvidia-cufft-cu12\n",
            "    Found existing installation: nvidia-cufft-cu12 11.2.3.61\n",
            "    Uninstalling nvidia-cufft-cu12-11.2.3.61:\n",
            "      Successfully uninstalled nvidia-cufft-cu12-11.2.3.61\n",
            "  Attempting uninstall: nvidia-cuda-runtime-cu12\n",
            "    Found existing installation: nvidia-cuda-runtime-cu12 12.5.82\n",
            "    Uninstalling nvidia-cuda-runtime-cu12-12.5.82:\n",
            "      Successfully uninstalled nvidia-cuda-runtime-cu12-12.5.82\n",
            "  Attempting uninstall: nvidia-cuda-nvrtc-cu12\n",
            "    Found existing installation: nvidia-cuda-nvrtc-cu12 12.5.82\n",
            "    Uninstalling nvidia-cuda-nvrtc-cu12-12.5.82:\n",
            "      Successfully uninstalled nvidia-cuda-nvrtc-cu12-12.5.82\n",
            "  Attempting uninstall: nvidia-cuda-cupti-cu12\n",
            "    Found existing installation: nvidia-cuda-cupti-cu12 12.5.82\n",
            "    Uninstalling nvidia-cuda-cupti-cu12-12.5.82:\n",
            "      Successfully uninstalled nvidia-cuda-cupti-cu12-12.5.82\n",
            "  Attempting uninstall: nvidia-cublas-cu12\n",
            "    Found existing installation: nvidia-cublas-cu12 12.5.3.2\n",
            "    Uninstalling nvidia-cublas-cu12-12.5.3.2:\n",
            "      Successfully uninstalled nvidia-cublas-cu12-12.5.3.2\n",
            "  Attempting uninstall: nvidia-cusparse-cu12\n",
            "    Found existing installation: nvidia-cusparse-cu12 12.5.1.3\n",
            "    Uninstalling nvidia-cusparse-cu12-12.5.1.3:\n",
            "      Successfully uninstalled nvidia-cusparse-cu12-12.5.1.3\n",
            "  Attempting uninstall: nvidia-cudnn-cu12\n",
            "    Found existing installation: nvidia-cudnn-cu12 9.3.0.75\n",
            "    Uninstalling nvidia-cudnn-cu12-9.3.0.75:\n",
            "      Successfully uninstalled nvidia-cudnn-cu12-9.3.0.75\n",
            "  Attempting uninstall: nvidia-cusolver-cu12\n",
            "    Found existing installation: nvidia-cusolver-cu12 11.6.3.83\n",
            "    Uninstalling nvidia-cusolver-cu12-11.6.3.83:\n",
            "      Successfully uninstalled nvidia-cusolver-cu12-11.6.3.83\n",
            "Successfully installed bertopic-0.17.0 nvidia-cublas-cu12-12.4.5.8 nvidia-cuda-cupti-cu12-12.4.127 nvidia-cuda-nvrtc-cu12-12.4.127 nvidia-cuda-runtime-cu12-12.4.127 nvidia-cudnn-cu12-9.1.0.70 nvidia-cufft-cu12-11.2.1.3 nvidia-curand-cu12-10.3.5.147 nvidia-cusolver-cu12-11.6.1.9 nvidia-cusparse-cu12-12.3.1.170 nvidia-nvjitlink-cu12-12.4.127\n",
            "Requirement already satisfied: sentence-transformers in /usr/local/lib/python3.11/dist-packages (4.1.0)\n",
            "Requirement already satisfied: transformers<5.0.0,>=4.41.0 in /usr/local/lib/python3.11/dist-packages (from sentence-transformers) (4.52.4)\n",
            "Requirement already satisfied: tqdm in /usr/local/lib/python3.11/dist-packages (from sentence-transformers) (4.67.1)\n",
            "Requirement already satisfied: torch>=1.11.0 in /usr/local/lib/python3.11/dist-packages (from sentence-transformers) (2.6.0+cu124)\n",
            "Requirement already satisfied: scikit-learn in /usr/local/lib/python3.11/dist-packages (from sentence-transformers) (1.6.1)\n",
            "Requirement already satisfied: scipy in /usr/local/lib/python3.11/dist-packages (from sentence-transformers) (1.15.3)\n",
            "Requirement already satisfied: huggingface-hub>=0.20.0 in /usr/local/lib/python3.11/dist-packages (from sentence-transformers) (0.32.4)\n",
            "Requirement already satisfied: Pillow in /usr/local/lib/python3.11/dist-packages (from sentence-transformers) (11.2.1)\n",
            "Requirement already satisfied: typing_extensions>=4.5.0 in /usr/local/lib/python3.11/dist-packages (from sentence-transformers) (4.14.0)\n",
            "Requirement already satisfied: filelock in /usr/local/lib/python3.11/dist-packages (from huggingface-hub>=0.20.0->sentence-transformers) (3.18.0)\n",
            "Requirement already satisfied: fsspec>=2023.5.0 in /usr/local/lib/python3.11/dist-packages (from huggingface-hub>=0.20.0->sentence-transformers) (2025.3.2)\n",
            "Requirement already satisfied: packaging>=20.9 in /usr/local/lib/python3.11/dist-packages (from huggingface-hub>=0.20.0->sentence-transformers) (24.2)\n",
            "Requirement already satisfied: pyyaml>=5.1 in /usr/local/lib/python3.11/dist-packages (from huggingface-hub>=0.20.0->sentence-transformers) (6.0.2)\n",
            "Requirement already satisfied: requests in /usr/local/lib/python3.11/dist-packages (from huggingface-hub>=0.20.0->sentence-transformers) (2.32.3)\n",
            "Requirement already satisfied: hf-xet<2.0.0,>=1.1.2 in /usr/local/lib/python3.11/dist-packages (from huggingface-hub>=0.20.0->sentence-transformers) (1.1.2)\n",
            "Requirement already satisfied: networkx in /usr/local/lib/python3.11/dist-packages (from torch>=1.11.0->sentence-transformers) (3.5)\n",
            "Requirement already satisfied: jinja2 in /usr/local/lib/python3.11/dist-packages (from torch>=1.11.0->sentence-transformers) (3.1.6)\n",
            "Requirement already satisfied: nvidia-cuda-nvrtc-cu12==12.4.127 in /usr/local/lib/python3.11/dist-packages (from torch>=1.11.0->sentence-transformers) (12.4.127)\n",
            "Requirement already satisfied: nvidia-cuda-runtime-cu12==12.4.127 in /usr/local/lib/python3.11/dist-packages (from torch>=1.11.0->sentence-transformers) (12.4.127)\n",
            "Requirement already satisfied: nvidia-cuda-cupti-cu12==12.4.127 in /usr/local/lib/python3.11/dist-packages (from torch>=1.11.0->sentence-transformers) (12.4.127)\n",
            "Requirement already satisfied: nvidia-cudnn-cu12==9.1.0.70 in /usr/local/lib/python3.11/dist-packages (from torch>=1.11.0->sentence-transformers) (9.1.0.70)\n",
            "Requirement already satisfied: nvidia-cublas-cu12==12.4.5.8 in /usr/local/lib/python3.11/dist-packages (from torch>=1.11.0->sentence-transformers) (12.4.5.8)\n",
            "Requirement already satisfied: nvidia-cufft-cu12==11.2.1.3 in /usr/local/lib/python3.11/dist-packages (from torch>=1.11.0->sentence-transformers) (11.2.1.3)\n",
            "Requirement already satisfied: nvidia-curand-cu12==10.3.5.147 in /usr/local/lib/python3.11/dist-packages (from torch>=1.11.0->sentence-transformers) (10.3.5.147)\n",
            "Requirement already satisfied: nvidia-cusolver-cu12==11.6.1.9 in /usr/local/lib/python3.11/dist-packages (from torch>=1.11.0->sentence-transformers) (11.6.1.9)\n",
            "Requirement already satisfied: nvidia-cusparse-cu12==12.3.1.170 in /usr/local/lib/python3.11/dist-packages (from torch>=1.11.0->sentence-transformers) (12.3.1.170)\n",
            "Requirement already satisfied: nvidia-cusparselt-cu12==0.6.2 in /usr/local/lib/python3.11/dist-packages (from torch>=1.11.0->sentence-transformers) (0.6.2)\n",
            "Requirement already satisfied: nvidia-nccl-cu12==2.21.5 in /usr/local/lib/python3.11/dist-packages (from torch>=1.11.0->sentence-transformers) (2.21.5)\n",
            "Requirement already satisfied: nvidia-nvtx-cu12==12.4.127 in /usr/local/lib/python3.11/dist-packages (from torch>=1.11.0->sentence-transformers) (12.4.127)\n",
            "Requirement already satisfied: nvidia-nvjitlink-cu12==12.4.127 in /usr/local/lib/python3.11/dist-packages (from torch>=1.11.0->sentence-transformers) (12.4.127)\n",
            "Requirement already satisfied: triton==3.2.0 in /usr/local/lib/python3.11/dist-packages (from torch>=1.11.0->sentence-transformers) (3.2.0)\n",
            "Requirement already satisfied: sympy==1.13.1 in /usr/local/lib/python3.11/dist-packages (from torch>=1.11.0->sentence-transformers) (1.13.1)\n",
            "Requirement already satisfied: mpmath<1.4,>=1.1.0 in /usr/local/lib/python3.11/dist-packages (from sympy==1.13.1->torch>=1.11.0->sentence-transformers) (1.3.0)\n",
            "Requirement already satisfied: numpy>=1.17 in /usr/local/lib/python3.11/dist-packages (from transformers<5.0.0,>=4.41.0->sentence-transformers) (2.0.2)\n",
            "Requirement already satisfied: regex!=2019.12.17 in /usr/local/lib/python3.11/dist-packages (from transformers<5.0.0,>=4.41.0->sentence-transformers) (2024.11.6)\n",
            "Requirement already satisfied: tokenizers<0.22,>=0.21 in /usr/local/lib/python3.11/dist-packages (from transformers<5.0.0,>=4.41.0->sentence-transformers) (0.21.1)\n",
            "Requirement already satisfied: safetensors>=0.4.3 in /usr/local/lib/python3.11/dist-packages (from transformers<5.0.0,>=4.41.0->sentence-transformers) (0.5.3)\n",
            "Requirement already satisfied: joblib>=1.2.0 in /usr/local/lib/python3.11/dist-packages (from scikit-learn->sentence-transformers) (1.5.1)\n",
            "Requirement already satisfied: threadpoolctl>=3.1.0 in /usr/local/lib/python3.11/dist-packages (from scikit-learn->sentence-transformers) (3.6.0)\n",
            "Requirement already satisfied: MarkupSafe>=2.0 in /usr/local/lib/python3.11/dist-packages (from jinja2->torch>=1.11.0->sentence-transformers) (3.0.2)\n",
            "Requirement already satisfied: charset-normalizer<4,>=2 in /usr/local/lib/python3.11/dist-packages (from requests->huggingface-hub>=0.20.0->sentence-transformers) (3.4.2)\n",
            "Requirement already satisfied: idna<4,>=2.5 in /usr/local/lib/python3.11/dist-packages (from requests->huggingface-hub>=0.20.0->sentence-transformers) (3.10)\n",
            "Requirement already satisfied: urllib3<3,>=1.21.1 in /usr/local/lib/python3.11/dist-packages (from requests->huggingface-hub>=0.20.0->sentence-transformers) (2.4.0)\n",
            "Requirement already satisfied: certifi>=2017.4.17 in /usr/local/lib/python3.11/dist-packages (from requests->huggingface-hub>=0.20.0->sentence-transformers) (2025.4.26)\n",
            "Collecting datamapplot==0.5.1\n",
            "  Downloading datamapplot-0.5.1-py3-none-any.whl.metadata (6.2 kB)\n",
            "Requirement already satisfied: colorcet in /usr/local/lib/python3.11/dist-packages (from datamapplot==0.5.1) (3.1.0)\n",
            "Collecting colorspacious>=1.1 (from datamapplot==0.5.1)\n",
            "  Downloading colorspacious-1.1.2-py2.py3-none-any.whl.metadata (3.6 kB)\n",
            "Requirement already satisfied: dask<2025.0.1,>=2024.4.1 in /usr/local/lib/python3.11/dist-packages (from dask[complete]<2025.0.1,>=2024.4.1->datamapplot==0.5.1) (2024.12.1)\n",
            "Collecting datashader>=0.16 (from datamapplot==0.5.1)\n",
            "  Downloading datashader-0.18.1-py3-none-any.whl.metadata (7.6 kB)\n",
            "Requirement already satisfied: importlib-resources in /usr/local/lib/python3.11/dist-packages (from datamapplot==0.5.1) (6.5.2)\n",
            "Requirement already satisfied: jinja2 in /usr/local/lib/python3.11/dist-packages (from datamapplot==0.5.1) (3.1.6)\n",
            "Requirement already satisfied: matplotlib>=3.8 in /usr/local/lib/python3.11/dist-packages (from datamapplot==0.5.1) (3.10.0)\n",
            "Requirement already satisfied: numba>=0.56 in /usr/local/lib/python3.11/dist-packages (from datamapplot==0.5.1) (0.60.0)\n",
            "Requirement already satisfied: numpy>=1.21 in /usr/local/lib/python3.11/dist-packages (from datamapplot==0.5.1) (2.0.2)\n",
            "Requirement already satisfied: pandas>=1.0 in /usr/local/lib/python3.11/dist-packages (from datamapplot==0.5.1) (2.2.2)\n",
            "Requirement already satisfied: pyarrow in /usr/local/lib/python3.11/dist-packages (from datamapplot==0.5.1) (18.1.0)\n",
            "Collecting pylabeladjust (from datamapplot==0.5.1)\n",
            "  Downloading pylabeladjust-0.1.13-py3-none-any.whl.metadata (8.2 kB)\n",
            "Requirement already satisfied: requests in /usr/local/lib/python3.11/dist-packages (from datamapplot==0.5.1) (2.32.3)\n",
            "Collecting rcssmin>=1.1.2 (from datamapplot==0.5.1)\n",
            "  Downloading rcssmin-1.2.1-cp311-cp311-manylinux1_x86_64.whl.metadata (4.7 kB)\n",
            "Collecting rjsmin>=1.2.2 (from datamapplot==0.5.1)\n",
            "  Downloading rjsmin-1.2.4-cp311-cp311-manylinux1_x86_64.whl.metadata (4.5 kB)\n",
            "Requirement already satisfied: scikit-image>=0.22 in /usr/local/lib/python3.11/dist-packages (from datamapplot==0.5.1) (0.25.2)\n",
            "Requirement already satisfied: scikit-learn>=1.1 in /usr/local/lib/python3.11/dist-packages (from datamapplot==0.5.1) (1.6.1)\n",
            "Requirement already satisfied: platformdirs in /usr/local/lib/python3.11/dist-packages (from datamapplot==0.5.1) (4.3.8)\n",
            "Requirement already satisfied: click>=8.1 in /usr/local/lib/python3.11/dist-packages (from dask<2025.0.1,>=2024.4.1->dask[complete]<2025.0.1,>=2024.4.1->datamapplot==0.5.1) (8.2.1)\n",
            "Requirement already satisfied: cloudpickle>=3.0.0 in /usr/local/lib/python3.11/dist-packages (from dask<2025.0.1,>=2024.4.1->dask[complete]<2025.0.1,>=2024.4.1->datamapplot==0.5.1) (3.1.1)\n",
            "Requirement already satisfied: fsspec>=2021.09.0 in /usr/local/lib/python3.11/dist-packages (from dask<2025.0.1,>=2024.4.1->dask[complete]<2025.0.1,>=2024.4.1->datamapplot==0.5.1) (2025.3.2)\n",
            "Requirement already satisfied: packaging>=20.0 in /usr/local/lib/python3.11/dist-packages (from dask<2025.0.1,>=2024.4.1->dask[complete]<2025.0.1,>=2024.4.1->datamapplot==0.5.1) (24.2)\n",
            "Requirement already satisfied: partd>=1.4.0 in /usr/local/lib/python3.11/dist-packages (from dask<2025.0.1,>=2024.4.1->dask[complete]<2025.0.1,>=2024.4.1->datamapplot==0.5.1) (1.4.2)\n",
            "Requirement already satisfied: pyyaml>=5.3.1 in /usr/local/lib/python3.11/dist-packages (from dask<2025.0.1,>=2024.4.1->dask[complete]<2025.0.1,>=2024.4.1->datamapplot==0.5.1) (6.0.2)\n",
            "Requirement already satisfied: toolz>=0.10.0 in /usr/local/lib/python3.11/dist-packages (from dask<2025.0.1,>=2024.4.1->dask[complete]<2025.0.1,>=2024.4.1->datamapplot==0.5.1) (0.12.1)\n",
            "Requirement already satisfied: importlib_metadata>=4.13.0 in /usr/local/lib/python3.11/dist-packages (from dask<2025.0.1,>=2024.4.1->dask[complete]<2025.0.1,>=2024.4.1->datamapplot==0.5.1) (8.7.0)\n",
            "Collecting lz4>=4.3.2 (from dask[complete]<2025.0.1,>=2024.4.1->datamapplot==0.5.1)\n",
            "  Downloading lz4-4.4.4-cp311-cp311-manylinux_2_17_x86_64.manylinux2014_x86_64.whl.metadata (3.8 kB)\n",
            "Requirement already satisfied: multipledispatch in /usr/local/lib/python3.11/dist-packages (from datashader>=0.16->datamapplot==0.5.1) (1.0.0)\n",
            "Requirement already satisfied: param in /usr/local/lib/python3.11/dist-packages (from datashader>=0.16->datamapplot==0.5.1) (2.2.0)\n",
            "Collecting pyct (from datashader>=0.16->datamapplot==0.5.1)\n",
            "  Downloading pyct-0.5.0-py2.py3-none-any.whl.metadata (7.4 kB)\n",
            "Requirement already satisfied: scipy in /usr/local/lib/python3.11/dist-packages (from datashader>=0.16->datamapplot==0.5.1) (1.15.3)\n",
            "Requirement already satisfied: xarray in /usr/local/lib/python3.11/dist-packages (from datashader>=0.16->datamapplot==0.5.1) (2025.3.1)\n",
            "Requirement already satisfied: contourpy>=1.0.1 in /usr/local/lib/python3.11/dist-packages (from matplotlib>=3.8->datamapplot==0.5.1) (1.3.2)\n",
            "Requirement already satisfied: cycler>=0.10 in /usr/local/lib/python3.11/dist-packages (from matplotlib>=3.8->datamapplot==0.5.1) (0.12.1)\n",
            "Requirement already satisfied: fonttools>=4.22.0 in /usr/local/lib/python3.11/dist-packages (from matplotlib>=3.8->datamapplot==0.5.1) (4.58.1)\n",
            "Requirement already satisfied: kiwisolver>=1.3.1 in /usr/local/lib/python3.11/dist-packages (from matplotlib>=3.8->datamapplot==0.5.1) (1.4.8)\n",
            "Requirement already satisfied: pillow>=8 in /usr/local/lib/python3.11/dist-packages (from matplotlib>=3.8->datamapplot==0.5.1) (11.2.1)\n",
            "Requirement already satisfied: pyparsing>=2.3.1 in /usr/local/lib/python3.11/dist-packages (from matplotlib>=3.8->datamapplot==0.5.1) (3.2.3)\n",
            "Requirement already satisfied: python-dateutil>=2.7 in /usr/local/lib/python3.11/dist-packages (from matplotlib>=3.8->datamapplot==0.5.1) (2.9.0.post0)\n",
            "Requirement already satisfied: llvmlite<0.44,>=0.43.0dev0 in /usr/local/lib/python3.11/dist-packages (from numba>=0.56->datamapplot==0.5.1) (0.43.0)\n",
            "Requirement already satisfied: pytz>=2020.1 in /usr/local/lib/python3.11/dist-packages (from pandas>=1.0->datamapplot==0.5.1) (2025.2)\n",
            "Requirement already satisfied: tzdata>=2022.7 in /usr/local/lib/python3.11/dist-packages (from pandas>=1.0->datamapplot==0.5.1) (2025.2)\n",
            "Requirement already satisfied: networkx>=3.0 in /usr/local/lib/python3.11/dist-packages (from scikit-image>=0.22->datamapplot==0.5.1) (3.5)\n",
            "Requirement already satisfied: imageio!=2.35.0,>=2.33 in /usr/local/lib/python3.11/dist-packages (from scikit-image>=0.22->datamapplot==0.5.1) (2.37.0)\n",
            "Requirement already satisfied: tifffile>=2022.8.12 in /usr/local/lib/python3.11/dist-packages (from scikit-image>=0.22->datamapplot==0.5.1) (2025.6.1)\n",
            "Requirement already satisfied: lazy-loader>=0.4 in /usr/local/lib/python3.11/dist-packages (from scikit-image>=0.22->datamapplot==0.5.1) (0.4)\n",
            "Requirement already satisfied: joblib>=1.2.0 in /usr/local/lib/python3.11/dist-packages (from scikit-learn>=1.1->datamapplot==0.5.1) (1.5.1)\n",
            "Requirement already satisfied: threadpoolctl>=3.1.0 in /usr/local/lib/python3.11/dist-packages (from scikit-learn>=1.1->datamapplot==0.5.1) (3.6.0)\n",
            "Requirement already satisfied: MarkupSafe>=2.0 in /usr/local/lib/python3.11/dist-packages (from jinja2->datamapplot==0.5.1) (3.0.2)\n",
            "Collecting Pyqtree<2.0.0,>=1.0.0 (from pylabeladjust->datamapplot==0.5.1)\n",
            "  Downloading Pyqtree-1.0.0.tar.gz (5.2 kB)\n",
            "  Preparing metadata (setup.py) ... \u001b[?25l\u001b[?25hdone\n",
            "Requirement already satisfied: tqdm<5.0.0,>=4.66.2 in /usr/local/lib/python3.11/dist-packages (from pylabeladjust->datamapplot==0.5.1) (4.67.1)\n",
            "Requirement already satisfied: charset-normalizer<4,>=2 in /usr/local/lib/python3.11/dist-packages (from requests->datamapplot==0.5.1) (3.4.2)\n",
            "Requirement already satisfied: idna<4,>=2.5 in /usr/local/lib/python3.11/dist-packages (from requests->datamapplot==0.5.1) (3.10)\n",
            "Requirement already satisfied: urllib3<3,>=1.21.1 in /usr/local/lib/python3.11/dist-packages (from requests->datamapplot==0.5.1) (2.4.0)\n",
            "Requirement already satisfied: certifi>=2017.4.17 in /usr/local/lib/python3.11/dist-packages (from requests->datamapplot==0.5.1) (2025.4.26)\n",
            "Requirement already satisfied: zipp>=3.20 in /usr/local/lib/python3.11/dist-packages (from importlib_metadata>=4.13.0->dask<2025.0.1,>=2024.4.1->dask[complete]<2025.0.1,>=2024.4.1->datamapplot==0.5.1) (3.22.0)\n",
            "Requirement already satisfied: locket in /usr/local/lib/python3.11/dist-packages (from partd>=1.4.0->dask<2025.0.1,>=2024.4.1->dask[complete]<2025.0.1,>=2024.4.1->datamapplot==0.5.1) (1.0.0)\n",
            "Requirement already satisfied: six>=1.5 in /usr/local/lib/python3.11/dist-packages (from python-dateutil>=2.7->matplotlib>=3.8->datamapplot==0.5.1) (1.17.0)\n",
            "Requirement already satisfied: dask-expr<1.2,>=1.1 in /usr/local/lib/python3.11/dist-packages (from dask<2025.0.1,>=2024.4.1->dask[complete]<2025.0.1,>=2024.4.1->datamapplot==0.5.1) (1.1.21)\n",
            "Requirement already satisfied: distributed==2024.12.1 in /usr/local/lib/python3.11/dist-packages (from dask<2025.0.1,>=2024.4.1->dask[complete]<2025.0.1,>=2024.4.1->datamapplot==0.5.1) (2024.12.1)\n",
            "Requirement already satisfied: bokeh>=3.1.0 in /usr/local/lib/python3.11/dist-packages (from dask<2025.0.1,>=2024.4.1->dask[complete]<2025.0.1,>=2024.4.1->datamapplot==0.5.1) (3.7.3)\n",
            "Requirement already satisfied: msgpack>=1.0.2 in /usr/local/lib/python3.11/dist-packages (from distributed==2024.12.1->dask<2025.0.1,>=2024.4.1->dask[complete]<2025.0.1,>=2024.4.1->datamapplot==0.5.1) (1.1.0)\n",
            "Requirement already satisfied: psutil>=5.8.0 in /usr/local/lib/python3.11/dist-packages (from distributed==2024.12.1->dask<2025.0.1,>=2024.4.1->dask[complete]<2025.0.1,>=2024.4.1->datamapplot==0.5.1) (5.9.5)\n",
            "Requirement already satisfied: sortedcontainers>=2.0.5 in /usr/local/lib/python3.11/dist-packages (from distributed==2024.12.1->dask<2025.0.1,>=2024.4.1->dask[complete]<2025.0.1,>=2024.4.1->datamapplot==0.5.1) (2.4.0)\n",
            "Requirement already satisfied: tblib>=1.6.0 in /usr/local/lib/python3.11/dist-packages (from distributed==2024.12.1->dask<2025.0.1,>=2024.4.1->dask[complete]<2025.0.1,>=2024.4.1->datamapplot==0.5.1) (3.1.0)\n",
            "Requirement already satisfied: tornado>=6.2.0 in /usr/local/lib/python3.11/dist-packages (from distributed==2024.12.1->dask<2025.0.1,>=2024.4.1->dask[complete]<2025.0.1,>=2024.4.1->datamapplot==0.5.1) (6.4.2)\n",
            "Requirement already satisfied: zict>=3.0.0 in /usr/local/lib/python3.11/dist-packages (from distributed==2024.12.1->dask<2025.0.1,>=2024.4.1->dask[complete]<2025.0.1,>=2024.4.1->datamapplot==0.5.1) (3.0.0)\n",
            "Requirement already satisfied: narwhals>=1.13 in /usr/local/lib/python3.11/dist-packages (from bokeh>=3.1.0->dask<2025.0.1,>=2024.4.1->dask[complete]<2025.0.1,>=2024.4.1->datamapplot==0.5.1) (1.41.0)\n",
            "Requirement already satisfied: xyzservices>=2021.09.1 in /usr/local/lib/python3.11/dist-packages (from bokeh>=3.1.0->dask<2025.0.1,>=2024.4.1->dask[complete]<2025.0.1,>=2024.4.1->datamapplot==0.5.1) (2025.4.0)\n",
            "Downloading datamapplot-0.5.1-py3-none-any.whl (150 kB)\n",
            "\u001b[2K   \u001b[90m━━━━━━━━━━━━━━━━━━━━━━━━━━━━━━━━━━━━━━━━\u001b[0m \u001b[32m150.9/150.9 kB\u001b[0m \u001b[31m4.7 MB/s\u001b[0m eta \u001b[36m0:00:00\u001b[0m\n",
            "\u001b[?25hDownloading colorspacious-1.1.2-py2.py3-none-any.whl (37 kB)\n",
            "Downloading datashader-0.18.1-py3-none-any.whl (18.3 MB)\n",
            "\u001b[2K   \u001b[90m━━━━━━━━━━━━━━━━━━━━━━━━━━━━━━━━━━━━━━━━\u001b[0m \u001b[32m18.3/18.3 MB\u001b[0m \u001b[31m61.8 MB/s\u001b[0m eta \u001b[36m0:00:00\u001b[0m\n",
            "\u001b[?25hDownloading rcssmin-1.2.1-cp311-cp311-manylinux1_x86_64.whl (49 kB)\n",
            "\u001b[2K   \u001b[90m━━━━━━━━━━━━━━━━━━━━━━━━━━━━━━━━━━━━━━━━\u001b[0m \u001b[32m49.2/49.2 kB\u001b[0m \u001b[31m3.5 MB/s\u001b[0m eta \u001b[36m0:00:00\u001b[0m\n",
            "\u001b[?25hDownloading rjsmin-1.2.4-cp311-cp311-manylinux1_x86_64.whl (31 kB)\n",
            "Downloading pylabeladjust-0.1.13-py3-none-any.whl (19 kB)\n",
            "Downloading lz4-4.4.4-cp311-cp311-manylinux_2_17_x86_64.manylinux2014_x86_64.whl (1.3 MB)\n",
            "\u001b[2K   \u001b[90m━━━━━━━━━━━━━━━━━━━━━━━━━━━━━━━━━━━━━━━━\u001b[0m \u001b[32m1.3/1.3 MB\u001b[0m \u001b[31m70.0 MB/s\u001b[0m eta \u001b[36m0:00:00\u001b[0m\n",
            "\u001b[?25hDownloading pyct-0.5.0-py2.py3-none-any.whl (15 kB)\n",
            "Building wheels for collected packages: Pyqtree\n",
            "  Building wheel for Pyqtree (setup.py) ... \u001b[?25l\u001b[?25hdone\n",
            "  Created wheel for Pyqtree: filename=Pyqtree-1.0.0-py3-none-any.whl size=5969 sha256=7e97f2b647fa59ff3dbaec590e2f02169876c67302b6951b74669a728dea0645\n",
            "  Stored in directory: /root/.cache/pip/wheels/4c/87/93/c44242a244e4cea2cb9f5414ec450ababd7acac8b3377c3f9e\n",
            "Successfully built Pyqtree\n",
            "Installing collected packages: rjsmin, rcssmin, Pyqtree, pyct, lz4, colorspacious, pylabeladjust, datashader, datamapplot\n",
            "Successfully installed Pyqtree-1.0.0 colorspacious-1.1.2 datamapplot-0.5.1 datashader-0.18.1 lz4-4.4.4 pyct-0.5.0 pylabeladjust-0.1.13 rcssmin-1.2.1 rjsmin-1.2.4\n",
            "Requirement already satisfied: pandas==2.2.2 in /usr/local/lib/python3.11/dist-packages (2.2.2)\n",
            "Requirement already satisfied: numpy>=1.23.2 in /usr/local/lib/python3.11/dist-packages (from pandas==2.2.2) (2.0.2)\n",
            "Requirement already satisfied: python-dateutil>=2.8.2 in /usr/local/lib/python3.11/dist-packages (from pandas==2.2.2) (2.9.0.post0)\n",
            "Requirement already satisfied: pytz>=2020.1 in /usr/local/lib/python3.11/dist-packages (from pandas==2.2.2) (2025.2)\n",
            "Requirement already satisfied: tzdata>=2022.7 in /usr/local/lib/python3.11/dist-packages (from pandas==2.2.2) (2025.2)\n",
            "Requirement already satisfied: six>=1.5 in /usr/local/lib/python3.11/dist-packages (from python-dateutil>=2.8.2->pandas==2.2.2) (1.17.0)\n",
            "Collecting numpy==2.0.0\n",
            "  Downloading numpy-2.0.0-cp311-cp311-manylinux_2_17_x86_64.manylinux2014_x86_64.whl.metadata (60 kB)\n",
            "\u001b[2K     \u001b[90m━━━━━━━━━━━━━━━━━━━━━━━━━━━━━━━━━━━━━━━━\u001b[0m \u001b[32m60.9/60.9 kB\u001b[0m \u001b[31m2.4 MB/s\u001b[0m eta \u001b[36m0:00:00\u001b[0m\n",
            "\u001b[?25hDownloading numpy-2.0.0-cp311-cp311-manylinux_2_17_x86_64.manylinux2014_x86_64.whl (19.3 MB)\n",
            "\u001b[2K   \u001b[90m━━━━━━━━━━━━━━━━━━━━━━━━━━━━━━━━━━━━━━━━\u001b[0m \u001b[32m19.3/19.3 MB\u001b[0m \u001b[31m26.3 MB/s\u001b[0m eta \u001b[36m0:00:00\u001b[0m\n",
            "\u001b[?25hInstalling collected packages: numpy\n",
            "  Attempting uninstall: numpy\n",
            "    Found existing installation: numpy 2.0.2\n",
            "    Uninstalling numpy-2.0.2:\n",
            "      Successfully uninstalled numpy-2.0.2\n",
            "Successfully installed numpy-2.0.0\n"
          ]
        },
        {
          "output_type": "stream",
          "name": "stderr",
          "text": [
            "/usr/local/lib/python3.11/dist-packages/huggingface_hub/utils/_auth.py:94: UserWarning: \n",
            "The secret `HF_TOKEN` does not exist in your Colab secrets.\n",
            "To authenticate with the Hugging Face Hub, create a token in your settings tab (https://huggingface.co/settings/tokens), set it as secret in your Google Colab and restart your session.\n",
            "You will be able to reuse this secret in all of your notebooks.\n",
            "Please note that authentication is recommended but still optional to access public models or datasets.\n",
            "  warnings.warn(\n"
          ]
        },
        {
          "output_type": "display_data",
          "data": {
            "text/plain": [
              "modules.json:   0%|          | 0.00/229 [00:00<?, ?B/s]"
            ],
            "application/vnd.jupyter.widget-view+json": {
              "version_major": 2,
              "version_minor": 0,
              "model_id": "fbe9d53e04eb4437bbab4066313e68ae"
            }
          },
          "metadata": {}
        },
        {
          "output_type": "display_data",
          "data": {
            "text/plain": [
              "config_sentence_transformers.json:   0%|          | 0.00/116 [00:00<?, ?B/s]"
            ],
            "application/vnd.jupyter.widget-view+json": {
              "version_major": 2,
              "version_minor": 0,
              "model_id": "d4cc992f547740beb34c2029526ef204"
            }
          },
          "metadata": {}
        },
        {
          "output_type": "display_data",
          "data": {
            "text/plain": [
              "README.md:   0%|          | 0.00/3.88k [00:00<?, ?B/s]"
            ],
            "application/vnd.jupyter.widget-view+json": {
              "version_major": 2,
              "version_minor": 0,
              "model_id": "f14a7ce431a541ddacff4c85d574777d"
            }
          },
          "metadata": {}
        },
        {
          "output_type": "display_data",
          "data": {
            "text/plain": [
              "sentence_bert_config.json:   0%|          | 0.00/53.0 [00:00<?, ?B/s]"
            ],
            "application/vnd.jupyter.widget-view+json": {
              "version_major": 2,
              "version_minor": 0,
              "model_id": "07da5d54cc124abd88b55c59a62b5e85"
            }
          },
          "metadata": {}
        },
        {
          "output_type": "display_data",
          "data": {
            "text/plain": [
              "config.json:   0%|          | 0.00/671 [00:00<?, ?B/s]"
            ],
            "application/vnd.jupyter.widget-view+json": {
              "version_major": 2,
              "version_minor": 0,
              "model_id": "52e7feded99c43c58657c0587643ba08"
            }
          },
          "metadata": {}
        },
        {
          "output_type": "display_data",
          "data": {
            "text/plain": [
              "pytorch_model.bin:   0%|          | 0.00/438M [00:00<?, ?B/s]"
            ],
            "application/vnd.jupyter.widget-view+json": {
              "version_major": 2,
              "version_minor": 0,
              "model_id": "db219f7f51174db9813a6c26741467e0"
            }
          },
          "metadata": {}
        },
        {
          "output_type": "display_data",
          "data": {
            "text/plain": [
              "model.safetensors:   0%|          | 0.00/438M [00:00<?, ?B/s]"
            ],
            "application/vnd.jupyter.widget-view+json": {
              "version_major": 2,
              "version_minor": 0,
              "model_id": "8c16d51aae0d4d1bb3a7c0079d3cd8bb"
            }
          },
          "metadata": {}
        },
        {
          "output_type": "display_data",
          "data": {
            "text/plain": [
              "tokenizer_config.json:   0%|          | 0.00/440 [00:00<?, ?B/s]"
            ],
            "application/vnd.jupyter.widget-view+json": {
              "version_major": 2,
              "version_minor": 0,
              "model_id": "1913ac94b2b54a14a60ad49d80b7c14e"
            }
          },
          "metadata": {}
        },
        {
          "output_type": "display_data",
          "data": {
            "text/plain": [
              "vocab.txt:   0%|          | 0.00/232k [00:00<?, ?B/s]"
            ],
            "application/vnd.jupyter.widget-view+json": {
              "version_major": 2,
              "version_minor": 0,
              "model_id": "517aed03607b4d98b22120a1fc9eb363"
            }
          },
          "metadata": {}
        },
        {
          "output_type": "display_data",
          "data": {
            "text/plain": [
              "tokenizer.json:   0%|          | 0.00/466k [00:00<?, ?B/s]"
            ],
            "application/vnd.jupyter.widget-view+json": {
              "version_major": 2,
              "version_minor": 0,
              "model_id": "262a93a05f024fd7b63034dacd9d4395"
            }
          },
          "metadata": {}
        },
        {
          "output_type": "display_data",
          "data": {
            "text/plain": [
              "special_tokens_map.json:   0%|          | 0.00/239 [00:00<?, ?B/s]"
            ],
            "application/vnd.jupyter.widget-view+json": {
              "version_major": 2,
              "version_minor": 0,
              "model_id": "ba30035d53be46949387a83d36b27462"
            }
          },
          "metadata": {}
        },
        {
          "output_type": "display_data",
          "data": {
            "text/plain": [
              "config.json:   0%|          | 0.00/190 [00:00<?, ?B/s]"
            ],
            "application/vnd.jupyter.widget-view+json": {
              "version_major": 2,
              "version_minor": 0,
              "model_id": "bf48b1385cd54b809ff993f3896f60a8"
            }
          },
          "metadata": {}
        }
      ],
      "source": [
        "# general purpose\n",
        "! pip install bertopic==0.17.0\n",
        "! pip install -U sentence-transformers\n",
        "! pip install datamapplot==0.5.1\n",
        "! pip install pandas==2.2.2\n",
        "! pip install numpy==2.0.0\n",
        "#! pip install octis==1.12.1\n",
        "#! pip install contextualized-topic-models\n",
        "#! pip install gensim==3.5.0\n",
        "#! pip install scipy==1.1.0\n",
        "\n",
        "# data\n",
        "from google.colab import drive, files\n",
        "import pandas as pd\n",
        "pd.set_option('display.max_colwidth', 2000)\n",
        "import seaborn as sns\n",
        "from scipy.sparse import csr_matrix\n",
        "import numpy as np\n",
        "\n",
        "# clustering\n",
        "from sentence_transformers import SentenceTransformer\n",
        "sentence_model = SentenceTransformer(\"AI-Growth-Lab/PatentSBERTa\") #all-MiniLM-L6-v2\n",
        "from bertopic import BERTopic\n",
        "from umap import UMAP\n",
        "from hdbscan import HDBSCAN\n",
        "from sklearn.feature_extraction.text import CountVectorizer\n",
        "# Fine-tune your topic representations\n",
        "from bertopic.representation import KeyBERTInspired\n",
        "from bertopic.representation import MaximalMarginalRelevance\n",
        "\n",
        "# graphs & plots\n",
        "import plotly.express as px\n",
        "import plotly.io as pio\n",
        "import datamapplot\n",
        "import matplotlib.pyplot as plt\n",
        "import matplotlib.colors as mcolors\n",
        "from matplotlib.colors import TwoSlopeNorm\n",
        "\n",
        "# Distance computing\n",
        "from sklearn.metrics.pairwise import cosine_similarity\n",
        "\n",
        "# Classification\n",
        "from sklearn.feature_extraction.text import TfidfVectorizer\n",
        "from sklearn.model_selection import train_test_split\n",
        "from sklearn.metrics import make_scorer, precision_score, recall_score, f1_score\n",
        "from sklearn.model_selection import GridSearchCV\n",
        "from sklearn.linear_model import LogisticRegression\n",
        "from sklearn.svm import LinearSVC\n",
        "from sklearn.ensemble import RandomForestClassifier\n",
        "import xgboost as xgb\n",
        "\n",
        "# Tests\n",
        "from itertools import combinations"
      ]
    },
    {
      "cell_type": "markdown",
      "metadata": {
        "id": "5wS3nSnxG8nC"
      },
      "source": [
        "# Data"
      ]
    },
    {
      "cell_type": "markdown",
      "metadata": {
        "id": "umBZ-hb1gEg7"
      },
      "source": [
        "For this project, we're taking 107'603 patents from Google. The purpose is to use a ML model to classify these patents and analyse the work Google made the past few years regarding internet cookies.\n",
        "\n",
        "For this work, the data were collected on Google Patents using BigQuery retrieving Google past patents before year 2025."
      ]
    },
    {
      "cell_type": "markdown",
      "metadata": {
        "id": "1-DYnAO5v8of"
      },
      "source": [
        "## Data source"
      ]
    },
    {
      "cell_type": "markdown",
      "metadata": {
        "id": "_BSHl9qLv-6a"
      },
      "source": [
        "--> How did we got these data ? How was the query ? etc."
      ]
    },
    {
      "cell_type": "markdown",
      "metadata": {
        "id": "p1STXnFiZYdP"
      },
      "source": [
        "## Import data"
      ]
    },
    {
      "cell_type": "code",
      "execution_count": 2,
      "metadata": {
        "id": "QBgckTR9Gnow"
      },
      "outputs": [],
      "source": [
        "# Import data with Drive or install Drive with collab interface\n",
        "#drive.mount('/content/drive')"
      ]
    },
    {
      "cell_type": "code",
      "execution_count": 3,
      "metadata": {
        "id": "VM8fuZBEGv6Q"
      },
      "outputs": [],
      "source": [
        "# Create panda dataset\n",
        "patents = pd.read_excel('/content/drive/MyDrive/bq-results-20250211-170449-1739293514946.xlsx')"
      ]
    },
    {
      "cell_type": "markdown",
      "metadata": {
        "id": "7kS_pVU0ZcUE"
      },
      "source": [
        "## Quick analysis"
      ]
    },
    {
      "cell_type": "code",
      "execution_count": 4,
      "metadata": {
        "colab": {
          "base_uri": "https://localhost:8080/",
          "height": 744
        },
        "id": "9dntJtOkNC8f",
        "outputId": "fe3095d8-610d-40d1-ed3c-76ca1455d4f2"
      },
      "outputs": [
        {
          "output_type": "execute_result",
          "data": {
            "text/plain": [
              "   publication_number  \\\n",
              "0  DE-112022005472-T5   \n",
              "1       EP-3762908-B1   \n",
              "2       EP-3799705-B1   \n",
              "3       EP-3619654-B1   \n",
              "4       EP-4423673-A1   \n",
              "\n",
              "                                                                             title  \\\n",
              "0                                                                              NaN   \n",
              "1  Baby monitoring with intelligent audio cueing based on an analyzed video stream   \n",
              "2                                      Cooling electronic devices in a data center   \n",
              "3                      Continuous parametrizations of neural network layer weights   \n",
              "4      Self-improving llms through consistency-based self-generated demonstrations   \n",
              "\n",
              "   filing_date  publication_date  grant_date assignee_name  \\\n",
              "0     20221117          20240905           0    GOOGLE LLC   \n",
              "1     20190304          20240904    20240904    GOOGLE LLC   \n",
              "2     20191025          20240904    20240904    GOOGLE LLC   \n",
              "3     20190723          20240904    20240904    GOOGLE LLC   \n",
              "4     20231031          20240904           0    GOOGLE LLC   \n",
              "\n",
              "                                                                                                                                                                                                                                                                                                                                                                                                                                                                                                                                                                        abstract  \n",
              "0                                                                                                                                                                                                                                                                                                                                                                                                                                                                                                                                                                            NaN  \n",
              "1                                                                                                                                                                                                                                                                                                                                                                                                                                                                                                                                                                            NaN  \n",
              "2                                                                                                                                                                                                                                                                                                                                                                                                                                                                                                                                                                            NaN  \n",
              "3                                                                                                                                                                                                                                                                                                                                                                                                                                                                                                                                                                            NaN  \n",
              "4  Aspects of the disclosure are directed to automatically selecting examples in a prompt for an ELM to demonstrate how to perform tasks. Aspects of the disclosure can select and build a set of examples from ELM zero-shot outputs via predetermined criteria that can combine consistency, diversity, and repetition. In the zero-shot setting for three different LLMs, using only ELM predictions, aspects of the disclosure can improve performance up to 15% compared to zero-shot baselines and can match or exceed few-shot base-lines for a range of reasoning tasks.  "
            ],
            "text/html": [
              "\n",
              "  <div id=\"df-84783bc9-6259-426d-9218-f4aa64853189\" class=\"colab-df-container\">\n",
              "    <div>\n",
              "<style scoped>\n",
              "    .dataframe tbody tr th:only-of-type {\n",
              "        vertical-align: middle;\n",
              "    }\n",
              "\n",
              "    .dataframe tbody tr th {\n",
              "        vertical-align: top;\n",
              "    }\n",
              "\n",
              "    .dataframe thead th {\n",
              "        text-align: right;\n",
              "    }\n",
              "</style>\n",
              "<table border=\"1\" class=\"dataframe\">\n",
              "  <thead>\n",
              "    <tr style=\"text-align: right;\">\n",
              "      <th></th>\n",
              "      <th>publication_number</th>\n",
              "      <th>title</th>\n",
              "      <th>filing_date</th>\n",
              "      <th>publication_date</th>\n",
              "      <th>grant_date</th>\n",
              "      <th>assignee_name</th>\n",
              "      <th>abstract</th>\n",
              "    </tr>\n",
              "  </thead>\n",
              "  <tbody>\n",
              "    <tr>\n",
              "      <th>0</th>\n",
              "      <td>DE-112022005472-T5</td>\n",
              "      <td>NaN</td>\n",
              "      <td>20221117</td>\n",
              "      <td>20240905</td>\n",
              "      <td>0</td>\n",
              "      <td>GOOGLE LLC</td>\n",
              "      <td>NaN</td>\n",
              "    </tr>\n",
              "    <tr>\n",
              "      <th>1</th>\n",
              "      <td>EP-3762908-B1</td>\n",
              "      <td>Baby monitoring with intelligent audio cueing based on an analyzed video stream</td>\n",
              "      <td>20190304</td>\n",
              "      <td>20240904</td>\n",
              "      <td>20240904</td>\n",
              "      <td>GOOGLE LLC</td>\n",
              "      <td>NaN</td>\n",
              "    </tr>\n",
              "    <tr>\n",
              "      <th>2</th>\n",
              "      <td>EP-3799705-B1</td>\n",
              "      <td>Cooling electronic devices in a data center</td>\n",
              "      <td>20191025</td>\n",
              "      <td>20240904</td>\n",
              "      <td>20240904</td>\n",
              "      <td>GOOGLE LLC</td>\n",
              "      <td>NaN</td>\n",
              "    </tr>\n",
              "    <tr>\n",
              "      <th>3</th>\n",
              "      <td>EP-3619654-B1</td>\n",
              "      <td>Continuous parametrizations of neural network layer weights</td>\n",
              "      <td>20190723</td>\n",
              "      <td>20240904</td>\n",
              "      <td>20240904</td>\n",
              "      <td>GOOGLE LLC</td>\n",
              "      <td>NaN</td>\n",
              "    </tr>\n",
              "    <tr>\n",
              "      <th>4</th>\n",
              "      <td>EP-4423673-A1</td>\n",
              "      <td>Self-improving llms through consistency-based self-generated demonstrations</td>\n",
              "      <td>20231031</td>\n",
              "      <td>20240904</td>\n",
              "      <td>0</td>\n",
              "      <td>GOOGLE LLC</td>\n",
              "      <td>Aspects of the disclosure are directed to automatically selecting examples in a prompt for an ELM to demonstrate how to perform tasks. Aspects of the disclosure can select and build a set of examples from ELM zero-shot outputs via predetermined criteria that can combine consistency, diversity, and repetition. In the zero-shot setting for three different LLMs, using only ELM predictions, aspects of the disclosure can improve performance up to 15% compared to zero-shot baselines and can match or exceed few-shot base-lines for a range of reasoning tasks.</td>\n",
              "    </tr>\n",
              "  </tbody>\n",
              "</table>\n",
              "</div>\n",
              "    <div class=\"colab-df-buttons\">\n",
              "\n",
              "  <div class=\"colab-df-container\">\n",
              "    <button class=\"colab-df-convert\" onclick=\"convertToInteractive('df-84783bc9-6259-426d-9218-f4aa64853189')\"\n",
              "            title=\"Convert this dataframe to an interactive table.\"\n",
              "            style=\"display:none;\">\n",
              "\n",
              "  <svg xmlns=\"http://www.w3.org/2000/svg\" height=\"24px\" viewBox=\"0 -960 960 960\">\n",
              "    <path d=\"M120-120v-720h720v720H120Zm60-500h600v-160H180v160Zm220 220h160v-160H400v160Zm0 220h160v-160H400v160ZM180-400h160v-160H180v160Zm440 0h160v-160H620v160ZM180-180h160v-160H180v160Zm440 0h160v-160H620v160Z\"/>\n",
              "  </svg>\n",
              "    </button>\n",
              "\n",
              "  <style>\n",
              "    .colab-df-container {\n",
              "      display:flex;\n",
              "      gap: 12px;\n",
              "    }\n",
              "\n",
              "    .colab-df-convert {\n",
              "      background-color: #E8F0FE;\n",
              "      border: none;\n",
              "      border-radius: 50%;\n",
              "      cursor: pointer;\n",
              "      display: none;\n",
              "      fill: #1967D2;\n",
              "      height: 32px;\n",
              "      padding: 0 0 0 0;\n",
              "      width: 32px;\n",
              "    }\n",
              "\n",
              "    .colab-df-convert:hover {\n",
              "      background-color: #E2EBFA;\n",
              "      box-shadow: 0px 1px 2px rgba(60, 64, 67, 0.3), 0px 1px 3px 1px rgba(60, 64, 67, 0.15);\n",
              "      fill: #174EA6;\n",
              "    }\n",
              "\n",
              "    .colab-df-buttons div {\n",
              "      margin-bottom: 4px;\n",
              "    }\n",
              "\n",
              "    [theme=dark] .colab-df-convert {\n",
              "      background-color: #3B4455;\n",
              "      fill: #D2E3FC;\n",
              "    }\n",
              "\n",
              "    [theme=dark] .colab-df-convert:hover {\n",
              "      background-color: #434B5C;\n",
              "      box-shadow: 0px 1px 3px 1px rgba(0, 0, 0, 0.15);\n",
              "      filter: drop-shadow(0px 1px 2px rgba(0, 0, 0, 0.3));\n",
              "      fill: #FFFFFF;\n",
              "    }\n",
              "  </style>\n",
              "\n",
              "    <script>\n",
              "      const buttonEl =\n",
              "        document.querySelector('#df-84783bc9-6259-426d-9218-f4aa64853189 button.colab-df-convert');\n",
              "      buttonEl.style.display =\n",
              "        google.colab.kernel.accessAllowed ? 'block' : 'none';\n",
              "\n",
              "      async function convertToInteractive(key) {\n",
              "        const element = document.querySelector('#df-84783bc9-6259-426d-9218-f4aa64853189');\n",
              "        const dataTable =\n",
              "          await google.colab.kernel.invokeFunction('convertToInteractive',\n",
              "                                                    [key], {});\n",
              "        if (!dataTable) return;\n",
              "\n",
              "        const docLinkHtml = 'Like what you see? Visit the ' +\n",
              "          '<a target=\"_blank\" href=https://colab.research.google.com/notebooks/data_table.ipynb>data table notebook</a>'\n",
              "          + ' to learn more about interactive tables.';\n",
              "        element.innerHTML = '';\n",
              "        dataTable['output_type'] = 'display_data';\n",
              "        await google.colab.output.renderOutput(dataTable, element);\n",
              "        const docLink = document.createElement('div');\n",
              "        docLink.innerHTML = docLinkHtml;\n",
              "        element.appendChild(docLink);\n",
              "      }\n",
              "    </script>\n",
              "  </div>\n",
              "\n",
              "\n",
              "    <div id=\"df-3d548ca2-7af7-456d-a3df-ba46b41438c6\">\n",
              "      <button class=\"colab-df-quickchart\" onclick=\"quickchart('df-3d548ca2-7af7-456d-a3df-ba46b41438c6')\"\n",
              "                title=\"Suggest charts\"\n",
              "                style=\"display:none;\">\n",
              "\n",
              "<svg xmlns=\"http://www.w3.org/2000/svg\" height=\"24px\"viewBox=\"0 0 24 24\"\n",
              "     width=\"24px\">\n",
              "    <g>\n",
              "        <path d=\"M19 3H5c-1.1 0-2 .9-2 2v14c0 1.1.9 2 2 2h14c1.1 0 2-.9 2-2V5c0-1.1-.9-2-2-2zM9 17H7v-7h2v7zm4 0h-2V7h2v10zm4 0h-2v-4h2v4z\"/>\n",
              "    </g>\n",
              "</svg>\n",
              "      </button>\n",
              "\n",
              "<style>\n",
              "  .colab-df-quickchart {\n",
              "      --bg-color: #E8F0FE;\n",
              "      --fill-color: #1967D2;\n",
              "      --hover-bg-color: #E2EBFA;\n",
              "      --hover-fill-color: #174EA6;\n",
              "      --disabled-fill-color: #AAA;\n",
              "      --disabled-bg-color: #DDD;\n",
              "  }\n",
              "\n",
              "  [theme=dark] .colab-df-quickchart {\n",
              "      --bg-color: #3B4455;\n",
              "      --fill-color: #D2E3FC;\n",
              "      --hover-bg-color: #434B5C;\n",
              "      --hover-fill-color: #FFFFFF;\n",
              "      --disabled-bg-color: #3B4455;\n",
              "      --disabled-fill-color: #666;\n",
              "  }\n",
              "\n",
              "  .colab-df-quickchart {\n",
              "    background-color: var(--bg-color);\n",
              "    border: none;\n",
              "    border-radius: 50%;\n",
              "    cursor: pointer;\n",
              "    display: none;\n",
              "    fill: var(--fill-color);\n",
              "    height: 32px;\n",
              "    padding: 0;\n",
              "    width: 32px;\n",
              "  }\n",
              "\n",
              "  .colab-df-quickchart:hover {\n",
              "    background-color: var(--hover-bg-color);\n",
              "    box-shadow: 0 1px 2px rgba(60, 64, 67, 0.3), 0 1px 3px 1px rgba(60, 64, 67, 0.15);\n",
              "    fill: var(--button-hover-fill-color);\n",
              "  }\n",
              "\n",
              "  .colab-df-quickchart-complete:disabled,\n",
              "  .colab-df-quickchart-complete:disabled:hover {\n",
              "    background-color: var(--disabled-bg-color);\n",
              "    fill: var(--disabled-fill-color);\n",
              "    box-shadow: none;\n",
              "  }\n",
              "\n",
              "  .colab-df-spinner {\n",
              "    border: 2px solid var(--fill-color);\n",
              "    border-color: transparent;\n",
              "    border-bottom-color: var(--fill-color);\n",
              "    animation:\n",
              "      spin 1s steps(1) infinite;\n",
              "  }\n",
              "\n",
              "  @keyframes spin {\n",
              "    0% {\n",
              "      border-color: transparent;\n",
              "      border-bottom-color: var(--fill-color);\n",
              "      border-left-color: var(--fill-color);\n",
              "    }\n",
              "    20% {\n",
              "      border-color: transparent;\n",
              "      border-left-color: var(--fill-color);\n",
              "      border-top-color: var(--fill-color);\n",
              "    }\n",
              "    30% {\n",
              "      border-color: transparent;\n",
              "      border-left-color: var(--fill-color);\n",
              "      border-top-color: var(--fill-color);\n",
              "      border-right-color: var(--fill-color);\n",
              "    }\n",
              "    40% {\n",
              "      border-color: transparent;\n",
              "      border-right-color: var(--fill-color);\n",
              "      border-top-color: var(--fill-color);\n",
              "    }\n",
              "    60% {\n",
              "      border-color: transparent;\n",
              "      border-right-color: var(--fill-color);\n",
              "    }\n",
              "    80% {\n",
              "      border-color: transparent;\n",
              "      border-right-color: var(--fill-color);\n",
              "      border-bottom-color: var(--fill-color);\n",
              "    }\n",
              "    90% {\n",
              "      border-color: transparent;\n",
              "      border-bottom-color: var(--fill-color);\n",
              "    }\n",
              "  }\n",
              "</style>\n",
              "\n",
              "      <script>\n",
              "        async function quickchart(key) {\n",
              "          const quickchartButtonEl =\n",
              "            document.querySelector('#' + key + ' button');\n",
              "          quickchartButtonEl.disabled = true;  // To prevent multiple clicks.\n",
              "          quickchartButtonEl.classList.add('colab-df-spinner');\n",
              "          try {\n",
              "            const charts = await google.colab.kernel.invokeFunction(\n",
              "                'suggestCharts', [key], {});\n",
              "          } catch (error) {\n",
              "            console.error('Error during call to suggestCharts:', error);\n",
              "          }\n",
              "          quickchartButtonEl.classList.remove('colab-df-spinner');\n",
              "          quickchartButtonEl.classList.add('colab-df-quickchart-complete');\n",
              "        }\n",
              "        (() => {\n",
              "          let quickchartButtonEl =\n",
              "            document.querySelector('#df-3d548ca2-7af7-456d-a3df-ba46b41438c6 button');\n",
              "          quickchartButtonEl.style.display =\n",
              "            google.colab.kernel.accessAllowed ? 'block' : 'none';\n",
              "        })();\n",
              "      </script>\n",
              "    </div>\n",
              "\n",
              "    </div>\n",
              "  </div>\n"
            ],
            "application/vnd.google.colaboratory.intrinsic+json": {
              "type": "dataframe",
              "variable_name": "patents"
            }
          },
          "metadata": {},
          "execution_count": 4
        }
      ],
      "source": [
        "# visualization\n",
        "patents.head(5)"
      ]
    },
    {
      "cell_type": "code",
      "execution_count": 5,
      "metadata": {
        "colab": {
          "base_uri": "https://localhost:8080/"
        },
        "id": "ieLdm2aRNHOD",
        "outputId": "953b901e-66cd-49f0-80d1-6238ea407a97"
      },
      "outputs": [
        {
          "output_type": "execute_result",
          "data": {
            "text/plain": [
              "(107603, 7)"
            ]
          },
          "metadata": {},
          "execution_count": 5
        }
      ],
      "source": [
        "# Checking size\n",
        "patents.shape"
      ]
    },
    {
      "cell_type": "code",
      "execution_count": 6,
      "metadata": {
        "colab": {
          "base_uri": "https://localhost:8080/",
          "height": 304
        },
        "id": "AdM7qdxyNi56",
        "outputId": "ec23a270-8000-4a73-8c76-8ffecc7b0eb8"
      },
      "outputs": [
        {
          "output_type": "execute_result",
          "data": {
            "text/plain": [
              "publication_number    object\n",
              "title                 object\n",
              "filing_date            int64\n",
              "publication_date       int64\n",
              "grant_date             int64\n",
              "assignee_name         object\n",
              "abstract              object\n",
              "dtype: object"
            ],
            "text/html": [
              "<div>\n",
              "<style scoped>\n",
              "    .dataframe tbody tr th:only-of-type {\n",
              "        vertical-align: middle;\n",
              "    }\n",
              "\n",
              "    .dataframe tbody tr th {\n",
              "        vertical-align: top;\n",
              "    }\n",
              "\n",
              "    .dataframe thead th {\n",
              "        text-align: right;\n",
              "    }\n",
              "</style>\n",
              "<table border=\"1\" class=\"dataframe\">\n",
              "  <thead>\n",
              "    <tr style=\"text-align: right;\">\n",
              "      <th></th>\n",
              "      <th>0</th>\n",
              "    </tr>\n",
              "  </thead>\n",
              "  <tbody>\n",
              "    <tr>\n",
              "      <th>publication_number</th>\n",
              "      <td>object</td>\n",
              "    </tr>\n",
              "    <tr>\n",
              "      <th>title</th>\n",
              "      <td>object</td>\n",
              "    </tr>\n",
              "    <tr>\n",
              "      <th>filing_date</th>\n",
              "      <td>int64</td>\n",
              "    </tr>\n",
              "    <tr>\n",
              "      <th>publication_date</th>\n",
              "      <td>int64</td>\n",
              "    </tr>\n",
              "    <tr>\n",
              "      <th>grant_date</th>\n",
              "      <td>int64</td>\n",
              "    </tr>\n",
              "    <tr>\n",
              "      <th>assignee_name</th>\n",
              "      <td>object</td>\n",
              "    </tr>\n",
              "    <tr>\n",
              "      <th>abstract</th>\n",
              "      <td>object</td>\n",
              "    </tr>\n",
              "  </tbody>\n",
              "</table>\n",
              "</div><br><label><b>dtype:</b> object</label>"
            ]
          },
          "metadata": {},
          "execution_count": 6
        }
      ],
      "source": [
        "patents.dtypes"
      ]
    },
    {
      "cell_type": "code",
      "execution_count": 7,
      "metadata": {
        "colab": {
          "base_uri": "https://localhost:8080/",
          "height": 304
        },
        "id": "M3r8EIY0Zevb",
        "outputId": "7492a4d8-ba4f-4dab-a9e1-fc5e64f6af45"
      },
      "outputs": [
        {
          "output_type": "execute_result",
          "data": {
            "text/plain": [
              "publication_number        0\n",
              "title                  4802\n",
              "filing_date               0\n",
              "publication_date          0\n",
              "grant_date                0\n",
              "assignee_name             0\n",
              "abstract              15635\n",
              "dtype: int64"
            ],
            "text/html": [
              "<div>\n",
              "<style scoped>\n",
              "    .dataframe tbody tr th:only-of-type {\n",
              "        vertical-align: middle;\n",
              "    }\n",
              "\n",
              "    .dataframe tbody tr th {\n",
              "        vertical-align: top;\n",
              "    }\n",
              "\n",
              "    .dataframe thead th {\n",
              "        text-align: right;\n",
              "    }\n",
              "</style>\n",
              "<table border=\"1\" class=\"dataframe\">\n",
              "  <thead>\n",
              "    <tr style=\"text-align: right;\">\n",
              "      <th></th>\n",
              "      <th>0</th>\n",
              "    </tr>\n",
              "  </thead>\n",
              "  <tbody>\n",
              "    <tr>\n",
              "      <th>publication_number</th>\n",
              "      <td>0</td>\n",
              "    </tr>\n",
              "    <tr>\n",
              "      <th>title</th>\n",
              "      <td>4802</td>\n",
              "    </tr>\n",
              "    <tr>\n",
              "      <th>filing_date</th>\n",
              "      <td>0</td>\n",
              "    </tr>\n",
              "    <tr>\n",
              "      <th>publication_date</th>\n",
              "      <td>0</td>\n",
              "    </tr>\n",
              "    <tr>\n",
              "      <th>grant_date</th>\n",
              "      <td>0</td>\n",
              "    </tr>\n",
              "    <tr>\n",
              "      <th>assignee_name</th>\n",
              "      <td>0</td>\n",
              "    </tr>\n",
              "    <tr>\n",
              "      <th>abstract</th>\n",
              "      <td>15635</td>\n",
              "    </tr>\n",
              "  </tbody>\n",
              "</table>\n",
              "</div><br><label><b>dtype:</b> int64</label>"
            ]
          },
          "metadata": {},
          "execution_count": 7
        }
      ],
      "source": [
        "# Number of NaN and Null\n",
        "patents.isnull().sum()"
      ]
    },
    {
      "cell_type": "markdown",
      "metadata": {
        "id": "KjtXT4yJbuI1"
      },
      "source": [
        "We can see on this table that 4'802 titles and 15'635 abstracts are missing.\n",
        "\n",
        "If it is only one out of the two, we can deal with that. But if both are missing, it is useless to keep these lines as long as the purpose is to categorize text on titles, abstracts or both.\n",
        "\n",
        "We're going to check if both of the lines are missing. If that's the case, we can just delete the line because having no information at all is not usefull for the text classification if we have no text at all."
      ]
    },
    {
      "cell_type": "code",
      "execution_count": 8,
      "metadata": {
        "colab": {
          "base_uri": "https://localhost:8080/"
        },
        "id": "ZWzJdn7Nc0bS",
        "outputId": "42aa9092-b4a4-4c7e-97f3-fc4faa5ead18"
      },
      "outputs": [
        {
          "output_type": "execute_result",
          "data": {
            "text/plain": [
              "4668"
            ]
          },
          "metadata": {},
          "execution_count": 8
        }
      ],
      "source": [
        "# Count rows where both are null\n",
        "both_null = patents[(patents[\"title\"].isnull()) & (patents[\"abstract\"].isnull())]\n",
        "len(both_null)"
      ]
    },
    {
      "cell_type": "markdown",
      "metadata": {
        "id": "zYRCNlk3eFW0"
      },
      "source": [
        "After checking both columns, we're not going to delete all of the 15'635 lines because we only have 4'668 lines that are completely null.\n",
        "\n",
        "Now, let's make sure that all of the patents are from Google, from Alphabet Inc."
      ]
    },
    {
      "cell_type": "code",
      "execution_count": 9,
      "metadata": {
        "colab": {
          "base_uri": "https://localhost:8080/"
        },
        "id": "wsvCaFIH63Bl",
        "outputId": "0b8e6f98-34a0-4a39-ed5d-b429c23d755d"
      },
      "outputs": [
        {
          "output_type": "execute_result",
          "data": {
            "text/plain": [
              "array(['GOOGLE LLC', 'Google Technology Holdings LLC', 'Google PLLC',\n",
              "       'Google LLC', 'c/o Google LLC', 'GOOGLE INC', 'GOOGLE LLE',\n",
              "       'GOOGLE ELLC', 'Google LLC 1600', 'GOOGLES LLC',\n",
              "       'GOOGLE TECH HOLDINGS', 'GOOGLE INT LLC',\n",
              "       'C/O GOOGLE TECH HOLDINGS', 'GOOGLE LTD RESPONSIBILITY COMPANY',\n",
              "       'GOOGLE', 'GOOGLE LIFE SCIENCES LLC', 'GOOGLE COMPANY',\n",
              "       'PEARL HAI GOOGLE ELECTRONIC CO LTD', 'GOOGLE INC GOOGLE LLC',\n",
              "       'GOOGLE INCORPORATED', 'X DEV LLC GOOGLE INC', 'Google LLLC',\n",
              "       'GOOGLE TECH HOLDING LLC', 'SHENZHEN GOOGLE WEIXUN TECH CO LTD',\n",
              "       'Google LCC', 'GOOGLE TECH HODLINGS LLC', 'GOOGLE LLC GOOGLE INC',\n",
              "       'GOOGLE LLC (N D GES D STAATES DELAWARE)', 'GoogleLLC',\n",
              "       'Google LLP', 'GOOGLE INC [', 'GOOGLE TECH HOLDING CO LTD',\n",
              "       'GOOGLE TECH CONTROL CO LTD', 'GOOGLE TECH HOLDINGS INC',\n",
              "       'Google Technoogy Holdings LLC', 'GOOGLE TECHNOLOBY HOLDINGS LLC',\n",
              "       'GOOGLE TECH HOLDINGS CO LTD', 'Google Technologies Holdings LLC',\n",
              "       'GOOGLE TECHNOLOGY HOLDINGS INC', 'Google Technology Holdings',\n",
              "       'Google Technolgy Holdings LLC', 'Google Technology Holdings LLP',\n",
              "       'Google Holdings Technology LLC', 'GOOGLE TECHNOLOGY HOLDING LLC',\n",
              "       'GOOGLE INC;', 'HOLDINGS LLC GOOGLE TECHNOLOGY',\n",
              "       'Google & Technology Holdings LLC', 'GOOGLE INC US',\n",
              "       'GOOGLE INC A CA CORP', 'GOOGLE INC A DELAWARE CORP',\n",
              "       'GOOGLE INC A CALIFORNIA CORP',\n",
              "       'JURONG GOOGLE MANOR MODERN AGRICULTURAL TECHNOLOGY DEV CO LTD',\n",
              "       'GOOGLES INC', 'GOOGLE INC A DELWARE CORP', 'GOOGLE LEON',\n",
              "       'C O GOOGLE INC', 'GOOGLE CORP', 'GOOGLEBOX LTD',\n",
              "       'GOOGLE SWEDEN TECH AB', 'REAL ESTATE GOOGLE CO LTD',\n",
              "       'GOOGLE INC A CORP OF THE STATE', 'GOOGLE SWEDEN TECHNIQUE AB'],\n",
              "      dtype=object)"
            ]
          },
          "metadata": {},
          "execution_count": 9
        }
      ],
      "source": [
        "patents['assignee_name'].unique()"
      ]
    },
    {
      "cell_type": "code",
      "execution_count": 10,
      "metadata": {
        "id": "-a2BhC2H9rQX"
      },
      "outputs": [],
      "source": [
        "companies_not_related = [\n",
        "    'GOOGLE LIFE SCIENCES LLC', # Now called Verily and divest Alphabet Inc. industry but not related to our topics\n",
        "    'PEARL HAI GOOGLE ELECTRONIC CO LTD', # Chinese company with Google in its name\n",
        "    'SHENZHEN GOOGLE WEIXUN TECH CO LTD', # Other chinese company having Google in its name and not being related\n",
        "    'JURONG GOOGLE MANOR MODERN AGRICULTURAL TECHNOLOGY DEV CO LTD', # Other chinese company having Google in its name\n",
        "    'GOOGLE SWEDEN TECH AB', # A swedish company\n",
        "    'GOOGLE SWEDEN TECHNIQUE AB', # The same swedish company\n",
        "    'REAL ESTATE GOOGLE CO LTD' # Google Real Estate is part of Alphabet Inc. but not related to our topics\n",
        "]"
      ]
    },
    {
      "cell_type": "markdown",
      "metadata": {
        "id": "NGi60lxIGLWR"
      },
      "source": [
        "We are now going to check for duplicates. Since we have more than 100'000 patents, we want to make sure that all of them are unique,"
      ]
    },
    {
      "cell_type": "code",
      "execution_count": 11,
      "metadata": {
        "colab": {
          "base_uri": "https://localhost:8080/"
        },
        "id": "pSy46jm_GTBM",
        "outputId": "c0848208-094a-44f0-8b79-081eac28a08e"
      },
      "outputs": [
        {
          "output_type": "execute_result",
          "data": {
            "text/plain": [
              "np.int64(68835)"
            ]
          },
          "metadata": {},
          "execution_count": 11
        }
      ],
      "source": [
        "patents.duplicated(subset='abstract').sum()"
      ]
    },
    {
      "cell_type": "markdown",
      "metadata": {
        "id": "LipnSg-CIpdQ"
      },
      "source": [
        "This shows that 68835 line has a duplicate. We are going to count all duplicates and delete them later in the pipeline."
      ]
    },
    {
      "cell_type": "code",
      "execution_count": 12,
      "metadata": {
        "colab": {
          "base_uri": "https://localhost:8080/"
        },
        "id": "Av2887LKHgNp",
        "outputId": "98a715cc-ab1f-4819-f138-81b29a65e584"
      },
      "outputs": [
        {
          "output_type": "stream",
          "name": "stdout",
          "text": [
            "38768\n"
          ]
        }
      ],
      "source": [
        "print(len(patents['abstract'].unique()))"
      ]
    },
    {
      "cell_type": "markdown",
      "metadata": {
        "id": "SmDDXqndZ09w"
      },
      "source": [
        "## Data treatment"
      ]
    },
    {
      "cell_type": "code",
      "execution_count": 13,
      "metadata": {
        "colab": {
          "base_uri": "https://localhost:8080/"
        },
        "id": "GH-haVRYe4g3",
        "outputId": "155c6074-6057-4943-c2c3-fecaa1575f02"
      },
      "outputs": [
        {
          "output_type": "execute_result",
          "data": {
            "text/plain": [
              "102935"
            ]
          },
          "metadata": {},
          "execution_count": 13
        }
      ],
      "source": [
        "# Delete lines that are empty in both title and abstract columns\n",
        "patents_nn = patents.drop(both_null.index)\n",
        "\n",
        "# Replace null lines with \" \"\n",
        "patents_nn[\"title\"] = patents_nn[\"title\"].fillna(\"\")\n",
        "patents_nn[\"abstract\"] = patents_nn[\"abstract\"].fillna(\"\")\n",
        "\n",
        "len(patents_nn) # 102'935"
      ]
    },
    {
      "cell_type": "code",
      "execution_count": 14,
      "metadata": {
        "id": "KJ_hjrjDerH7"
      },
      "outputs": [],
      "source": [
        "# Format date columns\n",
        "patents_dformated = patents_nn.copy(deep=True)\n",
        "\n",
        "patents_dformated['filing_date'] = pd.to_datetime(patents_nn[\"filing_date\"].astype(str), format='%Y%m%d')\n",
        "patents_dformated['publication_date'] = pd.to_datetime(patents_nn[\"publication_date\"].astype(str), format='%Y%m%d')\n",
        "patents_dformated['grant_date'] = pd.to_datetime(patents_nn[\"grant_date\"].astype(str), format='%Y%m%d', errors='coerce')"
      ]
    },
    {
      "cell_type": "code",
      "execution_count": 15,
      "metadata": {
        "id": "A-Ho5xsfeyEz"
      },
      "outputs": [],
      "source": [
        "# Adding a mix column used for pre-processing later\n",
        "patents_dformated['processing'] = patents_dformated[\"title\"] + \" \" + patents_dformated[\"abstract\"]"
      ]
    },
    {
      "cell_type": "code",
      "source": [
        "# Delete some unwanted characters\n",
        "# unwanted_chars = ['&#39;', '&#34;', '-']\n",
        "\n",
        "# for char in unwanted_chars:\n",
        "#     patents_dformated['processing'] = patents_dformated['processing'].str.replace(char, '', regex=False)\n",
        "\n",
        "# patents_dformated.duplicated(subset='processing').sum()"
      ],
      "metadata": {
        "colab": {
          "base_uri": "https://localhost:8080/"
        },
        "id": "ksegYGxpD9oN",
        "outputId": "c9072660-41ff-455c-9a62-8302f4e91924"
      },
      "execution_count": 20,
      "outputs": [
        {
          "output_type": "execute_result",
          "data": {
            "text/plain": [
              "np.int64(100)"
            ]
          },
          "metadata": {},
          "execution_count": 20
        }
      ]
    },
    {
      "cell_type": "code",
      "execution_count": 16,
      "metadata": {
        "id": "NFiFOypdB2pL"
      },
      "outputs": [],
      "source": [
        "# Delete the unwanted companies\n",
        "patents_dformated = patents_dformated[~patents_dformated['assignee_name'].isin(companies_not_related)] # 107574"
      ]
    },
    {
      "cell_type": "code",
      "execution_count": 17,
      "metadata": {
        "id": "0gCrYxTRGMv8"
      },
      "outputs": [],
      "source": [
        "# Delete duplicates\n",
        "patents_dformated = patents_dformated.drop_duplicates(subset='abstract').reset_index(drop=True)"
      ]
    },
    {
      "cell_type": "markdown",
      "metadata": {
        "id": "afIR6GipqeTq"
      },
      "source": [
        "# Clustering"
      ]
    },
    {
      "cell_type": "markdown",
      "metadata": {
        "id": "FGWuUawNqt0g"
      },
      "source": [
        "Here come the clustering techniques. For this project, the main tool used is BERTopics. This toold allows us to ... .\n",
        "\n",
        "However, BERTopics is not working alone but with several dependencies. There is also UMAP and HDBSCAN.\n",
        "\n",
        "UMAP is ...\n",
        "\n",
        "HDBSCAN is ..."
      ]
    },
    {
      "cell_type": "markdown",
      "metadata": {
        "id": "oTmn63eJubCG"
      },
      "source": [
        "### Training of the model"
      ]
    },
    {
      "cell_type": "code",
      "execution_count": null,
      "metadata": {
        "id": "9rD7eL_1I-vQ"
      },
      "outputs": [],
      "source": [
        "# Create a copy\n",
        "processing = patents_dformated[['processing']].copy(deep=True)\n",
        "\n",
        "# Put it in a list\n",
        "processing_list = processing.iloc[:, 0].to_list()"
      ]
    },
    {
      "cell_type": "code",
      "execution_count": null,
      "metadata": {
        "id": "yFn2EavW18ZK"
      },
      "outputs": [],
      "source": [
        "# # Prepare embeddings\n",
        "# embeddings = sentence_model.encode(processing_list, show_progress_bar=True, batch_size=64)\n",
        "\n",
        "# # Save embeddings to a .npy file\n",
        "# np.save('/content/drive/My Drive/embeddings_patents_google.npy', embeddings)\n",
        "\n",
        "# Load embeddings from .npy file\n",
        "embeddings = np.load('/content/drive/My Drive/embeddings_patents_google.npy')"
      ]
    },
    {
      "cell_type": "code",
      "execution_count": null,
      "metadata": {
        "id": "hebUjfrm3SFH"
      },
      "outputs": [],
      "source": [
        "# Reduce dimensionality of embeddings, this step is optional but much faster to perform iteratively:\n",
        "umap_model = UMAP(\n",
        "    n_neighbors=200,\n",
        "    n_components=3,\n",
        "    min_dist=0.5,\n",
        "    metric='euclidean',\n",
        "    random_state=42)"
      ]
    },
    {
      "cell_type": "markdown",
      "metadata": {
        "id": "u3Zp2MFtrQZE"
      },
      "source": [
        "UMAP uses the following parameters :\n",
        "\n",
        "- n_neighbors\n",
        "- n_components\n",
        "- min_dist\n",
        "- metric\n",
        "- random_state\n",
        "\n",
        "--> why using these numbers ?"
      ]
    },
    {
      "cell_type": "code",
      "execution_count": null,
      "metadata": {
        "id": "egnXhDuNfO9Z"
      },
      "outputs": [],
      "source": [
        "# Added because advised to control number of topics through the cluster model (hdbscan by default)\n",
        "hdbscan_model = HDBSCAN(\n",
        "    min_cluster_size=100,\n",
        "    max_cluster_size=5000,\n",
        "    metric='euclidean',\n",
        "    cluster_selection_method='eom')"
      ]
    },
    {
      "cell_type": "markdown",
      "metadata": {
        "id": "D3juiygYrq5Y"
      },
      "source": [
        "HDBSCAN uses the following parameters :\n",
        "\n",
        "- min_cluster_size\n",
        "- max_cluster_size\n",
        "- metric\n",
        "- cluster_selection_method\n",
        "\n",
        "--> why using these numbers ?"
      ]
    },
    {
      "cell_type": "code",
      "execution_count": null,
      "metadata": {
        "id": "rusIwGcPl2y3"
      },
      "outputs": [],
      "source": [
        "# Removing the stop-words because BERTopic does not do it by default\n",
        "vectorizer_model = CountVectorizer(\n",
        "    stop_words=\"english\",\n",
        "    ngram_range=(1, 3), # Extract unigrams (1-word), bigrams (2-word), and trigrams (3-word phrases) from the text\n",
        "    min_df=10 # Ignore terms that appear in less than 10 documents\n",
        "    )"
      ]
    },
    {
      "cell_type": "code",
      "execution_count": null,
      "metadata": {
        "id": "-0OB7oaT3zk-"
      },
      "outputs": [],
      "source": [
        "# Use KeyBERTInspired and MaximalMarginalRelevance for our representation model to (1) keep useful words and (2) produce cleaner topic words\n",
        "representation_model=[KeyBERTInspired(top_n_words=30), MaximalMarginalRelevance(diversity=.5)]"
      ]
    },
    {
      "cell_type": "code",
      "execution_count": null,
      "metadata": {
        "id": "Jet7y1kI7Bm_"
      },
      "outputs": [],
      "source": [
        "# Train BERTopic\n",
        "# topic_model = BERTopic(\n",
        "#     embedding_model=sentence_model,\n",
        "#     umap_model=umap_model,\n",
        "#     hdbscan_model=hdbscan_model,\n",
        "#     vectorizer_model=vectorizer_model,\n",
        "#     representation_model=representation_model\n",
        "#     )\n",
        "\n",
        "# topics, probs = topic_model.fit_transform(\n",
        "#     processing_list,\n",
        "#     embeddings\n",
        "#     )\n",
        "# topic_model.save(\"/content/drive/My Drive/google_patents_model\")\n",
        "\n",
        "# Or load BERTopic in BERTopic v0.9.2 or higher:\n",
        "topic_model = BERTopic.load(\"/content/drive/My Drive/google_patents_model\")\n",
        "topics = topic_model._map_predictions(topic_model.hdbscan_model.labels_)\n",
        "probs = topic_model.hdbscan_model.probabilities_"
      ]
    },
    {
      "cell_type": "code",
      "execution_count": null,
      "metadata": {
        "id": "1URj0fP2z_71"
      },
      "outputs": [],
      "source": [
        "# Let's see the information given, the amount of topics per cluster, the type of groups we have, etc.\n",
        "topic_model.get_topic_info()[['Topic', 'Count', 'Name', 'Representation']]"
      ]
    },
    {
      "cell_type": "markdown",
      "metadata": {
        "id": "j4Ucl7ftzd7H"
      },
      "source": [
        "We have, however, too many outliers. We want to reduce them before keeping on going"
      ]
    },
    {
      "cell_type": "code",
      "execution_count": null,
      "metadata": {
        "id": "B-M-Q5pTzmX0"
      },
      "outputs": [],
      "source": [
        "# Reduce outliers using the `embeddings` strategy\n",
        "reduced_topics = topic_model.reduce_outliers(\n",
        "    processing_list,\n",
        "    topics,\n",
        "    strategy=\"embeddings\",\n",
        "    embeddings=embeddings,\n",
        "    threshold=0.5 # The threshold for assigning topics to outlier documents\n",
        "    )\n",
        "\n",
        "# Update topics\n",
        "topic_model.update_topics(\n",
        "    processing_list,\n",
        "    topics=reduced_topics,\n",
        "    vectorizer_model=vectorizer_model\n",
        "    )"
      ]
    },
    {
      "cell_type": "code",
      "execution_count": null,
      "metadata": {
        "id": "DQgqWGK50NCW"
      },
      "outputs": [],
      "source": [
        "# Let's check a second time\n",
        "topic_model.get_topic_info()[['Topic', 'Count', 'Name', 'Representation']]"
      ]
    },
    {
      "cell_type": "markdown",
      "metadata": {
        "id": "yHQ7itwXlRqG"
      },
      "source": [
        "## Assessing the model"
      ]
    },
    {
      "cell_type": "markdown",
      "metadata": {
        "id": "phjuieMylURc"
      },
      "source": [
        "Before we keep on going, it would be interesting to assess our model to see if it was trained properly and have a good confidence with the following results. For that, we will..."
      ]
    },
    {
      "cell_type": "markdown",
      "metadata": {
        "id": "z1UeM1egdYNL"
      },
      "source": [
        "List of good topics evaluations : https://github.com/jonaschn/awesome-topic-models?tab=readme-ov-file#models"
      ]
    },
    {
      "cell_type": "markdown",
      "metadata": {
        "id": "T3_Ls5mMbQy7"
      },
      "source": [
        "### Topic model"
      ]
    },
    {
      "cell_type": "markdown",
      "metadata": {
        "id": "-ORMwpn9aJjN"
      },
      "source": [
        "\"There are two main aspects to evaluate topic models:\n",
        "- coherence\n",
        "- relevance.\n",
        "\n",
        "Coherence measures how well the words in a topic are related to each other, based on their semantic similarity or frequency.\n",
        "Relevance measures how well the topics capture the main themes or aspects of the documents, based on their importance r specificity.\n",
        "There are various metrics and tools to calculate coherence and relevance, such as C_V, U_Mass, topic coherence pipeline, etc. You can also use human judgment or feedback to assess the interpretability and usefulness of your topics.\"\n",
        "\n",
        "This LinkedIn post, \"How do you evaluate the quality and relevance of your topic models and clusters ?\", tells us a bit about methods to accomplish this task. We'll first focus on the topic model and then on the clusters."
      ]
    },
    {
      "cell_type": "code",
      "execution_count": null,
      "metadata": {
        "id": "1X5hspk09lNM"
      },
      "outputs": [],
      "source": [
        "# Get list of words that are used for the topic modeling assessment\n",
        "topics_to_evaluate = topic_model.get_topic_info()['Representation']"
      ]
    },
    {
      "cell_type": "markdown",
      "metadata": {
        "id": "bsIg0QW8Z-qP"
      },
      "source": [
        "#### Coherence"
      ]
    },
    {
      "cell_type": "code",
      "execution_count": null,
      "metadata": {
        "id": "9OJ9hx4gli98"
      },
      "outputs": [],
      "source": [
        "# # Add assessment method\n",
        "# from octis.evaluation.metrics.coherence import Coherence\n",
        "# coherence = Coherence(texts=tokenized_docs, topk=10, measure='c_v')\n",
        "# score = coherence.score(model_output['topics'])"
      ]
    },
    {
      "cell_type": "code",
      "execution_count": null,
      "metadata": {
        "id": "lP94h0GBOoGO"
      },
      "outputs": [],
      "source": [
        "# from contextualized_topic_models.models.ctm import CombinedTM\n",
        "# from contextualized_topic_models.datasets.dataset import CTMDataset\n",
        "\n",
        "# # Preprocess\n",
        "# bow_matrix = vectorizer_model.fit_transform(texts)  # texts is your list of documents\n",
        "# vocab = vectorizer_model.get_feature_names_out()\n",
        "\n",
        "# # Create CTM dataset\n",
        "# ctm_dataset = CTMDataset(bow=bow_matrix.toarray(), contextual_embeddings=embeddings)\n",
        "\n",
        "# # Train the model\n",
        "# ctm = CombinedTM(bow_size=len(vocab),\n",
        "#                  contextual_size=embeddings.shape[1],\n",
        "#                  n_components=10,  # number of topics\n",
        "#                  num_epochs=20)\n",
        "\n",
        "# ctm.fit(ctm_dataset)\n",
        "\n",
        "# # Loop over topics\n",
        "# topics_ctm = ctm.get_topic_lists(10)  # top 10 words per topic\n",
        "# for idx, topic in enumerate(topics_ctm):\n",
        "#     print(f\"Topic {idx}: {topic}\")"
      ]
    },
    {
      "cell_type": "code",
      "execution_count": null,
      "metadata": {
        "id": "O8EtprtuRy84"
      },
      "outputs": [],
      "source": [
        "# from gensim.models.coherencemodel import CoherenceModel\n",
        "# from gensim.corpora.dictionary import Dictionary\n",
        "# from gensim import corpora\n",
        "\n",
        "# def calculate_coherence_score(topic_model, docs):\n",
        "#     # Preprocess documents\n",
        "#     cleaned_docs = topic_model._preprocess_text(docs)\n",
        "\n",
        "#     # Extract vectorizer and tokenizer from BERTopic\n",
        "#     vectorizer = topic_model.vectorizer_model\n",
        "#     tokenizer = vectorizer.build_tokenizer()\n",
        "\n",
        "#     # Extract features for Topic Coherence evaluation\n",
        "#     words = vectorizer.get_feature_names_out()\n",
        "#     # depending on the version and if you get an error use commented out code below:\n",
        "#     # words = vectorizer.get_feature_names()\n",
        "#     tokens = [tokenizer(doc) for doc in cleaned_docs]\n",
        "#     dictionary = corpora.Dictionary(tokens)\n",
        "#     corpus = [dictionary.doc2bow(token) for token in tokens]\n",
        "#     # Create topic words\n",
        "#     topic_words = [[dictionary.token2id[w] for w in words if w in dictionary.token2id]\n",
        "#     for _ in range(topic_model.nr_topics)]\n",
        "\n",
        "#     # this creates a list of the token ids (in the format of integers) of the words in words that are also present in the\n",
        "#     # dictionary created from the preprocessed text. The topic_words list contains list of token ids for each\n",
        "#     # topic.\n",
        "\n",
        "#     coherence_model = CoherenceModel(topics=topic_words,\n",
        "#                                     texts=tokens,\n",
        "#                                     corpus=corpus,\n",
        "#                                     dictionary=dictionary,\n",
        "#                                     coherence='c_v')\n",
        "#     coherence = coherence_model.get_coherence()\n",
        "\n",
        "#     return coherence"
      ]
    },
    {
      "cell_type": "markdown",
      "metadata": {
        "id": "1A8FCmdybXcP"
      },
      "source": [
        "#### Relevance"
      ]
    },
    {
      "cell_type": "code",
      "execution_count": null,
      "metadata": {
        "id": "D0DKr_8kbZ-B"
      },
      "outputs": [],
      "source": [
        "# How many of the top-N words in each topic are unique across topics (non-overlapping).\n",
        "def proportion_unique_words(topics, topk=10):\n",
        "    \"\"\"\n",
        "    compute the proportion of unique words\n",
        "\n",
        "    Parameters\n",
        "    ----------\n",
        "    topics: a list of lists of words\n",
        "    topk: top k words on which the topic diversity will be computed\n",
        "    \"\"\"\n",
        "    if topk > len(topics[0]):\n",
        "        raise Exception('Words in topics are less than '+str(topk))\n",
        "    else:\n",
        "        unique_words = set()\n",
        "        for topic in topics:\n",
        "            unique_words = unique_words.union(set(topic[:topk]))\n",
        "        puw = len(unique_words) / (topk * len(topics))\n",
        "        return puw\n",
        "\n",
        "#Result 1.0 would mean that all words are unique across topics.\n",
        "proportion_unique_words(topics_to_evaluate, topk=10)"
      ]
    },
    {
      "cell_type": "markdown",
      "metadata": {
        "id": "WFb4kgFYZYgh"
      },
      "source": [
        "A proportion_unique_words score of ~0.75 means that around 25% of the top topic words are reused across topics, suggesting moderate redundancy. This means that reducing topics would be an option in this case to reduce redundancy."
      ]
    },
    {
      "cell_type": "markdown",
      "metadata": {
        "id": "N8xgWm1wbZdt"
      },
      "source": [
        "### Clusters"
      ]
    },
    {
      "cell_type": "markdown",
      "metadata": {
        "id": "T4cVKrzcbjA9"
      },
      "source": [
        "\"There are two main aspects to evaluate clusters :\n",
        "- validity\n",
        "- stability\n",
        "\n",
        "Validity measures how well the clusters reflect the true structure or similarity of the data, based on their compactness, separation, or silhouette.\n",
        "Stability measures how consistent the clusters are across different runs or samples of the data, based on their bobustness, sensitivity, or agreement. There are various metrics and tools to calculate validity and stability, such as Davies-Bouldin index, Rand index, cluster validation toolbox, etc.\n",
        "\n",
        "You can also use domain knowledge or business goals to assess the relevance and value of your clusters.\""
      ]
    },
    {
      "cell_type": "markdown",
      "metadata": {
        "id": "wa6AaezF7QjP"
      },
      "source": [
        "#### Validity"
      ]
    },
    {
      "cell_type": "code",
      "execution_count": null,
      "metadata": {
        "id": "4Wldia9TbcLl"
      },
      "outputs": [],
      "source": [
        "# Jaccard similarity across top-N words for each pair of topics.\n",
        "def pairwise_jaccard_diversity(topics, topk=10):\n",
        "    '''\n",
        "    compute the average pairwise jaccard distance between the topics\n",
        "\n",
        "    Parameters\n",
        "    ----------\n",
        "    topics: a list of lists of words\n",
        "    topk: top k words on which the topic diversity\n",
        "          will be computed\n",
        "\n",
        "    Returns\n",
        "    -------\n",
        "    pjd: average pairwise jaccard distance\n",
        "    '''\n",
        "    dist = 0\n",
        "    count = 0\n",
        "    for list1, list2 in combinations(topics, 2):\n",
        "        js = 1 - len(set(list1).intersection(set(list2)))/len(set(list1).union(set(list2)))\n",
        "        dist = dist + js\n",
        "        count = count + 1\n",
        "    return dist/count\n",
        "\n",
        "# Result 1.0 would mean that there are no shared words between any topic pairs\n",
        "pairwise_jaccard_diversity(topics_to_evaluate, topk=10)"
      ]
    },
    {
      "cell_type": "markdown",
      "metadata": {
        "id": "hVkpt2FCZ4WB"
      },
      "source": [
        "A validity score of 0.9437 indicates that the topics are quite distinctive and well-separated. There would be no need to reduce them according to this measure."
      ]
    },
    {
      "cell_type": "markdown",
      "metadata": {
        "id": "aw0Xmb807j8f"
      },
      "source": [
        "#### Stability"
      ]
    },
    {
      "cell_type": "markdown",
      "metadata": {
        "id": "6MuxXgYoY78_"
      },
      "source": [
        "The following code has been hard coded because of some troubles during installation of the file. It directly comes from https://github.com/silviatti/topic-model-diversity/blob/master/rbo.py"
      ]
    },
    {
      "cell_type": "code",
      "execution_count": null,
      "metadata": {
        "id": "gyZHEIUwIIQc"
      },
      "outputs": [],
      "source": [
        "\"\"\"Rank-biased overlap, a ragged sorted list similarity measure.\n",
        "See http://doi.acm.org/10.1145/1852102.1852106 for details. All functions\n",
        "directly corresponding to concepts from the paper are named so that they can be\n",
        "clearly cross-identified.\n",
        "The definition of overlap has been modified to account for ties. Without this,\n",
        "results for lists with tied items were being inflated. The modification itself\n",
        "is not mentioned in the paper but seems to be reasonable, see function\n",
        "``overlap()``. Places in the code which diverge from the spec in the paper\n",
        "because of this are highlighted with comments.\n",
        "The two main functions for performing an RBO analysis are ``rbo()`` and\n",
        "``rbo_dict()``; see their respective docstrings for how to use them.\n",
        "The following doctest just checks that equivalent specifications of a\n",
        "problem yield the same result using both functions:\n",
        "    >>> lst1 = [{\"c\", \"a\"}, \"b\", \"d\"]\n",
        "    >>> lst2 = [\"a\", {\"c\", \"b\"}, \"d\"]\n",
        "    >>> ans_rbo = _round(rbo(lst1, lst2, p=.9))\n",
        "    >>> dct1 = dict(a=1, b=2, c=1, d=3)\n",
        "    >>> dct2 = dict(a=1, b=2, c=2, d=3)\n",
        "    >>> ans_rbo_dict = _round(rbo_dict(dct1, dct2, p=.9, sort_ascending=True))\n",
        "    >>> ans_rbo == ans_rbo_dict\n",
        "    True\n",
        "\"\"\"\n",
        "\n",
        "from __future__ import division\n",
        "\n",
        "import math\n",
        "from bisect import bisect_left\n",
        "from collections import namedtuple\n",
        "\n",
        "\n",
        "RBO = namedtuple(\"RBO\", \"min res ext\")\n",
        "RBO.__doc__ += \": Result of full RBO analysis\"\n",
        "RBO.min.__doc__ = \"Lower bound estimate\"\n",
        "RBO.res.__doc__ = \"Residual corresponding to min; min + res is an upper bound estimate\"\n",
        "RBO.ext.__doc__ = \"Extrapolated point estimate\"\n",
        "\n",
        "\n",
        "def _round(obj):\n",
        "    if isinstance(obj, RBO):\n",
        "        return RBO(_round(obj.min), _round(obj.res), _round(obj.ext))\n",
        "    else:\n",
        "        return round(obj, 3)\n",
        "\n",
        "\n",
        "def set_at_depth(lst, depth):\n",
        "    ans = set()\n",
        "    for v in lst[:depth]:\n",
        "        if isinstance(v, set):\n",
        "            ans.update(v)\n",
        "        else:\n",
        "            ans.add(v)\n",
        "    return ans\n",
        "\n",
        "\n",
        "def raw_overlap(list1, list2, depth):\n",
        "    \"\"\"Overlap as defined in the article.\n",
        "    \"\"\"\n",
        "    set1, set2 = set_at_depth(list1, depth), set_at_depth(list2, depth)\n",
        "    return len(set1.intersection(set2)), len(set1), len(set2)\n",
        "\n",
        "\n",
        "def overlap(list1, list2, depth):\n",
        "    \"\"\"Overlap which accounts for possible ties.\n",
        "    This isn't mentioned in the paper but should be used in the ``rbo*()``\n",
        "    functions below, otherwise overlap at a given depth might be > depth which\n",
        "    inflates the result.\n",
        "    There are no guidelines in the paper as to what's a good way to calculate\n",
        "    this, but a good guess is agreement scaled by the minimum between the\n",
        "    requested depth and the lengths of the considered lists (overlap shouldn't\n",
        "    be larger than the number of ranks in the shorter list, otherwise results\n",
        "    are conspicuously wrong when the lists are of unequal lengths -- rbo_ext is\n",
        "    not between rbo_min and rbo_min + rbo_res.\n",
        "    >>> overlap(\"abcd\", \"abcd\", 3)\n",
        "    3.0\n",
        "    >>> overlap(\"abcd\", \"abcd\", 5)\n",
        "    4.0\n",
        "    >>> overlap([\"a\", {\"b\", \"c\"}, \"d\"], [\"a\", {\"b\", \"c\"}, \"d\"], 2)\n",
        "    2.0\n",
        "    >>> overlap([\"a\", {\"b\", \"c\"}, \"d\"], [\"a\", {\"b\", \"c\"}, \"d\"], 3)\n",
        "    3.0\n",
        "    \"\"\"\n",
        "    ov = agreement(list1, list2, depth) * min(depth, len(list1), len(list2))\n",
        "    return ov\n",
        "    # NOTE: comment the preceding and uncomment the following line if you want\n",
        "    # to stick to the algorithm as defined by the paper\n",
        "    # return raw_overlap(list1, list2, depth)[0]\n",
        "\n",
        "\n",
        "def agreement(list1, list2, depth):\n",
        "    \"\"\"Proportion of shared values between two sorted lists at given depth.\n",
        "    >>> _round(agreement(\"abcde\", \"abdcf\", 1))\n",
        "    1.0\n",
        "    >>> _round(agreement(\"abcde\", \"abdcf\", 3))\n",
        "    0.667\n",
        "    >>> _round(agreement(\"abcde\", \"abdcf\", 4))\n",
        "    1.0\n",
        "    >>> _round(agreement(\"abcde\", \"abdcf\", 5))\n",
        "    0.8\n",
        "    >>> _round(agreement([{1, 2}, 3], [1, {2, 3}], 1))\n",
        "    0.667\n",
        "    >>> _round(agreement([{1, 2}, 3], [1, {2, 3}], 2))\n",
        "    1.0\n",
        "    \"\"\"\n",
        "    len_intersection, len_set1, len_set2 = raw_overlap(list1, list2, depth)\n",
        "    return 2 * len_intersection / (len_set1 + len_set2)\n",
        "\n",
        "\n",
        "def cumulative_agreement(list1, list2, depth):\n",
        "    return (agreement(list1, list2, d) for d in range(1, depth + 1))\n",
        "\n",
        "\n",
        "def average_overlap(list1, list2, depth=None):\n",
        "    \"\"\"Calculate average overlap between ``list1`` and ``list2``.\n",
        "    >>> _round(average_overlap(\"abcdefg\", \"zcavwxy\", 1))\n",
        "    0.0\n",
        "    >>> _round(average_overlap(\"abcdefg\", \"zcavwxy\", 2))\n",
        "    0.0\n",
        "    >>> _round(average_overlap(\"abcdefg\", \"zcavwxy\", 3))\n",
        "    0.222\n",
        "    >>> _round(average_overlap(\"abcdefg\", \"zcavwxy\", 4))\n",
        "    0.292\n",
        "    >>> _round(average_overlap(\"abcdefg\", \"zcavwxy\", 5))\n",
        "    0.313\n",
        "    >>> _round(average_overlap(\"abcdefg\", \"zcavwxy\", 6))\n",
        "    0.317\n",
        "    >>> _round(average_overlap(\"abcdefg\", \"zcavwxy\", 7))\n",
        "    0.312\n",
        "    \"\"\"\n",
        "    depth = min(len(list1), len(list2)) if depth is None else depth\n",
        "    return sum(cumulative_agreement(list1, list2, depth)) / depth\n",
        "\n",
        "\n",
        "def rbo_at_k(list1, list2, p, depth=None):\n",
        "    # ``p**d`` here instead of ``p**(d - 1)`` because enumerate starts at\n",
        "    # 0\n",
        "    depth = min(len(list1), len(list2)) if depth is None else depth\n",
        "    d_a = enumerate(cumulative_agreement(list1, list2, depth))\n",
        "    return (1 - p) * sum(p ** d * a for (d, a) in d_a)\n",
        "\n",
        "\n",
        "def rbo_min(list1, list2, p, depth=None):\n",
        "    \"\"\"Tight lower bound on RBO.\n",
        "    See equation (11) in paper.\n",
        "    >>> _round(rbo_min(\"abcdefg\", \"abcdefg\", .9))\n",
        "    0.767\n",
        "    >>> _round(rbo_min(\"abcdefgh\", \"abcdefg\", .9))\n",
        "    0.767\n",
        "    \"\"\"\n",
        "    depth = min(len(list1), len(list2)) if depth is None else depth\n",
        "    x_k = overlap(list1, list2, depth)\n",
        "    log_term = x_k * math.log(1 - p)\n",
        "    sum_term = sum(\n",
        "        p ** d / d * (overlap(list1, list2, d) - x_k) for d in range(1, depth + 1)\n",
        "    )\n",
        "    return (1 - p) / p * (sum_term - log_term)\n",
        "\n",
        "\n",
        "def rbo_res(list1, list2, p):\n",
        "    \"\"\"Upper bound on residual overlap beyond evaluated depth.\n",
        "    See equation (30) in paper.\n",
        "    NOTE: The doctests weren't verified against manual computations but seem\n",
        "    plausible. In particular, for identical lists, ``rbo_min()`` and\n",
        "    ``rbo_res()`` should add up to 1, which is the case.\n",
        "    >>> _round(rbo_res(\"abcdefg\", \"abcdefg\", .9))\n",
        "    0.233\n",
        "    >>> _round(rbo_res(\"abcdefg\", \"abcdefghijklmnopqrstuvwxyz\", .9))\n",
        "    0.239\n",
        "    \"\"\"\n",
        "    S, L = sorted((list1, list2), key=len)\n",
        "    s, l = len(S), len(L)\n",
        "    x_l = overlap(list1, list2, l)\n",
        "    # since overlap(...) can be fractional in the general case of ties and f\n",
        "    # must be an integer --> math.ceil()\n",
        "    f = int(math.ceil(l + s - x_l))\n",
        "    # upper bound of range() is non-inclusive, therefore + 1 is needed\n",
        "    term1 = s * sum(p ** d / d for d in range(s + 1, f + 1))\n",
        "    term2 = l * sum(p ** d / d for d in range(l + 1, f + 1))\n",
        "    term3 = x_l * (math.log(1 / (1 - p)) - sum(p ** d / d for d in range(1, f + 1)))\n",
        "    return p ** s + p ** l - p ** f - (1 - p) / p * (term1 + term2 + term3)\n",
        "\n",
        "\n",
        "def rbo_ext(list1, list2, p):\n",
        "    \"\"\"RBO point estimate based on extrapolating observed overlap.\n",
        "    See equation (32) in paper.\n",
        "    NOTE: The doctests weren't verified against manual computations but seem\n",
        "    plausible.\n",
        "    >>> _round(rbo_ext(\"abcdefg\", \"abcdefg\", .9))\n",
        "    1.0\n",
        "    >>> _round(rbo_ext(\"abcdefg\", \"bacdefg\", .9))\n",
        "    0.9\n",
        "    \"\"\"\n",
        "    S, L = sorted((list1, list2), key=len)\n",
        "    s, l = len(S), len(L)\n",
        "    x_l = overlap(list1, list2, l)\n",
        "    x_s = overlap(list1, list2, s)\n",
        "    # the paper says overlap(..., d) / d, but it should be replaced by\n",
        "    # agreement(..., d) defined as per equation (28) so that ties are handled\n",
        "    # properly (otherwise values > 1 will be returned)\n",
        "    # sum1 = sum(p**d * overlap(list1, list2, d)[0] / d for d in range(1, l + 1))\n",
        "    sum1 = sum(p ** d * agreement(list1, list2, d) for d in range(1, l + 1))\n",
        "    sum2 = sum(p ** d * x_s * (d - s) / s / d for d in range(s + 1, l + 1))\n",
        "    term1 = (1 - p) / p * (sum1 + sum2)\n",
        "    term2 = p ** l * ((x_l - x_s) / l + x_s / s)\n",
        "    return term1 + term2\n",
        "\n",
        "\n",
        "def rbo(list1, list2, p):\n",
        "    \"\"\"Complete RBO analysis (lower bound, residual, point estimate).\n",
        "    ``list`` arguments should be already correctly sorted iterables and each\n",
        "    item should either be an atomic value or a set of values tied for that\n",
        "    rank. ``p`` is the probability of looking for overlap at rank k + 1 after\n",
        "    having examined rank k.\n",
        "    >>> lst1 = [{\"c\", \"a\"}, \"b\", \"d\"]\n",
        "    >>> lst2 = [\"a\", {\"c\", \"b\"}, \"d\"]\n",
        "    >>> _round(rbo(lst1, lst2, p=.9))\n",
        "    RBO(min=0.489, res=0.477, ext=0.967)\n",
        "    \"\"\"\n",
        "    if not 0 <= p <= 1:\n",
        "        raise ValueError(\"The ``p`` parameter must be between 0 and 1.\")\n",
        "    args = (list1, list2, p)\n",
        "    return RBO(rbo_min(*args), rbo_res(*args), rbo_ext(*args))\n",
        "\n",
        "\n",
        "def sort_dict(dct, *, ascending=False):\n",
        "    \"\"\"Sort keys in ``dct`` according to their corresponding values.\n",
        "    Sorts in descending order by default, because the values are\n",
        "    typically scores, i.e. the higher the better. Specify\n",
        "    ``ascending=True`` if the values are ranks, or some sort of score\n",
        "    where lower values are better.\n",
        "    Ties are handled by creating sets of tied keys at the given position\n",
        "    in the sorted list.\n",
        "    >>> dct = dict(a=1, b=2, c=1, d=3)\n",
        "    >>> list(sort_dict(dct)) == ['d', 'b', {'a', 'c'}]\n",
        "    True\n",
        "    >>> list(sort_dict(dct, ascending=True)) == [{'a', 'c'}, 'b', 'd']\n",
        "    True\n",
        "    \"\"\"\n",
        "    scores = []\n",
        "    items = []\n",
        "    # items should be unique, scores don't have to\n",
        "    for item, score in dct.items():\n",
        "        if not ascending:\n",
        "            score *= -1\n",
        "        i = bisect_left(scores, score)\n",
        "        if i == len(scores):\n",
        "            scores.append(score)\n",
        "            items.append(item)\n",
        "        elif scores[i] == score:\n",
        "            existing_item = items[i]\n",
        "            if isinstance(existing_item, set):\n",
        "                existing_item.add(item)\n",
        "            else:\n",
        "                items[i] = {existing_item, item}\n",
        "        else:\n",
        "            scores.insert(i, score)\n",
        "            items.insert(i, item)\n",
        "    return items\n",
        "\n",
        "\n",
        "def rbo_dict(dict1, dict2, p, *, sort_ascending=False):\n",
        "    \"\"\"Wrapper around ``rbo()`` for dict input.\n",
        "    Each dict maps items to be sorted to the score according to which\n",
        "    they should be sorted. The RBO analysis is then performed on the\n",
        "    resulting sorted lists.\n",
        "    The sort is descending by default, because scores are typically the\n",
        "    higher the better, but this can be overridden by specifying\n",
        "    ``sort_ascending=True``.\n",
        "    >>> dct1 = dict(a=1, b=2, c=1, d=3)\n",
        "    >>> dct2 = dict(a=1, b=2, c=2, d=3)\n",
        "    >>> _round(rbo_dict(dct1, dct2, p=.9, sort_ascending=True))\n",
        "    RBO(min=0.489, res=0.477, ext=0.967)\n",
        "    \"\"\"\n",
        "    list1, list2 = (\n",
        "        sort_dict(dict1, ascending=sort_ascending),\n",
        "        sort_dict(dict2, ascending=sort_ascending),\n",
        "    )\n",
        "    return rbo(list1, list2, p)\n",
        "\n",
        "\n",
        "if __name__ in (\"__main__\", \"__console__\"):\n",
        "    import doctest\n",
        "\n",
        "    doctest.testmod()"
      ]
    },
    {
      "cell_type": "code",
      "execution_count": null,
      "metadata": {
        "id": "rl2OkUVG7mmY"
      },
      "outputs": [],
      "source": [
        "# A ranking-aware similarity metric between two ranked lists (usually top-N words in topics).\n",
        "def irbo(topics, weight=0.9, topk=10):\n",
        "    \"\"\"\n",
        "    compute the inverted rank-biased overlap\n",
        "\n",
        "    Parameters\n",
        "    ----------\n",
        "    topics: a list of lists of words\n",
        "    weight: p (float), default 1.0: Weight of each\n",
        "        agreement at depth d:p**(d-1). When set\n",
        "        to 1.0, there is no weight, the rbo returns\n",
        "        to average overlap.\n",
        "    topk: top k words on which the topic diversity\n",
        "          will be computed\n",
        "\n",
        "    Returns\n",
        "    -------\n",
        "    irbo : score of the rank biased overlap over the topics\n",
        "    \"\"\"\n",
        "    if topk > len(topics[0]):\n",
        "        raise Exception('Words in topics are less than topk')\n",
        "    else:\n",
        "        collect = []\n",
        "        for list1, list2 in combinations(topics, 2):\n",
        "            word2index = get_word2index(list1, list2)\n",
        "            indexed_list1 = [word2index[word] for word in list1]\n",
        "            indexed_list2 = [word2index[word] for word in list2]\n",
        "            rbo_val = rbo(indexed_list1[:topk], indexed_list2[:topk], p=weight)[2]\n",
        "            collect.append(rbo_val)\n",
        "        return 1 - np.mean(collect)\n",
        "\n",
        "def get_word2index(list1, list2):\n",
        "    words = set(list1)\n",
        "    words = words.union(set(list2))\n",
        "    word2index = {w: i for i, w in enumerate(words)}\n",
        "    return word2index\n",
        "\n",
        "# Result 1.0 would mean that there is no overlap even considering rank — perfect diversity.\n",
        "print(\"irbo p=0.5:\",irbo(topics_to_evaluate, weight=0.5, topk=10))"
      ]
    },
    {
      "cell_type": "markdown",
      "metadata": {
        "id": "mg6xdQLvaHfr"
      },
      "source": [
        "An IRBO score of 0.98 (Inverted Rank-Biased Overlap) means the topics are highly diverse — their top words barely overlap in ranked order. This is another measure saying that the topics are well separated.\n",
        "\n",
        "However, Bertopics allows other ways to measure how similar clusters are. We can use them to give a final opinion on our topic modeling and keep on going."
      ]
    },
    {
      "cell_type": "markdown",
      "metadata": {
        "id": "EjyhAPmKuAb4"
      },
      "source": [
        "#### Final thoughts"
      ]
    },
    {
      "cell_type": "code",
      "execution_count": null,
      "metadata": {
        "id": "Vd3i_mOZyDg_"
      },
      "outputs": [],
      "source": [
        "topic_model.visualize_heatmap()"
      ]
    },
    {
      "cell_type": "markdown",
      "metadata": {
        "id": "H64gdq5AyEm8"
      },
      "source": [
        "On the heatmap, we confirm that we have to reduce a few clusters similar between each other. We can proceed to reduce them before keeping on going.\n",
        "\n",
        "Before that, let's also have a look at the distance of each topics. This allows us to see the biggest topics but also their distance to each other and see if it is well spreaded over or all aggregated."
      ]
    },
    {
      "cell_type": "code",
      "execution_count": null,
      "metadata": {
        "id": "Ot4_TZaIz5Bz"
      },
      "outputs": [],
      "source": [
        "# show how topics overlaps each other and the need to merge them\n",
        "topic_model.visualize_topics()"
      ]
    },
    {
      "cell_type": "markdown",
      "metadata": {
        "id": "6HhflZXUsZf2"
      },
      "source": [
        "This graph shows that ..."
      ]
    },
    {
      "cell_type": "code",
      "execution_count": null,
      "metadata": {
        "id": "s0vGcFqZb9FM"
      },
      "outputs": [],
      "source": [
        "# Further reduce topics\n",
        "topic_model.reduce_topics(processing_list, nr_topics=12)"
      ]
    },
    {
      "cell_type": "markdown",
      "metadata": {
        "id": "n8M_RyCVcSuP"
      },
      "source": [
        "Let's visualize the heatmap one more time and we are good to go"
      ]
    },
    {
      "cell_type": "code",
      "execution_count": null,
      "metadata": {
        "id": "bZavR0sfcW7e"
      },
      "outputs": [],
      "source": [
        "topic_model.visualize_heatmap()"
      ]
    },
    {
      "cell_type": "markdown",
      "metadata": {
        "id": "OYoN2DcwaC3J"
      },
      "source": [
        "# Clustering with BERTopics"
      ]
    },
    {
      "cell_type": "markdown",
      "metadata": {
        "id": "tcA4NfCPuPuO"
      },
      "source": [
        "## Most important topics"
      ]
    },
    {
      "cell_type": "markdown",
      "metadata": {
        "id": "5On6rX-yuUBL"
      },
      "source": [
        "We can now see the 20 biggest topics and see what they are talking about. Our goal is to see the main focus of Google R&D over the years, especially with tracking and profiling techniques. This will allow us to see if advertisement topics are part of the main ones."
      ]
    },
    {
      "cell_type": "code",
      "execution_count": null,
      "metadata": {
        "id": "MMB3Z2MJymnc"
      },
      "outputs": [],
      "source": [
        "topic_model.visualize_barchart(top_n_topics=15, n_words=7)"
      ]
    },
    {
      "cell_type": "markdown",
      "metadata": {
        "id": "tQ2WMYFo1Elc"
      },
      "source": [
        "Now, we can see the documents all together and see how they are clustered. This gives us a representation of the documents and the topics they are linked to in the blick of an eye.\n",
        "\n",
        "By doing this, we can see the amount of importance the advertisement topics (or related topics) are in the whole dataset and dig into that later."
      ]
    },
    {
      "cell_type": "markdown",
      "metadata": {
        "id": "H2Py_YH5vkjW"
      },
      "source": [
        "## Clustering"
      ]
    },
    {
      "cell_type": "markdown",
      "metadata": {
        "id": "2dTXnfyXZJAC"
      },
      "source": [
        "Now, let's take a look at the documents all together. By visualizing the documents and aggregate them in topics, we can see the overall structure of all of the topics.\n",
        "\n",
        "..."
      ]
    },
    {
      "cell_type": "code",
      "execution_count": null,
      "metadata": {
        "id": "7gsk8xq0_j9l"
      },
      "outputs": [],
      "source": [
        "umap_settings = [\n",
        "    {\"n_neighbors\": 15, \"min_dist\": 0.1}, # test with a new one\n",
        "    #{\"n_neighbors\": 50, \"min_dist\": 0.3},\n",
        "    #{\"n_neighbors\": 100, \"min_dist\": 0.6},\n",
        "    {\"n_neighbors\": 200, \"min_dist\": 0.99}\n",
        "]\n",
        "\n",
        "# Reduce dimensionnality and train every parameters\n",
        "visualization_figures = []\n",
        "for param in umap_settings:\n",
        "    # Reduce dimensionality of embeddings, this step is optional but much faster to perform iteratively:\n",
        "    reduced_embeddings = UMAP(\n",
        "        n_neighbors=param[\"n_neighbors\"],\n",
        "        min_dist=param[\"min_dist\"],\n",
        "        n_components=2,\n",
        "        metric='euclidean',\n",
        "        random_state=42\n",
        "        ).fit_transform(embeddings)\n",
        "\n",
        "    # Train every parameters\n",
        "    fig_param = topic_model.visualize_documents(\n",
        "        processing_list,\n",
        "        reduced_embeddings=reduced_embeddings,\n",
        "        title=\"Patent clusters from Google\"\n",
        "        )\n",
        "    visualization_figures.append(fig_param)"
      ]
    },
    {
      "cell_type": "code",
      "execution_count": null,
      "metadata": {
        "id": "GUS4aVdlLUgy"
      },
      "outputs": [],
      "source": [
        "visualization_figures[0]"
      ]
    },
    {
      "cell_type": "code",
      "execution_count": null,
      "metadata": {
        "id": "zae8cCvgLXMU"
      },
      "outputs": [],
      "source": [
        "visualization_figures[1]"
      ]
    },
    {
      "cell_type": "markdown",
      "metadata": {
        "id": "JuqZkm5QuozM"
      },
      "source": [
        "We can also generate another type of maps in order to zoom in and out more freely ..."
      ]
    },
    {
      "cell_type": "code",
      "execution_count": null,
      "metadata": {
        "id": "MsfaO6lY9bF8"
      },
      "outputs": [],
      "source": [
        "# Process the topic model to visualize the documents\n",
        "fig_with_datamapplot = topic_model.visualize_document_datamap(\n",
        "    processing_list,\n",
        "    reduced_embeddings=reduced_embeddings,\n",
        "    interactive=True)\n",
        "\n",
        "# Save the second visualization with datamapplot\n",
        "fig_with_datamapplot.save(\"/content/drive/My Drive/patents_from_google_with_datamapplot.html\")\n",
        "\n",
        "# Show plot\n",
        "fig_with_datamapplot"
      ]
    },
    {
      "cell_type": "markdown",
      "metadata": {
        "id": "v3tO-FzzS83l"
      },
      "source": [
        "What this maps shows is that...\n",
        "\n",
        "Let's dig deeper in our topics and start analyzing the advertisement related topics."
      ]
    },
    {
      "cell_type": "markdown",
      "metadata": {
        "id": "1SdFwpaZvbjM"
      },
      "source": [
        "## Overall evolution of the patents"
      ]
    },
    {
      "cell_type": "markdown",
      "metadata": {
        "id": "OLPTQ7aswqx0"
      },
      "source": [
        "We are now going to see the evolution of the overall patents. This will gives us an idea of the proportions of this topic in Google's focus.\n",
        "\n",
        "Google is primarly a company that sells ads. However, it is also known to ..."
      ]
    },
    {
      "cell_type": "code",
      "execution_count": null,
      "metadata": {
        "id": "JsdaJOGi1T35"
      },
      "outputs": [],
      "source": [
        "# get all topics (int) and add them to every documents\n",
        "patents_dformated[\"topics\"] = topic_model.topics_"
      ]
    },
    {
      "cell_type": "markdown",
      "metadata": {
        "id": "YkY1FSm4wi-q"
      },
      "source": [
        "### Overall evolution"
      ]
    },
    {
      "cell_type": "code",
      "execution_count": null,
      "metadata": {
        "id": "JR0cajJOOSAd"
      },
      "outputs": [],
      "source": [
        "# Add publication_year\n",
        "patents_dformated[\"publication_year\"] = patents_dformated[\"publication_date\"].dt.year\n",
        "\n",
        "# Group by year and topic\n",
        "count_df = patents_dformated.groupby(\n",
        "    [\"publication_year\", \"topics\"]\n",
        ").size().reset_index(name=\"count\")\n",
        "\n",
        "# Plot with color = topics\n",
        "plot_topic_by_year = px.bar(\n",
        "    count_df,\n",
        "    x=\"publication_year\",\n",
        "    y=\"count\",\n",
        "    color=\"topics\",\n",
        "    title=\"Number of patents per year by Topic\",\n",
        "    barmode=\"stack\"\n",
        ")\n",
        "\n",
        "# Save as HTML\n",
        "plot_topic_by_year.write_html(\"/content/drive/My Drive/patents_by_topic_chart.html\")\n",
        "\n",
        "# Show the chart\n",
        "plot_topic_by_year.show()"
      ]
    },
    {
      "cell_type": "code",
      "execution_count": null,
      "metadata": {
        "id": "C4vls8ymOnIs"
      },
      "outputs": [],
      "source": [
        "# Get the topic list to get an idea of the bar chart on top\n",
        "topic_model.get_topic_info()[['Topic', 'Count', 'Name', 'Representation']]"
      ]
    },
    {
      "cell_type": "markdown",
      "metadata": {
        "id": "GVZ064JgJ94R"
      },
      "source": [
        "### Topics over time"
      ]
    },
    {
      "cell_type": "markdown",
      "metadata": {
        "id": "bda-IEbbRFhn"
      },
      "source": [
        "This graph helps us better see which topic grew the most over time..."
      ]
    },
    {
      "cell_type": "code",
      "execution_count": null,
      "metadata": {
        "id": "raJsfWYG75K6"
      },
      "outputs": [],
      "source": [
        "# Process ad-topics related over time\n",
        "topics_over_time = topic_model.topics_over_time(\n",
        "    patents_dformated.iloc[:, 0].tolist(),\n",
        "    patents_dformated['publication_date'].tolist(),\n",
        "    nr_bins=20\n",
        "    )\n",
        "\n",
        "# Save the plot\n",
        "topics_over_time.to_html(\"/content/drive/My Drive/topics_over_time.html\")\n",
        "\n",
        "# Show ad-topics related over time\n",
        "topic_model.visualize_topics_over_time(\n",
        "    topics_over_time\n",
        "    )"
      ]
    },
    {
      "cell_type": "markdown",
      "metadata": {
        "id": "fJaqxnqNdROL"
      },
      "source": [
        "## Digging inside the clusters"
      ]
    },
    {
      "cell_type": "markdown",
      "metadata": {
        "id": "V9Ara_q71w-I"
      },
      "source": [
        "We first want to get our privacy and tracking topics. Using this as an anchor, we can calculate the difference between these topics and every other topics. Then, we can check which are the most related to privacy and surveillance."
      ]
    },
    {
      "cell_type": "markdown",
      "metadata": {
        "id": "_yu99WXz-6if"
      },
      "source": [
        "Let's find where, if there are any, are located the topics for surveillance and privacy. We can then use them to compute"
      ]
    },
    {
      "cell_type": "code",
      "execution_count": null,
      "metadata": {
        "id": "Jrxx5X-GrKQ9"
      },
      "outputs": [],
      "source": [
        "similar_topics_surveillance, similarity_surveillance = topic_model.find_topics(\"tracking\", top_n=1)\n",
        "similar_topics_privacy, similarity_privacy = topic_model.find_topics(\"data privacy\", top_n=1)\n",
        "\n",
        "print(f'surveillance topic : {similar_topics_surveillance} %:{similarity_surveillance[0]}')\n",
        "print(f'privacy topic : {similar_topics_privacy} %:{similarity_privacy[0]}')"
      ]
    },
    {
      "cell_type": "markdown",
      "metadata": {
        "id": "NyMgpoin-dfA"
      },
      "source": [
        "For the following part, the idea was to calculate the cosine similarity of opposite documents or topics like \"privacy\" and \"tracking\".\n",
        "\n",
        "The result is that models based on the distributional hypothesis are not very good at this because antonyms often appear in similar contexts. So if we calculate the cosine similarity of opposite words like the ones we suggested, we would arrive at more or less the same result when using, let's say, a correlation bar chart.\n",
        "\n",
        "For that reason, we are going to compute the polarity score between a privacy topic (positive) and a tracking topic (negative). Let's first get these topics."
      ]
    },
    {
      "cell_type": "markdown",
      "metadata": {
        "id": "doc7iC0l5h85"
      },
      "source": [
        "### Visualization of the subtopics"
      ]
    },
    {
      "cell_type": "markdown",
      "metadata": {
        "id": "T5rWVyPmgasm"
      },
      "source": [
        "Our goal is to answer one question. We'd like to check if Google implement alternative user tracking or targeting practices. For this purpose, we have our patents list that we modeled by topics. We want now to dig in the topics that are related the most to these practices which are :\n",
        "- ...\n",
        "\n",
        "However, all of the documents in these topics are genuinely related to tracking techniques. Thus, we'll find out the clusters that are related to tracking and its opposite, privacy, extract the documents from these topics and calculate the distance with them.\n",
        "\n",
        "This should give us a good idea of the documents that are related to tracking techniques and those that are not. By doing this, we want to confirm that, the past few years, Google was mostly focused on tracking techniques or, the opposite, mostly focused on privacy techniques preserving users' digital life."
      ]
    },
    {
      "cell_type": "markdown",
      "metadata": {
        "id": "FKHHbVLx5l8Q"
      },
      "source": [
        "Let's take a look at each topics individually"
      ]
    },
    {
      "cell_type": "markdown",
      "metadata": {
        "id": "G2heAWwXii-o"
      },
      "source": [
        "#### Model parametering"
      ]
    },
    {
      "cell_type": "code",
      "execution_count": null,
      "metadata": {
        "id": "Nany4KPLkgJf"
      },
      "outputs": [],
      "source": [
        "# Removing the stop-words because BERTopic does not do it by default\n",
        "vectorizer_submodel_indiv = CountVectorizer(\n",
        "    stop_words=\"english\",\n",
        "    ngram_range=(1, 3) # Extract unigrams (1-word), bigrams (2-word), and trigrams (3-word phrases) from the text\n",
        "    )"
      ]
    },
    {
      "cell_type": "code",
      "execution_count": null,
      "metadata": {
        "id": "1gbmN51y8uGL"
      },
      "outputs": [],
      "source": [
        "# Reduce dimensionality of embeddings, this step is optional but much faster to perform iteratively:\n",
        "umap_submodel = UMAP(\n",
        "    n_neighbors=30,\n",
        "    n_components=3,\n",
        "    min_dist=0.1,\n",
        "    metric='cosine',\n",
        "    random_state=42)"
      ]
    },
    {
      "cell_type": "code",
      "execution_count": null,
      "metadata": {
        "id": "EE1t1tvC26yi"
      },
      "outputs": [],
      "source": [
        "# Added because advised to control number of topics through the cluster model (hdbscan by default)\n",
        "hdbscan_submodel = HDBSCAN(\n",
        "    min_cluster_size=20,\n",
        "    max_cluster_size=500,\n",
        "    metric='euclidean',\n",
        "    cluster_selection_method='leaf')"
      ]
    },
    {
      "cell_type": "code",
      "execution_count": null,
      "metadata": {
        "id": "zw4JWBxIvHPO"
      },
      "outputs": [],
      "source": [
        "# Fet all embeddings (float) and add them to the dataframe\n",
        "patents_dformated[\"embeddings\"] = [vec.tolist() for vec in embeddings]"
      ]
    },
    {
      "cell_type": "markdown",
      "metadata": {
        "id": "DtDl2NnE7Zyy"
      },
      "source": [
        "#### Privacy and Tracking topics"
      ]
    },
    {
      "cell_type": "code",
      "execution_count": null,
      "metadata": {
        "id": "61INqUjDp6Yh"
      },
      "outputs": [],
      "source": [
        "sub_topics = []\n",
        "sub_topics.extend(topic_model.find_topics('privacy', top_n=1)[0])\n",
        "sub_topics.extend(topic_model.find_topics('tracking', top_n=1)[0])\n",
        "# Delete duplicates\n",
        "sub_topics = list(set(sub_topics))\n",
        "\n",
        "# Filter the emdeddings just on the topic mentionned above\n",
        "# (reprocessing the embeddings again would take several hours)\n",
        "filtered_embeddings_sub_topics_df = patents_dformated.loc[patents_dformated[\"topics\"].isin(sub_topics)]\n",
        "filtered_sub_topics_df = filtered_embeddings_sub_topics_df['processing']\n",
        "# convert the embeddings\n",
        "filtered_sub_embeddings = filtered_embeddings_sub_topics_df[\"embeddings\"].tolist()\n",
        "filtered_sub_embeddings_mat = csr_matrix(filtered_sub_embeddings)\n",
        "filtered_sub_embeddings = filtered_sub_embeddings_mat.toarray()"
      ]
    },
    {
      "cell_type": "code",
      "execution_count": null,
      "metadata": {
        "id": "BzQVdqGB-t3s"
      },
      "outputs": [],
      "source": [
        "# Train the new subtopics model\n",
        "# subtopic_model = BERTopic(\n",
        "#     embedding_model=sentence_model,\n",
        "#     umap_model=umap_submodel,\n",
        "#     hdbscan_model=hdbscan_submodel,\n",
        "#     vectorizer_model=vectorizer_submodel_indiv,\n",
        "#     representation_model=representation_model\n",
        "#     )\n",
        "\n",
        "# sub_model_topics, sub_model_probs = subtopic_model.fit_transform(filtered_sub_topics_df, filtered_sub_embeddings)\n",
        "# subtopic_model.save(\"/content/drive/My Drive/google_patents_model_subtopics\")\n",
        "\n",
        "# Or load BERTopic in BERTopic v0.9.2 or higher:\n",
        "subtopic_model = BERTopic.load(\"/content/drive/My Drive/google_patents_model_subtopics\")\n",
        "sub_model_topics = subtopic_model._map_predictions(subtopic_model.hdbscan_model.labels_)\n",
        "sub_model_probs = subtopic_model.hdbscan_model.probabilities_"
      ]
    },
    {
      "cell_type": "code",
      "execution_count": null,
      "metadata": {
        "id": "bHcsCBJi6s0m"
      },
      "outputs": [],
      "source": [
        "# Reduce outliers using the `embeddings` strategy\n",
        "reduced_subtopics = subtopic_model.reduce_outliers(\n",
        "    documents=filtered_sub_topics_df.to_list(),\n",
        "    topics=sub_model_topics,\n",
        "    strategy=\"embeddings\",\n",
        "    embeddings=filtered_sub_embeddings,\n",
        "    threshold=0.80\n",
        "    )\n",
        "\n",
        "# Update topics\n",
        "subtopic_model.update_topics(\n",
        "    filtered_sub_topics_df.to_list(),\n",
        "    topics=reduced_subtopics,\n",
        "    vectorizer_model=vectorizer_submodel_indiv\n",
        "    )"
      ]
    },
    {
      "cell_type": "code",
      "execution_count": null,
      "metadata": {
        "id": "y80_HOau_Itl"
      },
      "outputs": [],
      "source": [
        "reduced_filtered_submodel_embeddings = UMAP(\n",
        "    n_neighbors=15,\n",
        "    min_dist=0.1,\n",
        "    n_components=2,\n",
        "    metric='cosine',\n",
        "    random_state=42\n",
        "    ).fit_transform(filtered_sub_embeddings)"
      ]
    },
    {
      "cell_type": "code",
      "execution_count": null,
      "metadata": {
        "id": "o9i9N6fo_cFi"
      },
      "outputs": [],
      "source": [
        "# Put it in the new document visualisation\n",
        "# Process the subtopic model to visualize the documents\n",
        "fig_with_datamapplot_subtopics = subtopic_model.visualize_document_datamap(\n",
        "    docs=filtered_sub_topics_df.tolist(),\n",
        "    reduced_embeddings=reduced_filtered_submodel_embeddings,\n",
        "    interactive=True\n",
        "    )\n",
        "\n",
        "# Save the second visualization with datamapplot\n",
        "fig_with_datamapplot_subtopics.save(\"/content/drive/My Drive/patents_from_google_with_datamapplot_subtopics.html\")\n",
        "\n",
        "# Show plot\n",
        "fig_with_datamapplot_subtopics"
      ]
    },
    {
      "cell_type": "markdown",
      "metadata": {
        "id": "kqcChQXyY3p3"
      },
      "source": [
        "Let's make an assessment of our model before going further."
      ]
    },
    {
      "cell_type": "code",
      "execution_count": null,
      "metadata": {
        "id": "o-qQ1LD6ZIim"
      },
      "outputs": [],
      "source": [
        "# Get list of words that are used for the topic modeling assessment\n",
        "subtopics_to_evaluate = subtopic_model.get_topic_info()['Representation']"
      ]
    },
    {
      "cell_type": "code",
      "execution_count": null,
      "metadata": {
        "id": "JWlkVBHJZmPn"
      },
      "outputs": [],
      "source": [
        "# Result 1.0 would mean that all words are unique across topics.\n",
        "print(\"proportion of unique words, topk=10:\",proportion_unique_words(subtopics_to_evaluate, topk=10))\n",
        "\n",
        "# Result 1.0 would mean that there are no shared words between any topic pairs\n",
        "print(\"pairwise jaccard diversity, topk=10:\",pairwise_jaccard_diversity(subtopics_to_evaluate, topk=10))\n",
        "\n",
        "# Result 1.0 would mean that there is no overlap even considering rank — perfect diversity.\n",
        "print(\"irbo, p=0.5:\",irbo(subtopics_to_evaluate, weight=0.5, topk=10))"
      ]
    },
    {
      "cell_type": "markdown",
      "metadata": {
        "id": "PLUL9u0PE99T"
      },
      "source": [
        "Now that we have a more granular look at our big topic that contains both privacy and tracking topics, we can dig deeper and get them to have our anchor."
      ]
    },
    {
      "cell_type": "code",
      "execution_count": null,
      "metadata": {
        "id": "3LWXchNZFMPI"
      },
      "outputs": [],
      "source": [
        "similar_subtopics_tracking, similarity_sub_tracking = subtopic_model.find_topics(\"tracking\", top_n=1)\n",
        "similar_subtopics_privacy, similarity_sub_privacy = subtopic_model.find_topics(\"data privacy\", top_n=1)\n",
        "\n",
        "print(f'tracking topic : {similar_subtopics_tracking} %:{similarity_sub_tracking[0]}')\n",
        "print(f'privacy topic : {similar_subtopics_privacy} %:{similarity_sub_privacy[0]}')"
      ]
    },
    {
      "cell_type": "markdown",
      "metadata": {
        "id": "NG4WGZRFR6Xl"
      },
      "source": [
        "This shows what we were expecting. As we said before, models based on the distributional hypothesis are not very good at this because antonyms often appear in similar contexts. So the submodel tells me that the same topic is at the same time the most similar to opposite words.\n",
        "\n",
        "To counter that, it has been decided to find manually a topic that matches the most our \"tracking\" topic. We now have our privacy topic (173 docs) and our tracking topic (750 docs). The latter got chosen because of the main focus of the documents which are network analysis that corresponds the most, according to me, to the definition of tracking techniques."
      ]
    },
    {
      "cell_type": "code",
      "execution_count": null,
      "metadata": {
        "id": "FUNzXdmcaodM"
      },
      "outputs": [],
      "source": [
        "# get all topics (int) and add them to every documents\n",
        "filtered_embeddings_sub_topics_df[\"topics\"] = subtopic_model.topics_"
      ]
    },
    {
      "cell_type": "code",
      "execution_count": null,
      "metadata": {
        "id": "IzJkbFhr-wTx"
      },
      "outputs": [],
      "source": [
        "subtopic_model.get_topic_info(8)"
      ]
    },
    {
      "cell_type": "code",
      "execution_count": null,
      "metadata": {
        "id": "5l_EW3Tj-3vR"
      },
      "outputs": [],
      "source": [
        "topic_model.get_topic_info(10)"
      ]
    },
    {
      "cell_type": "markdown",
      "metadata": {
        "id": "RIO8mp-kanZM"
      },
      "source": [
        "### Merging models"
      ]
    },
    {
      "cell_type": "code",
      "execution_count": null,
      "metadata": {
        "id": "UbDu0WhQam4l"
      },
      "outputs": [],
      "source": [
        "# Combine all models into one\n",
        "merged_model = BERTopic.merge_models([topic_model, subtopic_model], min_similarity=0.6)"
      ]
    },
    {
      "cell_type": "code",
      "execution_count": null,
      "metadata": {
        "id": "lxpHgOwKdh3P"
      },
      "outputs": [],
      "source": [
        "merged_model.get_topic_info()"
      ]
    },
    {
      "cell_type": "markdown",
      "metadata": {
        "id": "IVhXfw6jc2Gp"
      },
      "source": [
        "### Get topic embeddings from merged model"
      ]
    },
    {
      "cell_type": "code",
      "execution_count": null,
      "metadata": {
        "id": "0JMwBHQkx1FS"
      },
      "outputs": [],
      "source": [
        "# Get privacy topic embeddings\n",
        "privacy_centroid = subtopic_model.topic_embeddings_[9]\n",
        "\n",
        "# Get tracking topic embeddings\n",
        "tracking_centroid = topic_model.topic_embeddings_[11]"
      ]
    },
    {
      "cell_type": "markdown",
      "metadata": {
        "id": "x79alwvnGOvY"
      },
      "source": [
        "### Compute polarity score between topics"
      ]
    },
    {
      "cell_type": "markdown",
      "metadata": {
        "id": "3vM2xnZYG1EZ"
      },
      "source": [
        "How does a polarity score works ? It is calculated using (positive- negative) / (positive + negative). This result in a score ranging from -1 to +1. We can then have a better understanding of the topics close to those in privacy topics and those in tracking topics."
      ]
    },
    {
      "cell_type": "code",
      "execution_count": null,
      "metadata": {
        "id": "9FA4ifAnfXQV"
      },
      "outputs": [],
      "source": [
        "# Get topic embeddings\n",
        "topic_vectors = topic_model.topic_embeddings_  # Shape: (n_topics, embedding_dim)\n",
        "topic_ids = topic_model.get_topic_info().Topic.tolist()  # Topic numbers\n",
        "\n",
        "# Get subtopic embeddings\n",
        "subtopic_vectors = subtopic_model.topic_embeddings_  # Shape: (n_topics, embedding_dim)\n",
        "subtopic_ids = subtopic_model.get_topic_info().Topic.tolist()  # Topic numbers"
      ]
    },
    {
      "cell_type": "code",
      "execution_count": null,
      "metadata": {
        "id": "XxYbTY__20Qf"
      },
      "outputs": [],
      "source": [
        "# Calculate the polarity score (using (positive - negative) / (positive + negative))\n",
        "def polarity_score_normalized(topic_vector, priv_centroid, track_centroid):\n",
        "  sim_privacy = cosine_similarity([topic_vector], [priv_centroid])[0][0]\n",
        "  sim_tracking = cosine_similarity([topic_vector], [track_centroid])[0][0]\n",
        "\n",
        "  return (sim_privacy - sim_tracking) / (sim_privacy + sim_tracking)"
      ]
    },
    {
      "cell_type": "code",
      "execution_count": null,
      "metadata": {
        "id": "mh7oofm4jAMN"
      },
      "outputs": [],
      "source": [
        "scores = {}\n",
        "for topic_id, topic_vector in zip(topic_ids, topic_vectors):\n",
        "  score = polarity_score_normalized(\n",
        "      topic_vector,\n",
        "      privacy_centroid,\n",
        "      tracking_centroid\n",
        "      )\n",
        "  scores[topic_id] = score"
      ]
    },
    {
      "cell_type": "code",
      "execution_count": null,
      "metadata": {
        "id": "8b8KlcwwAA0T"
      },
      "outputs": [],
      "source": [
        "# Convert to Series and sort\n",
        "corrplot = pd.Series(scores).sort_values()\n",
        "\n",
        "# Plot\n",
        "fig, ax = plt.subplots(figsize=(17, 12))\n",
        "\n",
        "# TwoSlopeNorm: midpoint = 0 (neutral), red = negative, green = positive\n",
        "vmin = min(scores.values())\n",
        "vmax = max(scores.values())\n",
        "norm = TwoSlopeNorm(vmin=vmin, vcenter=0, vmax=vmax)\n",
        "colors = [plt.cm.RdYlGn(norm(c)) for c in corrplot.values]\n",
        "\n",
        "# Horizontal bar plot\n",
        "corrplot.plot.barh(color=colors, ax=ax)\n",
        "\n",
        "# Labeling\n",
        "ax.set_xlabel(\"Polarity Score (Privacy vs Tracking)\")\n",
        "ax.set_ylabel(\"Topic ID\")\n",
        "ax.set_title(\"Topic Alignment with Privacy (Red = Tracking-Aligned, Green = Privacy-Aligned)\")\n",
        "\n",
        "plt.grid(True)\n",
        "plt.show()"
      ]
    },
    {
      "cell_type": "markdown",
      "metadata": {
        "id": "EZRNBdMAHhcb"
      },
      "source": [
        "This plot shows the problem that we have with embeddings. For 2 opposites words, we end up having a really tight polarity score indicating ..."
      ]
    },
    {
      "cell_type": "markdown",
      "metadata": {
        "id": "f8zcMez6WyF0"
      },
      "source": [
        "### Try with standard techniques"
      ]
    },
    {
      "cell_type": "markdown",
      "metadata": {
        "id": "V_kW-q8SXz2R"
      },
      "source": [
        "Since we have some troubles with the embeddings, we're going to use a technique that do not requires embeddings. We are going with traditionnal machine learning model like logistic regression, SVM and others.\n",
        "\n",
        "By doing this, we are going to classify our patents from 0 to 2 depending if they are tracking related (0), neutrals (1) or privacy related (2).\n",
        "\n",
        "It is interesting to note that other tools have been tried like Vader, a sentiment analyser classifier based on a lexicon, and an NLI (Natural Language Inference) based on embeddings which lead to the same problem."
      ]
    },
    {
      "cell_type": "markdown",
      "metadata": {
        "id": "pCrUZNDffdb6"
      },
      "source": [
        "#### Define privacy topic from 2nd model"
      ]
    },
    {
      "cell_type": "code",
      "execution_count": null,
      "metadata": {
        "id": "HoRoip_sfcdT"
      },
      "outputs": [],
      "source": [
        "# Isolate privacy topics from second topic\n",
        "privacy_topic = filtered_embeddings_sub_topics_df[filtered_embeddings_sub_topics_df[\"topics\"] == 8]\n",
        "\n",
        "# Update with new values so it doesn't match with the ones from the main topic\n",
        "privacy_topic['topics'] = 11\n",
        "\n",
        "# Update main dataframe with values from second dataframe\n",
        "patents_dformated.update(privacy_topic)"
      ]
    },
    {
      "cell_type": "markdown",
      "metadata": {
        "id": "95FyZcA3fix6"
      },
      "source": [
        "#### Create train dataframe"
      ]
    },
    {
      "cell_type": "markdown",
      "metadata": {
        "id": "-s-DYh1agNBp"
      },
      "source": [
        "Here is the method for spliting the dataset and obtain a few samples in order to manually classify them. A focus has been made on the privacy-related topic and tracking-related-topic (the latter defined arbitrarely).\n",
        "\n",
        "One thing interesting to note is the way the classification has been made, or why some patents were classify (manually) as privacy-related or tracking-related.\n",
        "\n",
        "- If the purpose of the patent is about privacy or tracking, they were classify according to the purpose.\n",
        "- If they were about data processing but not related to any of them, they were classify as neutral.\n",
        "- Some patents may include tracking but the purpose was the development of a privacy tool, then they have been categorized as privacy ; which is also the reason why they are so close together.\n",
        "- Some patents may have words like \"location\" which may think of tracking but are actually related on the location of fingers on a screen."
      ]
    },
    {
      "cell_type": "code",
      "execution_count": null,
      "metadata": {
        "id": "LlGeEMJhjiVS"
      },
      "outputs": [],
      "source": [
        "# Some documents of every topic of the dataset to label them as privacy friendly or not\n",
        "# Select privacy and tracking documents\n",
        "privacy_df = patents_dformated[patents_dformated['topics'] == 11].sample(n=150, random_state=42)\n",
        "tracking_df = patents_dformated[patents_dformated['topics'] == 10].sample(n=200, random_state=42)\n",
        "\n",
        "# Drop selected privacy/tracking docs from full dataset to avoid duplicates\n",
        "remaining_df = patents_dformated.drop(privacy_df.index).drop(tracking_df.index)\n",
        "\n",
        "# Sample 1000 general documents (neutral or unlabeled)\n",
        "neutral_df = remaining_df.sample(n=750, random_state=42)\n",
        "\n",
        "# Combine all into one training dataset\n",
        "train_df = pd.concat([privacy_df, tracking_df, neutral_df]).sample(frac=1, random_state=42).reset_index(drop=True)\n",
        "\n",
        "# Get the patents_dformated without the rows used for training\n",
        "predicting_df = patents_dformated.drop(train_df.index)\n",
        "\n",
        "# Save the files in excel format\n",
        "train_df.to_excel('/content/drive/My Drive/train_df.xlsx')\n",
        "predicting_df.to_excel('/content/drive/My Drive/predicting_df.xlsx')\n",
        "\n",
        "# Or read the file\n",
        "# train_df = pd.read_excel('/content/drive/My Drive/train_df.xlsx')\n",
        "# predicting_df = pd.read_excel('/content/drive/My Drive/predicting_df.xlsx')"
      ]
    },
    {
      "cell_type": "markdown",
      "metadata": {
        "id": "XJru-uQdfp4C"
      },
      "source": [
        "#### Define labels"
      ]
    },
    {
      "cell_type": "markdown",
      "metadata": {
        "id": "XGkqehqfgi5E"
      },
      "source": [
        "To delete later, just have to replace train_df with my actual real training dataset"
      ]
    },
    {
      "cell_type": "code",
      "execution_count": null,
      "metadata": {
        "id": "m1jt49wLjReX"
      },
      "outputs": [],
      "source": [
        "# Define conditions\n",
        "conditions = [\n",
        "    train_df['topics'] == 11,  # privacy\n",
        "    train_df['topics'] == 10   # tracking\n",
        "]\n",
        "\n",
        "train_df['label'] = 1\n",
        "\n",
        "# Create labels: 0 for tracking (topic 10), 2 for privacy (topic 11), 1 for neutral as hugging face classifier expect non negative integers\n",
        "label_conditions = [\n",
        "    train_df['topics'] == 11,  # tracking\n",
        "    train_df['topics'] == 10   # privacy\n",
        "]\n",
        "\n",
        "label_values = [2, 0]\n",
        "\n",
        "train_df['label'] = np.select(label_conditions, label_values, default=1)"
      ]
    },
    {
      "cell_type": "markdown",
      "metadata": {
        "id": "AeYI872mf6td"
      },
      "source": [
        "#### Create tfidf on processing column"
      ]
    },
    {
      "cell_type": "code",
      "execution_count": null,
      "metadata": {
        "id": "Fzr71g2M7Mr3"
      },
      "outputs": [],
      "source": [
        "# Vectorize documents with tfidf\n",
        "documents = train_df['processing']\n",
        "\n",
        "vectorizer = TfidfVectorizer(max_features=5000)\n",
        "X_tfidf = vectorizer.fit_transform(documents)  # sparse matrix (n_samples, n_features)\n",
        "\n",
        "# Convert sparse matrix to dense, then to list of vectors\n",
        "train_df['processing_tfidf'] = list(X_tfidf.toarray())"
      ]
    },
    {
      "cell_type": "markdown",
      "metadata": {
        "id": "_Yn1CUL2f-sD"
      },
      "source": [
        "#### Split the train dataset"
      ]
    },
    {
      "cell_type": "code",
      "execution_count": null,
      "metadata": {
        "id": "zyKKZ3d5rgZb"
      },
      "outputs": [],
      "source": [
        "# Split the data into training and testing sets\n",
        "X = vectorizer.fit_transform(train_df['processing'])\n",
        "y = train_df['label']\n",
        "\n",
        "X_train, X_test, y_train, y_test = train_test_split(\n",
        "    X, y,\n",
        "    test_size=0.2,\n",
        "    random_state=42,\n",
        "    stratify=y\n",
        ")"
      ]
    },
    {
      "cell_type": "code",
      "execution_count": null,
      "metadata": {
        "id": "mBDHFnL_b05u"
      },
      "outputs": [],
      "source": [
        "print(X)\n",
        "print(y)\n",
        "print(X_train.shape)\n",
        "print(X_test.shape)"
      ]
    },
    {
      "cell_type": "code",
      "execution_count": null,
      "metadata": {
        "id": "0FTlKMRH9koA"
      },
      "outputs": [],
      "source": [
        "# find privacy and tracking doc to make a quick test\n",
        "privacy_doc_test = 'System and method for detecting sensitive information leakage while preserving privacy Systems and methods for privacy preserving data loss detection include: performing a scan of online information for candidate data leaks to generate an online data set; performing an analysis of the online data set to determine that online information is a candidate data leak; the host encrypts the data communication and provides the host encrypted data communication to a software agent at the enterprise; in response to receiving the host encrypted data communication, the software agent encrypts the enterprise information database and re-encrypts and provides the host encrypted data communication to the host; the host decrypting the host encrypted aspect of the re-encrypted data communication to generate a software agent encrypted data communication; determining whether a match exists between the encrypted information database and the software agent encrypted data communication; and depending on whether a match exists, the software agent takes a first action or the host takes a second action., Systems and methods for detecting sensitive information leakage while preserving privacy Privacy-preserving data loss detection, including a sweep of online information for a candidate data leakage to generate an online data set; analyzing the online data set to determine that the online information is candidate data leakage; the host encrypting the data communication and providing the host-encrypted data communication to a software agent at the enterprise; in response to receiving the host-encrypted data communication, the software agent encrypting a database of enterprise information and re-encrypting the host-encrypted data communication, and providing the same to the host; the host decrypting a host-encrypted aspect of the re-encrypted data communication to generate a software agent-encrypted data communication'\n",
        "tracking_doc_test = 'Social circle in social networks The application is related to the social circle in social networks.For the figured contact data that description transmission is used to show contact person for being shown to user, contact person is contact person of the user in computer-implemented social networking service；The first social circle of user is generated, the first social circle includes first contact subset of the user in social networking service and defines the first distribution for digital content；The second social circle of user is generated, the second social circle includes second contact subset of the user in social networking service and defines the second distribution for digital content；And inputted in response to user, there is provided for being selected by user to define the distribution of digital content, distribution includes at least one distribution in the first distribution and the second distribution for the first social circle and the second social circle., Social circles in social networks Described is transmitting contact data for displaying graphical representations of contacts for display to a user, the contacts being contacts of the user within a computer-implemented social networking service, generating a first social circle of the user, the first social circle comprising a first subset of contacts of the user within the social networking service and defining a first distribution for digital content, generating a second social circle of the user, the second social circle comprising a second subset of contacts of the user within the social networking service and defining a second distribution for digital content, and, in response to user input, providing the first social circle and the second social circle for selection by the user to define a distribution of digital content, the distribution comprising at least one of the first distribution and the second distribution.'\n",
        "\n",
        "privacy_doc_test_vectorized = vectorizer.transform([privacy_doc_test])\n",
        "tracking_doc_test_vectorized = vectorizer.transform([tracking_doc_test])"
      ]
    },
    {
      "cell_type": "code",
      "execution_count": null,
      "metadata": {
        "id": "eaPkxqFScB_S"
      },
      "outputs": [],
      "source": [
        "def fit_best_model(model, params) :\n",
        "\n",
        "    scoring = {\n",
        "        'f1': make_scorer(f1_score, average='macro'),\n",
        "        'precision': make_scorer(precision_score, average='macro'),\n",
        "        'recall': make_scorer(recall_score, average='macro')\n",
        "    }\n",
        "\n",
        "    # Fit using gridSearchCV for cross-validation\n",
        "    model_cv = GridSearchCV(\n",
        "      model,\n",
        "      params,\n",
        "      cv=5,\n",
        "      n_jobs=-1, # The number of CPU cores used during cv loop. -1 means all\n",
        "      return_train_score=True,\n",
        "      verbose = 0, # Enable verbose output, 0 = silent\n",
        "      # P quantifies how many of the positive predictions made by the model were actually correct\n",
        "      # R measures how well the model identifies all the actual positive instances\n",
        "      # f1 balance the 2 providing a single value that represents the overall performance\n",
        "      scoring = scoring,\n",
        "      refit='f1'\n",
        "    )\n",
        "\n",
        "    model_cv.fit(X, y)\n",
        "\n",
        "    # Return the best parameters giving the best results\n",
        "    # the best estimator that was chosen by the search,\n",
        "    # the scorer function used on the held out data to choose the best parameters for the model.\n",
        "    return model_cv.best_params_, model_cv.best_estimator_, model_cv.cv_results_"
      ]
    },
    {
      "cell_type": "code",
      "execution_count": null,
      "metadata": {
        "id": "sAbVi9YoW61e"
      },
      "outputs": [],
      "source": [
        "# Logistic regression\n",
        "params_lr = {\n",
        "    'fit_intercept' : [True],\n",
        "    'dual' : [False], # Dual or primal formulation\n",
        "    'penalty' : ['l2'], # l1 and elasticnet not always supported with multiclass\n",
        "    'solver' : ['lbfgs', 'newton-cg', 'newton-cholesky', 'sag', 'saga'], # only classes that supports multiclass\n",
        "    'tol' : [0.0001], # Tolerance for stopping criteria\n",
        "    'max_iter' : [100], # Max iteration during training\n",
        "    'class_weight' : [None] # Give more weight to some classes, if None all classes are 1\n",
        "}\n",
        "\n",
        "lr = LogisticRegression()\n",
        "\n",
        "lr_best_params_, lr_best_estimator_, lr_results_ = fit_best_model(lr, params_lr)"
      ]
    },
    {
      "cell_type": "code",
      "execution_count": null,
      "metadata": {
        "id": "Yr4ZfKYsXhDH"
      },
      "outputs": [],
      "source": [
        "# Support Vector Machine (SVM)\n",
        "params_lsvc = {\n",
        "    'penalty' : ['l2'], # Norm used in penalization\n",
        "    'loss' : ['hinge'], # Specifies loss function\n",
        "    'dual' : [True], # Select algo to either solve dual or primal optimization problem\n",
        "    'tol' : [1e-3], # Tolerance for stopping criteria\n",
        "    'C' : [0.01, 0.1, 1], # Regularization parameter\n",
        "    'multi_class' : [\"ovr\"], # Determines multi-class strategy. Crammer-singer rarely leads to better accuracy so ovr is chosen\n",
        "    'fit_intercept' : [True], # Wether or not to fit an intercept\n",
        "    'intercept_scaling' : [1],\n",
        "    'class_weight' : [None], # Give more weight to some classes, if None all classes are 1\n",
        "    'random_state' : [42], # Control the randomness of the output, 42 is the least possible\n",
        "    'max_iter' : [100], # Max iteration during training\n",
        "}\n",
        "\n",
        "lsvc = LinearSVC()\n",
        "\n",
        "lsvc_best_params, lsvc_best_estimator, lsvc_results_ = fit_best_model(lsvc, params_lsvc)"
      ]
    },
    {
      "cell_type": "code",
      "execution_count": null,
      "metadata": {
        "id": "wcrw9wM5XlgU"
      },
      "outputs": [],
      "source": [
        "# Random forest\n",
        "params_rfc = {\n",
        "    'n_estimators' : [100], # Number of trees in the forest\n",
        "    'criterion' : ['gini', 'entropy', 'log_loss'], # Measure to split a node\n",
        "    'max_depth' : [None], # Max depth of the tree\n",
        "    'min_samples_split' : [2], # Min number of samples required to split an internal node\n",
        "    'min_samples_leaf' : [1], # Min number of samples required to be at a leaf node\n",
        "    'min_weight_fraction_leaf' : [0.0], # Min weighted fraction of the sum total of weights required to be at a leaf node\n",
        "    'max_features' : [100], # Number of features to consider when looking for the best split\n",
        "    'max_leaf_nodes' : [None], # Grow trees with this param is best-first fashion\n",
        "    'min_impurity_decrease' : [0.0], # A node will be split if this split induces a decrease of the impurity > or = to this value\n",
        "    'bootstrap' : [False], # Technique used to create multiple, diverse datasets from the original training data\n",
        "    'oob_score' : [False], # Whether to use out-of-bag samples to estimate the generalization score\n",
        "    'random_state' : [42], # Control the randomness of the output, 42 is the least possible\n",
        "    'warm_start' : [False], # Reuse solution of previous call to fit and add more estimators to the ensemble\n",
        "    'class_weight' : [None],  # Give more weight to some classes, if None all classes are 1\n",
        "    'ccp_alpha' : [0.0], # Complexity parameter used for Minimal Cost-Complexity\n",
        "    'max_samples' : [None], # Based on bootstrap=True, so this parameter is set to none\n",
        "    'monotonic_cst' : [None] # As the value of one input feature increases, the output of the model either always increases or always decreases, keeping other variables unchanged\n",
        "}\n",
        "\n",
        "rfc = RandomForestClassifier()\n",
        "\n",
        "rfc_best_params, rfc_best_estimator, rfc_results_ = fit_best_model(rfc, params_rfc)"
      ]
    },
    {
      "cell_type": "code",
      "execution_count": null,
      "metadata": {
        "id": "Mf5JmhVXYsyH"
      },
      "outputs": [],
      "source": [
        "# XGBoost\n",
        "params_xgb = {\n",
        "    'objective': ['multi:softmax', 'multi:softprob'], # Defining multi-classification with softmax and softprob\n",
        "    'num_class': [3], # Number of classes\n",
        "    'max_depth': [4], # Max depth of a tree 4-6\n",
        "    'subsample': [0.5], # Subsample ratio of the training instances and helps prevent overfitting. Between 0-1\n",
        "    'learning_rate': [0.1],\n",
        "    'sampling_method': ['uniform'], # Method to use to sample the training instance, uniform means each training instance has an equal prob of being selected\n",
        "    'gamma': [0], # Min loss reduction required to make a further partition on a leaf node of the tree. Larger gamma, the more conservative the algo is\n",
        "    'n_estimators': [100],\n",
        "    'scale_pos_weight': [1], # Control balance of pos and neg weights, useful for unbalanced classes\n",
        "    'eval_metric': ['rmse'] # Metric used for model assessment\n",
        "}\n",
        "\n",
        "xgbc = xgb.XGBClassifier()\n",
        "\n",
        "xgbc_best_params, xgbc_best_estimator, xgbc_results_ = fit_best_model(xgbc, params_xgb)"
      ]
    },
    {
      "cell_type": "markdown",
      "metadata": {
        "id": "0_sWCwTsKRCb"
      },
      "source": [
        "### Assess the models"
      ]
    },
    {
      "cell_type": "markdown",
      "metadata": {
        "id": "rOl0pslKKpUL"
      },
      "source": [
        "Now that all of our models are tested, we can find the one that gives the \"best result\". This also means that we take one that ... (talk about false positive and true negative and why we chose the one that makes more true negative or false positive)"
      ]
    },
    {
      "cell_type": "code",
      "execution_count": null,
      "metadata": {
        "id": "_D03qyCQ9DAJ"
      },
      "outputs": [],
      "source": [
        "# Logistic regression assessment\n",
        "print(\"Mean precision:\", lr_results_['mean_test_precision'])\n",
        "print(\"Mean recall:\", lr_results_['mean_test_recall'])\n",
        "print(\"Mean f1:\", lr_results_['mean_test_f1'])"
      ]
    },
    {
      "cell_type": "code",
      "execution_count": null,
      "metadata": {
        "id": "WnTum6skBEh4"
      },
      "outputs": [],
      "source": [
        "# Support Vector Machine (SVM) assessment\n",
        "print(\"Mean precision:\", lsvc_results_['mean_test_precision'])\n",
        "print(\"Mean recall:\", lsvc_results_['mean_test_recall'])\n",
        "print(\"Mean f1:\", lsvc_results_['mean_test_f1'])"
      ]
    },
    {
      "cell_type": "code",
      "execution_count": null,
      "metadata": {
        "id": "_O9cWBFzBKqm"
      },
      "outputs": [],
      "source": [
        "# Random forest assessment\n",
        "print(\"Mean precision:\", rfc_results_['mean_test_precision'])\n",
        "print(\"Mean recall:\", rfc_results_['mean_test_recall'])\n",
        "print(\"Mean f1:\", rfc_results_['mean_test_f1'])"
      ]
    },
    {
      "cell_type": "code",
      "execution_count": null,
      "metadata": {
        "id": "mX3pYCuzAscX"
      },
      "outputs": [],
      "source": [
        "# XGBoost assessment\n",
        "print(\"Mean precision:\", xgbc_results_['mean_test_precision'])\n",
        "print(\"Mean recall:\", xgbc_results_['mean_test_recall'])\n",
        "print(\"Mean f1:\", xgbc_results_['mean_test_f1'])"
      ]
    },
    {
      "cell_type": "markdown",
      "metadata": {
        "id": "qPxNtwakJ7oY"
      },
      "source": [
        "### Predict the whole dataset"
      ]
    },
    {
      "cell_type": "code",
      "execution_count": null,
      "metadata": {
        "id": "Z_6XcBVZJ_VH"
      },
      "outputs": [],
      "source": [
        "# Make the prediction over the dataset\n"
      ]
    },
    {
      "cell_type": "markdown",
      "metadata": {
        "id": "Sq_vzXrV-VUs"
      },
      "source": [
        "## Get privacy/tracking related documents"
      ]
    },
    {
      "cell_type": "code",
      "execution_count": null,
      "metadata": {
        "id": "yYRBrg7AfUXM"
      },
      "outputs": [],
      "source": [
        "# Closest to privacy\n"
      ]
    },
    {
      "cell_type": "code",
      "execution_count": null,
      "metadata": {
        "id": "f4vfCziJDtRo"
      },
      "outputs": [],
      "source": [
        "# Furthest from privacy\n"
      ]
    },
    {
      "cell_type": "markdown",
      "metadata": {
        "id": "UbijYP0IJYBk"
      },
      "source": [
        "### Display evolution of privacy, neutral and tracking related topics"
      ]
    },
    {
      "cell_type": "code",
      "execution_count": null,
      "metadata": {
        "id": "zDaa_OfvJyMf"
      },
      "outputs": [],
      "source": [
        "# Plot the evolution\n"
      ]
    },
    {
      "cell_type": "markdown",
      "metadata": {
        "id": "3bm-c9NSg6hq"
      },
      "source": [
        "### Select our documents"
      ]
    },
    {
      "cell_type": "markdown",
      "metadata": {
        "id": "24jdODm2g8MF"
      },
      "source": [
        "We can now select our documents..."
      ]
    },
    {
      "cell_type": "code",
      "execution_count": null,
      "metadata": {
        "id": "Gsm6M2P6hAO3"
      },
      "outputs": [],
      "source": [
        "# Take those of the last 10 years\n",
        "\n",
        "\n",
        "# See the evolution through out the years, the kind of patents it is and doing the same for privacy focused content\n",
        "\n",
        "\n",
        "# Manually dig into the documents and read what it's about OR using a sentiment based algorithm to help identifying\n",
        "# patents that can be concerning regarding privacy and those that are not\n",
        "\n",
        "\n",
        "# Make a comparison\n"
      ]
    },
    {
      "cell_type": "markdown",
      "metadata": {
        "id": "8AcEdg1ahnYy"
      },
      "source": [
        "# Conclusion"
      ]
    },
    {
      "cell_type": "markdown",
      "metadata": {
        "id": "owtZkrxphqeZ"
      },
      "source": [
        "What is it about ?"
      ]
    }
  ],
  "metadata": {
    "colab": {
      "machine_shape": "hm",
      "provenance": [],
      "mount_file_id": "14t0KRvorRB348gqmpb2Ig9ffLTQS6tqm",
      "authorship_tag": "ABX9TyOQB4/mObCNZUMHapTMhXET",
      "include_colab_link": true
    },
    "kernelspec": {
      "display_name": "Python 3",
      "name": "python3"
    },
    "language_info": {
      "name": "python"
    },
    "widgets": {
      "application/vnd.jupyter.widget-state+json": {
        "fbe9d53e04eb4437bbab4066313e68ae": {
          "model_module": "@jupyter-widgets/controls",
          "model_name": "HBoxModel",
          "model_module_version": "1.5.0",
          "state": {
            "_dom_classes": [],
            "_model_module": "@jupyter-widgets/controls",
            "_model_module_version": "1.5.0",
            "_model_name": "HBoxModel",
            "_view_count": null,
            "_view_module": "@jupyter-widgets/controls",
            "_view_module_version": "1.5.0",
            "_view_name": "HBoxView",
            "box_style": "",
            "children": [
              "IPY_MODEL_183c53b47605495e99ce62fa56dd3e23",
              "IPY_MODEL_07b58733f1404bc08cbe476fe0119efa",
              "IPY_MODEL_45f556f13411440297c77d678f17179a"
            ],
            "layout": "IPY_MODEL_a5856a92512b4123bb254781706a826b"
          }
        },
        "183c53b47605495e99ce62fa56dd3e23": {
          "model_module": "@jupyter-widgets/controls",
          "model_name": "HTMLModel",
          "model_module_version": "1.5.0",
          "state": {
            "_dom_classes": [],
            "_model_module": "@jupyter-widgets/controls",
            "_model_module_version": "1.5.0",
            "_model_name": "HTMLModel",
            "_view_count": null,
            "_view_module": "@jupyter-widgets/controls",
            "_view_module_version": "1.5.0",
            "_view_name": "HTMLView",
            "description": "",
            "description_tooltip": null,
            "layout": "IPY_MODEL_8cf75de4668845c9a62e295dbc8bbb18",
            "placeholder": "​",
            "style": "IPY_MODEL_06fcf954be3b460fa2bc5ca88c1c50c6",
            "value": "modules.json: 100%"
          }
        },
        "07b58733f1404bc08cbe476fe0119efa": {
          "model_module": "@jupyter-widgets/controls",
          "model_name": "FloatProgressModel",
          "model_module_version": "1.5.0",
          "state": {
            "_dom_classes": [],
            "_model_module": "@jupyter-widgets/controls",
            "_model_module_version": "1.5.0",
            "_model_name": "FloatProgressModel",
            "_view_count": null,
            "_view_module": "@jupyter-widgets/controls",
            "_view_module_version": "1.5.0",
            "_view_name": "ProgressView",
            "bar_style": "success",
            "description": "",
            "description_tooltip": null,
            "layout": "IPY_MODEL_47815cdb8ef940f58c1bbf84804ec587",
            "max": 229,
            "min": 0,
            "orientation": "horizontal",
            "style": "IPY_MODEL_d7c1e0847c52403e9a95363cd3f50805",
            "value": 229
          }
        },
        "45f556f13411440297c77d678f17179a": {
          "model_module": "@jupyter-widgets/controls",
          "model_name": "HTMLModel",
          "model_module_version": "1.5.0",
          "state": {
            "_dom_classes": [],
            "_model_module": "@jupyter-widgets/controls",
            "_model_module_version": "1.5.0",
            "_model_name": "HTMLModel",
            "_view_count": null,
            "_view_module": "@jupyter-widgets/controls",
            "_view_module_version": "1.5.0",
            "_view_name": "HTMLView",
            "description": "",
            "description_tooltip": null,
            "layout": "IPY_MODEL_6afb3b7a7e1848a18516d796139df53b",
            "placeholder": "​",
            "style": "IPY_MODEL_3d4ca98bbb13441da1d786d2cf8dc9cc",
            "value": " 229/229 [00:00&lt;00:00, 22.6kB/s]"
          }
        },
        "a5856a92512b4123bb254781706a826b": {
          "model_module": "@jupyter-widgets/base",
          "model_name": "LayoutModel",
          "model_module_version": "1.2.0",
          "state": {
            "_model_module": "@jupyter-widgets/base",
            "_model_module_version": "1.2.0",
            "_model_name": "LayoutModel",
            "_view_count": null,
            "_view_module": "@jupyter-widgets/base",
            "_view_module_version": "1.2.0",
            "_view_name": "LayoutView",
            "align_content": null,
            "align_items": null,
            "align_self": null,
            "border": null,
            "bottom": null,
            "display": null,
            "flex": null,
            "flex_flow": null,
            "grid_area": null,
            "grid_auto_columns": null,
            "grid_auto_flow": null,
            "grid_auto_rows": null,
            "grid_column": null,
            "grid_gap": null,
            "grid_row": null,
            "grid_template_areas": null,
            "grid_template_columns": null,
            "grid_template_rows": null,
            "height": null,
            "justify_content": null,
            "justify_items": null,
            "left": null,
            "margin": null,
            "max_height": null,
            "max_width": null,
            "min_height": null,
            "min_width": null,
            "object_fit": null,
            "object_position": null,
            "order": null,
            "overflow": null,
            "overflow_x": null,
            "overflow_y": null,
            "padding": null,
            "right": null,
            "top": null,
            "visibility": null,
            "width": null
          }
        },
        "8cf75de4668845c9a62e295dbc8bbb18": {
          "model_module": "@jupyter-widgets/base",
          "model_name": "LayoutModel",
          "model_module_version": "1.2.0",
          "state": {
            "_model_module": "@jupyter-widgets/base",
            "_model_module_version": "1.2.0",
            "_model_name": "LayoutModel",
            "_view_count": null,
            "_view_module": "@jupyter-widgets/base",
            "_view_module_version": "1.2.0",
            "_view_name": "LayoutView",
            "align_content": null,
            "align_items": null,
            "align_self": null,
            "border": null,
            "bottom": null,
            "display": null,
            "flex": null,
            "flex_flow": null,
            "grid_area": null,
            "grid_auto_columns": null,
            "grid_auto_flow": null,
            "grid_auto_rows": null,
            "grid_column": null,
            "grid_gap": null,
            "grid_row": null,
            "grid_template_areas": null,
            "grid_template_columns": null,
            "grid_template_rows": null,
            "height": null,
            "justify_content": null,
            "justify_items": null,
            "left": null,
            "margin": null,
            "max_height": null,
            "max_width": null,
            "min_height": null,
            "min_width": null,
            "object_fit": null,
            "object_position": null,
            "order": null,
            "overflow": null,
            "overflow_x": null,
            "overflow_y": null,
            "padding": null,
            "right": null,
            "top": null,
            "visibility": null,
            "width": null
          }
        },
        "06fcf954be3b460fa2bc5ca88c1c50c6": {
          "model_module": "@jupyter-widgets/controls",
          "model_name": "DescriptionStyleModel",
          "model_module_version": "1.5.0",
          "state": {
            "_model_module": "@jupyter-widgets/controls",
            "_model_module_version": "1.5.0",
            "_model_name": "DescriptionStyleModel",
            "_view_count": null,
            "_view_module": "@jupyter-widgets/base",
            "_view_module_version": "1.2.0",
            "_view_name": "StyleView",
            "description_width": ""
          }
        },
        "47815cdb8ef940f58c1bbf84804ec587": {
          "model_module": "@jupyter-widgets/base",
          "model_name": "LayoutModel",
          "model_module_version": "1.2.0",
          "state": {
            "_model_module": "@jupyter-widgets/base",
            "_model_module_version": "1.2.0",
            "_model_name": "LayoutModel",
            "_view_count": null,
            "_view_module": "@jupyter-widgets/base",
            "_view_module_version": "1.2.0",
            "_view_name": "LayoutView",
            "align_content": null,
            "align_items": null,
            "align_self": null,
            "border": null,
            "bottom": null,
            "display": null,
            "flex": null,
            "flex_flow": null,
            "grid_area": null,
            "grid_auto_columns": null,
            "grid_auto_flow": null,
            "grid_auto_rows": null,
            "grid_column": null,
            "grid_gap": null,
            "grid_row": null,
            "grid_template_areas": null,
            "grid_template_columns": null,
            "grid_template_rows": null,
            "height": null,
            "justify_content": null,
            "justify_items": null,
            "left": null,
            "margin": null,
            "max_height": null,
            "max_width": null,
            "min_height": null,
            "min_width": null,
            "object_fit": null,
            "object_position": null,
            "order": null,
            "overflow": null,
            "overflow_x": null,
            "overflow_y": null,
            "padding": null,
            "right": null,
            "top": null,
            "visibility": null,
            "width": null
          }
        },
        "d7c1e0847c52403e9a95363cd3f50805": {
          "model_module": "@jupyter-widgets/controls",
          "model_name": "ProgressStyleModel",
          "model_module_version": "1.5.0",
          "state": {
            "_model_module": "@jupyter-widgets/controls",
            "_model_module_version": "1.5.0",
            "_model_name": "ProgressStyleModel",
            "_view_count": null,
            "_view_module": "@jupyter-widgets/base",
            "_view_module_version": "1.2.0",
            "_view_name": "StyleView",
            "bar_color": null,
            "description_width": ""
          }
        },
        "6afb3b7a7e1848a18516d796139df53b": {
          "model_module": "@jupyter-widgets/base",
          "model_name": "LayoutModel",
          "model_module_version": "1.2.0",
          "state": {
            "_model_module": "@jupyter-widgets/base",
            "_model_module_version": "1.2.0",
            "_model_name": "LayoutModel",
            "_view_count": null,
            "_view_module": "@jupyter-widgets/base",
            "_view_module_version": "1.2.0",
            "_view_name": "LayoutView",
            "align_content": null,
            "align_items": null,
            "align_self": null,
            "border": null,
            "bottom": null,
            "display": null,
            "flex": null,
            "flex_flow": null,
            "grid_area": null,
            "grid_auto_columns": null,
            "grid_auto_flow": null,
            "grid_auto_rows": null,
            "grid_column": null,
            "grid_gap": null,
            "grid_row": null,
            "grid_template_areas": null,
            "grid_template_columns": null,
            "grid_template_rows": null,
            "height": null,
            "justify_content": null,
            "justify_items": null,
            "left": null,
            "margin": null,
            "max_height": null,
            "max_width": null,
            "min_height": null,
            "min_width": null,
            "object_fit": null,
            "object_position": null,
            "order": null,
            "overflow": null,
            "overflow_x": null,
            "overflow_y": null,
            "padding": null,
            "right": null,
            "top": null,
            "visibility": null,
            "width": null
          }
        },
        "3d4ca98bbb13441da1d786d2cf8dc9cc": {
          "model_module": "@jupyter-widgets/controls",
          "model_name": "DescriptionStyleModel",
          "model_module_version": "1.5.0",
          "state": {
            "_model_module": "@jupyter-widgets/controls",
            "_model_module_version": "1.5.0",
            "_model_name": "DescriptionStyleModel",
            "_view_count": null,
            "_view_module": "@jupyter-widgets/base",
            "_view_module_version": "1.2.0",
            "_view_name": "StyleView",
            "description_width": ""
          }
        },
        "d4cc992f547740beb34c2029526ef204": {
          "model_module": "@jupyter-widgets/controls",
          "model_name": "HBoxModel",
          "model_module_version": "1.5.0",
          "state": {
            "_dom_classes": [],
            "_model_module": "@jupyter-widgets/controls",
            "_model_module_version": "1.5.0",
            "_model_name": "HBoxModel",
            "_view_count": null,
            "_view_module": "@jupyter-widgets/controls",
            "_view_module_version": "1.5.0",
            "_view_name": "HBoxView",
            "box_style": "",
            "children": [
              "IPY_MODEL_0b57b98038cb4495b58a9d59083ee70f",
              "IPY_MODEL_a22e3592b3c949f088f195f04279726e",
              "IPY_MODEL_cc8f1d07e0094c0384d988195887d331"
            ],
            "layout": "IPY_MODEL_06ef044ad4a2463aa1faf443750af7b9"
          }
        },
        "0b57b98038cb4495b58a9d59083ee70f": {
          "model_module": "@jupyter-widgets/controls",
          "model_name": "HTMLModel",
          "model_module_version": "1.5.0",
          "state": {
            "_dom_classes": [],
            "_model_module": "@jupyter-widgets/controls",
            "_model_module_version": "1.5.0",
            "_model_name": "HTMLModel",
            "_view_count": null,
            "_view_module": "@jupyter-widgets/controls",
            "_view_module_version": "1.5.0",
            "_view_name": "HTMLView",
            "description": "",
            "description_tooltip": null,
            "layout": "IPY_MODEL_5d9f86f35cea4e359689747a2a548f99",
            "placeholder": "​",
            "style": "IPY_MODEL_37a6cd1461724641bf969a7cff6c053e",
            "value": "config_sentence_transformers.json: 100%"
          }
        },
        "a22e3592b3c949f088f195f04279726e": {
          "model_module": "@jupyter-widgets/controls",
          "model_name": "FloatProgressModel",
          "model_module_version": "1.5.0",
          "state": {
            "_dom_classes": [],
            "_model_module": "@jupyter-widgets/controls",
            "_model_module_version": "1.5.0",
            "_model_name": "FloatProgressModel",
            "_view_count": null,
            "_view_module": "@jupyter-widgets/controls",
            "_view_module_version": "1.5.0",
            "_view_name": "ProgressView",
            "bar_style": "success",
            "description": "",
            "description_tooltip": null,
            "layout": "IPY_MODEL_af38c9f70d2b443faac1e552673a364d",
            "max": 116,
            "min": 0,
            "orientation": "horizontal",
            "style": "IPY_MODEL_4edc1a97f95e4dafa124b319127e15cc",
            "value": 116
          }
        },
        "cc8f1d07e0094c0384d988195887d331": {
          "model_module": "@jupyter-widgets/controls",
          "model_name": "HTMLModel",
          "model_module_version": "1.5.0",
          "state": {
            "_dom_classes": [],
            "_model_module": "@jupyter-widgets/controls",
            "_model_module_version": "1.5.0",
            "_model_name": "HTMLModel",
            "_view_count": null,
            "_view_module": "@jupyter-widgets/controls",
            "_view_module_version": "1.5.0",
            "_view_name": "HTMLView",
            "description": "",
            "description_tooltip": null,
            "layout": "IPY_MODEL_dd6588d4b4c34872a340d6387f770e67",
            "placeholder": "​",
            "style": "IPY_MODEL_1d98d207762c4945a03830941493c3fb",
            "value": " 116/116 [00:00&lt;00:00, 13.2kB/s]"
          }
        },
        "06ef044ad4a2463aa1faf443750af7b9": {
          "model_module": "@jupyter-widgets/base",
          "model_name": "LayoutModel",
          "model_module_version": "1.2.0",
          "state": {
            "_model_module": "@jupyter-widgets/base",
            "_model_module_version": "1.2.0",
            "_model_name": "LayoutModel",
            "_view_count": null,
            "_view_module": "@jupyter-widgets/base",
            "_view_module_version": "1.2.0",
            "_view_name": "LayoutView",
            "align_content": null,
            "align_items": null,
            "align_self": null,
            "border": null,
            "bottom": null,
            "display": null,
            "flex": null,
            "flex_flow": null,
            "grid_area": null,
            "grid_auto_columns": null,
            "grid_auto_flow": null,
            "grid_auto_rows": null,
            "grid_column": null,
            "grid_gap": null,
            "grid_row": null,
            "grid_template_areas": null,
            "grid_template_columns": null,
            "grid_template_rows": null,
            "height": null,
            "justify_content": null,
            "justify_items": null,
            "left": null,
            "margin": null,
            "max_height": null,
            "max_width": null,
            "min_height": null,
            "min_width": null,
            "object_fit": null,
            "object_position": null,
            "order": null,
            "overflow": null,
            "overflow_x": null,
            "overflow_y": null,
            "padding": null,
            "right": null,
            "top": null,
            "visibility": null,
            "width": null
          }
        },
        "5d9f86f35cea4e359689747a2a548f99": {
          "model_module": "@jupyter-widgets/base",
          "model_name": "LayoutModel",
          "model_module_version": "1.2.0",
          "state": {
            "_model_module": "@jupyter-widgets/base",
            "_model_module_version": "1.2.0",
            "_model_name": "LayoutModel",
            "_view_count": null,
            "_view_module": "@jupyter-widgets/base",
            "_view_module_version": "1.2.0",
            "_view_name": "LayoutView",
            "align_content": null,
            "align_items": null,
            "align_self": null,
            "border": null,
            "bottom": null,
            "display": null,
            "flex": null,
            "flex_flow": null,
            "grid_area": null,
            "grid_auto_columns": null,
            "grid_auto_flow": null,
            "grid_auto_rows": null,
            "grid_column": null,
            "grid_gap": null,
            "grid_row": null,
            "grid_template_areas": null,
            "grid_template_columns": null,
            "grid_template_rows": null,
            "height": null,
            "justify_content": null,
            "justify_items": null,
            "left": null,
            "margin": null,
            "max_height": null,
            "max_width": null,
            "min_height": null,
            "min_width": null,
            "object_fit": null,
            "object_position": null,
            "order": null,
            "overflow": null,
            "overflow_x": null,
            "overflow_y": null,
            "padding": null,
            "right": null,
            "top": null,
            "visibility": null,
            "width": null
          }
        },
        "37a6cd1461724641bf969a7cff6c053e": {
          "model_module": "@jupyter-widgets/controls",
          "model_name": "DescriptionStyleModel",
          "model_module_version": "1.5.0",
          "state": {
            "_model_module": "@jupyter-widgets/controls",
            "_model_module_version": "1.5.0",
            "_model_name": "DescriptionStyleModel",
            "_view_count": null,
            "_view_module": "@jupyter-widgets/base",
            "_view_module_version": "1.2.0",
            "_view_name": "StyleView",
            "description_width": ""
          }
        },
        "af38c9f70d2b443faac1e552673a364d": {
          "model_module": "@jupyter-widgets/base",
          "model_name": "LayoutModel",
          "model_module_version": "1.2.0",
          "state": {
            "_model_module": "@jupyter-widgets/base",
            "_model_module_version": "1.2.0",
            "_model_name": "LayoutModel",
            "_view_count": null,
            "_view_module": "@jupyter-widgets/base",
            "_view_module_version": "1.2.0",
            "_view_name": "LayoutView",
            "align_content": null,
            "align_items": null,
            "align_self": null,
            "border": null,
            "bottom": null,
            "display": null,
            "flex": null,
            "flex_flow": null,
            "grid_area": null,
            "grid_auto_columns": null,
            "grid_auto_flow": null,
            "grid_auto_rows": null,
            "grid_column": null,
            "grid_gap": null,
            "grid_row": null,
            "grid_template_areas": null,
            "grid_template_columns": null,
            "grid_template_rows": null,
            "height": null,
            "justify_content": null,
            "justify_items": null,
            "left": null,
            "margin": null,
            "max_height": null,
            "max_width": null,
            "min_height": null,
            "min_width": null,
            "object_fit": null,
            "object_position": null,
            "order": null,
            "overflow": null,
            "overflow_x": null,
            "overflow_y": null,
            "padding": null,
            "right": null,
            "top": null,
            "visibility": null,
            "width": null
          }
        },
        "4edc1a97f95e4dafa124b319127e15cc": {
          "model_module": "@jupyter-widgets/controls",
          "model_name": "ProgressStyleModel",
          "model_module_version": "1.5.0",
          "state": {
            "_model_module": "@jupyter-widgets/controls",
            "_model_module_version": "1.5.0",
            "_model_name": "ProgressStyleModel",
            "_view_count": null,
            "_view_module": "@jupyter-widgets/base",
            "_view_module_version": "1.2.0",
            "_view_name": "StyleView",
            "bar_color": null,
            "description_width": ""
          }
        },
        "dd6588d4b4c34872a340d6387f770e67": {
          "model_module": "@jupyter-widgets/base",
          "model_name": "LayoutModel",
          "model_module_version": "1.2.0",
          "state": {
            "_model_module": "@jupyter-widgets/base",
            "_model_module_version": "1.2.0",
            "_model_name": "LayoutModel",
            "_view_count": null,
            "_view_module": "@jupyter-widgets/base",
            "_view_module_version": "1.2.0",
            "_view_name": "LayoutView",
            "align_content": null,
            "align_items": null,
            "align_self": null,
            "border": null,
            "bottom": null,
            "display": null,
            "flex": null,
            "flex_flow": null,
            "grid_area": null,
            "grid_auto_columns": null,
            "grid_auto_flow": null,
            "grid_auto_rows": null,
            "grid_column": null,
            "grid_gap": null,
            "grid_row": null,
            "grid_template_areas": null,
            "grid_template_columns": null,
            "grid_template_rows": null,
            "height": null,
            "justify_content": null,
            "justify_items": null,
            "left": null,
            "margin": null,
            "max_height": null,
            "max_width": null,
            "min_height": null,
            "min_width": null,
            "object_fit": null,
            "object_position": null,
            "order": null,
            "overflow": null,
            "overflow_x": null,
            "overflow_y": null,
            "padding": null,
            "right": null,
            "top": null,
            "visibility": null,
            "width": null
          }
        },
        "1d98d207762c4945a03830941493c3fb": {
          "model_module": "@jupyter-widgets/controls",
          "model_name": "DescriptionStyleModel",
          "model_module_version": "1.5.0",
          "state": {
            "_model_module": "@jupyter-widgets/controls",
            "_model_module_version": "1.5.0",
            "_model_name": "DescriptionStyleModel",
            "_view_count": null,
            "_view_module": "@jupyter-widgets/base",
            "_view_module_version": "1.2.0",
            "_view_name": "StyleView",
            "description_width": ""
          }
        },
        "f14a7ce431a541ddacff4c85d574777d": {
          "model_module": "@jupyter-widgets/controls",
          "model_name": "HBoxModel",
          "model_module_version": "1.5.0",
          "state": {
            "_dom_classes": [],
            "_model_module": "@jupyter-widgets/controls",
            "_model_module_version": "1.5.0",
            "_model_name": "HBoxModel",
            "_view_count": null,
            "_view_module": "@jupyter-widgets/controls",
            "_view_module_version": "1.5.0",
            "_view_name": "HBoxView",
            "box_style": "",
            "children": [
              "IPY_MODEL_9c493c3b15194967be4c89fae6013b20",
              "IPY_MODEL_ab65a4405b594b11bec894f8d9cd3bae",
              "IPY_MODEL_f59f9a2401db439e80af7fe32cc513b4"
            ],
            "layout": "IPY_MODEL_ba514e1b7e404257bbb75e698a695922"
          }
        },
        "9c493c3b15194967be4c89fae6013b20": {
          "model_module": "@jupyter-widgets/controls",
          "model_name": "HTMLModel",
          "model_module_version": "1.5.0",
          "state": {
            "_dom_classes": [],
            "_model_module": "@jupyter-widgets/controls",
            "_model_module_version": "1.5.0",
            "_model_name": "HTMLModel",
            "_view_count": null,
            "_view_module": "@jupyter-widgets/controls",
            "_view_module_version": "1.5.0",
            "_view_name": "HTMLView",
            "description": "",
            "description_tooltip": null,
            "layout": "IPY_MODEL_246a844b9fc14365944505e8fa96c841",
            "placeholder": "​",
            "style": "IPY_MODEL_8d2da56a46244256a68396d437d746bd",
            "value": "README.md: 100%"
          }
        },
        "ab65a4405b594b11bec894f8d9cd3bae": {
          "model_module": "@jupyter-widgets/controls",
          "model_name": "FloatProgressModel",
          "model_module_version": "1.5.0",
          "state": {
            "_dom_classes": [],
            "_model_module": "@jupyter-widgets/controls",
            "_model_module_version": "1.5.0",
            "_model_name": "FloatProgressModel",
            "_view_count": null,
            "_view_module": "@jupyter-widgets/controls",
            "_view_module_version": "1.5.0",
            "_view_name": "ProgressView",
            "bar_style": "success",
            "description": "",
            "description_tooltip": null,
            "layout": "IPY_MODEL_be4cafb372524a6597771bc33e9432fc",
            "max": 3878,
            "min": 0,
            "orientation": "horizontal",
            "style": "IPY_MODEL_ca13ff3ac1714d9b96090a406618151c",
            "value": 3878
          }
        },
        "f59f9a2401db439e80af7fe32cc513b4": {
          "model_module": "@jupyter-widgets/controls",
          "model_name": "HTMLModel",
          "model_module_version": "1.5.0",
          "state": {
            "_dom_classes": [],
            "_model_module": "@jupyter-widgets/controls",
            "_model_module_version": "1.5.0",
            "_model_name": "HTMLModel",
            "_view_count": null,
            "_view_module": "@jupyter-widgets/controls",
            "_view_module_version": "1.5.0",
            "_view_name": "HTMLView",
            "description": "",
            "description_tooltip": null,
            "layout": "IPY_MODEL_a06ddcce6ce942dcbf6f871cbfe98e0f",
            "placeholder": "​",
            "style": "IPY_MODEL_f790d3cadab042fe9d58c830e4b9284b",
            "value": " 3.88k/3.88k [00:00&lt;00:00, 459kB/s]"
          }
        },
        "ba514e1b7e404257bbb75e698a695922": {
          "model_module": "@jupyter-widgets/base",
          "model_name": "LayoutModel",
          "model_module_version": "1.2.0",
          "state": {
            "_model_module": "@jupyter-widgets/base",
            "_model_module_version": "1.2.0",
            "_model_name": "LayoutModel",
            "_view_count": null,
            "_view_module": "@jupyter-widgets/base",
            "_view_module_version": "1.2.0",
            "_view_name": "LayoutView",
            "align_content": null,
            "align_items": null,
            "align_self": null,
            "border": null,
            "bottom": null,
            "display": null,
            "flex": null,
            "flex_flow": null,
            "grid_area": null,
            "grid_auto_columns": null,
            "grid_auto_flow": null,
            "grid_auto_rows": null,
            "grid_column": null,
            "grid_gap": null,
            "grid_row": null,
            "grid_template_areas": null,
            "grid_template_columns": null,
            "grid_template_rows": null,
            "height": null,
            "justify_content": null,
            "justify_items": null,
            "left": null,
            "margin": null,
            "max_height": null,
            "max_width": null,
            "min_height": null,
            "min_width": null,
            "object_fit": null,
            "object_position": null,
            "order": null,
            "overflow": null,
            "overflow_x": null,
            "overflow_y": null,
            "padding": null,
            "right": null,
            "top": null,
            "visibility": null,
            "width": null
          }
        },
        "246a844b9fc14365944505e8fa96c841": {
          "model_module": "@jupyter-widgets/base",
          "model_name": "LayoutModel",
          "model_module_version": "1.2.0",
          "state": {
            "_model_module": "@jupyter-widgets/base",
            "_model_module_version": "1.2.0",
            "_model_name": "LayoutModel",
            "_view_count": null,
            "_view_module": "@jupyter-widgets/base",
            "_view_module_version": "1.2.0",
            "_view_name": "LayoutView",
            "align_content": null,
            "align_items": null,
            "align_self": null,
            "border": null,
            "bottom": null,
            "display": null,
            "flex": null,
            "flex_flow": null,
            "grid_area": null,
            "grid_auto_columns": null,
            "grid_auto_flow": null,
            "grid_auto_rows": null,
            "grid_column": null,
            "grid_gap": null,
            "grid_row": null,
            "grid_template_areas": null,
            "grid_template_columns": null,
            "grid_template_rows": null,
            "height": null,
            "justify_content": null,
            "justify_items": null,
            "left": null,
            "margin": null,
            "max_height": null,
            "max_width": null,
            "min_height": null,
            "min_width": null,
            "object_fit": null,
            "object_position": null,
            "order": null,
            "overflow": null,
            "overflow_x": null,
            "overflow_y": null,
            "padding": null,
            "right": null,
            "top": null,
            "visibility": null,
            "width": null
          }
        },
        "8d2da56a46244256a68396d437d746bd": {
          "model_module": "@jupyter-widgets/controls",
          "model_name": "DescriptionStyleModel",
          "model_module_version": "1.5.0",
          "state": {
            "_model_module": "@jupyter-widgets/controls",
            "_model_module_version": "1.5.0",
            "_model_name": "DescriptionStyleModel",
            "_view_count": null,
            "_view_module": "@jupyter-widgets/base",
            "_view_module_version": "1.2.0",
            "_view_name": "StyleView",
            "description_width": ""
          }
        },
        "be4cafb372524a6597771bc33e9432fc": {
          "model_module": "@jupyter-widgets/base",
          "model_name": "LayoutModel",
          "model_module_version": "1.2.0",
          "state": {
            "_model_module": "@jupyter-widgets/base",
            "_model_module_version": "1.2.0",
            "_model_name": "LayoutModel",
            "_view_count": null,
            "_view_module": "@jupyter-widgets/base",
            "_view_module_version": "1.2.0",
            "_view_name": "LayoutView",
            "align_content": null,
            "align_items": null,
            "align_self": null,
            "border": null,
            "bottom": null,
            "display": null,
            "flex": null,
            "flex_flow": null,
            "grid_area": null,
            "grid_auto_columns": null,
            "grid_auto_flow": null,
            "grid_auto_rows": null,
            "grid_column": null,
            "grid_gap": null,
            "grid_row": null,
            "grid_template_areas": null,
            "grid_template_columns": null,
            "grid_template_rows": null,
            "height": null,
            "justify_content": null,
            "justify_items": null,
            "left": null,
            "margin": null,
            "max_height": null,
            "max_width": null,
            "min_height": null,
            "min_width": null,
            "object_fit": null,
            "object_position": null,
            "order": null,
            "overflow": null,
            "overflow_x": null,
            "overflow_y": null,
            "padding": null,
            "right": null,
            "top": null,
            "visibility": null,
            "width": null
          }
        },
        "ca13ff3ac1714d9b96090a406618151c": {
          "model_module": "@jupyter-widgets/controls",
          "model_name": "ProgressStyleModel",
          "model_module_version": "1.5.0",
          "state": {
            "_model_module": "@jupyter-widgets/controls",
            "_model_module_version": "1.5.0",
            "_model_name": "ProgressStyleModel",
            "_view_count": null,
            "_view_module": "@jupyter-widgets/base",
            "_view_module_version": "1.2.0",
            "_view_name": "StyleView",
            "bar_color": null,
            "description_width": ""
          }
        },
        "a06ddcce6ce942dcbf6f871cbfe98e0f": {
          "model_module": "@jupyter-widgets/base",
          "model_name": "LayoutModel",
          "model_module_version": "1.2.0",
          "state": {
            "_model_module": "@jupyter-widgets/base",
            "_model_module_version": "1.2.0",
            "_model_name": "LayoutModel",
            "_view_count": null,
            "_view_module": "@jupyter-widgets/base",
            "_view_module_version": "1.2.0",
            "_view_name": "LayoutView",
            "align_content": null,
            "align_items": null,
            "align_self": null,
            "border": null,
            "bottom": null,
            "display": null,
            "flex": null,
            "flex_flow": null,
            "grid_area": null,
            "grid_auto_columns": null,
            "grid_auto_flow": null,
            "grid_auto_rows": null,
            "grid_column": null,
            "grid_gap": null,
            "grid_row": null,
            "grid_template_areas": null,
            "grid_template_columns": null,
            "grid_template_rows": null,
            "height": null,
            "justify_content": null,
            "justify_items": null,
            "left": null,
            "margin": null,
            "max_height": null,
            "max_width": null,
            "min_height": null,
            "min_width": null,
            "object_fit": null,
            "object_position": null,
            "order": null,
            "overflow": null,
            "overflow_x": null,
            "overflow_y": null,
            "padding": null,
            "right": null,
            "top": null,
            "visibility": null,
            "width": null
          }
        },
        "f790d3cadab042fe9d58c830e4b9284b": {
          "model_module": "@jupyter-widgets/controls",
          "model_name": "DescriptionStyleModel",
          "model_module_version": "1.5.0",
          "state": {
            "_model_module": "@jupyter-widgets/controls",
            "_model_module_version": "1.5.0",
            "_model_name": "DescriptionStyleModel",
            "_view_count": null,
            "_view_module": "@jupyter-widgets/base",
            "_view_module_version": "1.2.0",
            "_view_name": "StyleView",
            "description_width": ""
          }
        },
        "07da5d54cc124abd88b55c59a62b5e85": {
          "model_module": "@jupyter-widgets/controls",
          "model_name": "HBoxModel",
          "model_module_version": "1.5.0",
          "state": {
            "_dom_classes": [],
            "_model_module": "@jupyter-widgets/controls",
            "_model_module_version": "1.5.0",
            "_model_name": "HBoxModel",
            "_view_count": null,
            "_view_module": "@jupyter-widgets/controls",
            "_view_module_version": "1.5.0",
            "_view_name": "HBoxView",
            "box_style": "",
            "children": [
              "IPY_MODEL_63bbadbb4c9f41c28663f7a099680b9f",
              "IPY_MODEL_0918b347a6214dd89d59d89e03465741",
              "IPY_MODEL_532f46e58a20404dbe949c2f249b4fe4"
            ],
            "layout": "IPY_MODEL_7795270b0a4b47ee80f9457405c5947b"
          }
        },
        "63bbadbb4c9f41c28663f7a099680b9f": {
          "model_module": "@jupyter-widgets/controls",
          "model_name": "HTMLModel",
          "model_module_version": "1.5.0",
          "state": {
            "_dom_classes": [],
            "_model_module": "@jupyter-widgets/controls",
            "_model_module_version": "1.5.0",
            "_model_name": "HTMLModel",
            "_view_count": null,
            "_view_module": "@jupyter-widgets/controls",
            "_view_module_version": "1.5.0",
            "_view_name": "HTMLView",
            "description": "",
            "description_tooltip": null,
            "layout": "IPY_MODEL_159afe0099a7460f9821cfce32ab765d",
            "placeholder": "​",
            "style": "IPY_MODEL_91b87c10f12f4c9b8ae42219b0882604",
            "value": "sentence_bert_config.json: 100%"
          }
        },
        "0918b347a6214dd89d59d89e03465741": {
          "model_module": "@jupyter-widgets/controls",
          "model_name": "FloatProgressModel",
          "model_module_version": "1.5.0",
          "state": {
            "_dom_classes": [],
            "_model_module": "@jupyter-widgets/controls",
            "_model_module_version": "1.5.0",
            "_model_name": "FloatProgressModel",
            "_view_count": null,
            "_view_module": "@jupyter-widgets/controls",
            "_view_module_version": "1.5.0",
            "_view_name": "ProgressView",
            "bar_style": "success",
            "description": "",
            "description_tooltip": null,
            "layout": "IPY_MODEL_1072e8d742ff42c286b2d41c86419bee",
            "max": 53,
            "min": 0,
            "orientation": "horizontal",
            "style": "IPY_MODEL_8d64d67ae5a9487f9766f44778317ee6",
            "value": 53
          }
        },
        "532f46e58a20404dbe949c2f249b4fe4": {
          "model_module": "@jupyter-widgets/controls",
          "model_name": "HTMLModel",
          "model_module_version": "1.5.0",
          "state": {
            "_dom_classes": [],
            "_model_module": "@jupyter-widgets/controls",
            "_model_module_version": "1.5.0",
            "_model_name": "HTMLModel",
            "_view_count": null,
            "_view_module": "@jupyter-widgets/controls",
            "_view_module_version": "1.5.0",
            "_view_name": "HTMLView",
            "description": "",
            "description_tooltip": null,
            "layout": "IPY_MODEL_51194160f4894d32a51d8c1915fc540a",
            "placeholder": "​",
            "style": "IPY_MODEL_cfa561a743294c81a26ec6f60e42812a",
            "value": " 53.0/53.0 [00:00&lt;00:00, 6.58kB/s]"
          }
        },
        "7795270b0a4b47ee80f9457405c5947b": {
          "model_module": "@jupyter-widgets/base",
          "model_name": "LayoutModel",
          "model_module_version": "1.2.0",
          "state": {
            "_model_module": "@jupyter-widgets/base",
            "_model_module_version": "1.2.0",
            "_model_name": "LayoutModel",
            "_view_count": null,
            "_view_module": "@jupyter-widgets/base",
            "_view_module_version": "1.2.0",
            "_view_name": "LayoutView",
            "align_content": null,
            "align_items": null,
            "align_self": null,
            "border": null,
            "bottom": null,
            "display": null,
            "flex": null,
            "flex_flow": null,
            "grid_area": null,
            "grid_auto_columns": null,
            "grid_auto_flow": null,
            "grid_auto_rows": null,
            "grid_column": null,
            "grid_gap": null,
            "grid_row": null,
            "grid_template_areas": null,
            "grid_template_columns": null,
            "grid_template_rows": null,
            "height": null,
            "justify_content": null,
            "justify_items": null,
            "left": null,
            "margin": null,
            "max_height": null,
            "max_width": null,
            "min_height": null,
            "min_width": null,
            "object_fit": null,
            "object_position": null,
            "order": null,
            "overflow": null,
            "overflow_x": null,
            "overflow_y": null,
            "padding": null,
            "right": null,
            "top": null,
            "visibility": null,
            "width": null
          }
        },
        "159afe0099a7460f9821cfce32ab765d": {
          "model_module": "@jupyter-widgets/base",
          "model_name": "LayoutModel",
          "model_module_version": "1.2.0",
          "state": {
            "_model_module": "@jupyter-widgets/base",
            "_model_module_version": "1.2.0",
            "_model_name": "LayoutModel",
            "_view_count": null,
            "_view_module": "@jupyter-widgets/base",
            "_view_module_version": "1.2.0",
            "_view_name": "LayoutView",
            "align_content": null,
            "align_items": null,
            "align_self": null,
            "border": null,
            "bottom": null,
            "display": null,
            "flex": null,
            "flex_flow": null,
            "grid_area": null,
            "grid_auto_columns": null,
            "grid_auto_flow": null,
            "grid_auto_rows": null,
            "grid_column": null,
            "grid_gap": null,
            "grid_row": null,
            "grid_template_areas": null,
            "grid_template_columns": null,
            "grid_template_rows": null,
            "height": null,
            "justify_content": null,
            "justify_items": null,
            "left": null,
            "margin": null,
            "max_height": null,
            "max_width": null,
            "min_height": null,
            "min_width": null,
            "object_fit": null,
            "object_position": null,
            "order": null,
            "overflow": null,
            "overflow_x": null,
            "overflow_y": null,
            "padding": null,
            "right": null,
            "top": null,
            "visibility": null,
            "width": null
          }
        },
        "91b87c10f12f4c9b8ae42219b0882604": {
          "model_module": "@jupyter-widgets/controls",
          "model_name": "DescriptionStyleModel",
          "model_module_version": "1.5.0",
          "state": {
            "_model_module": "@jupyter-widgets/controls",
            "_model_module_version": "1.5.0",
            "_model_name": "DescriptionStyleModel",
            "_view_count": null,
            "_view_module": "@jupyter-widgets/base",
            "_view_module_version": "1.2.0",
            "_view_name": "StyleView",
            "description_width": ""
          }
        },
        "1072e8d742ff42c286b2d41c86419bee": {
          "model_module": "@jupyter-widgets/base",
          "model_name": "LayoutModel",
          "model_module_version": "1.2.0",
          "state": {
            "_model_module": "@jupyter-widgets/base",
            "_model_module_version": "1.2.0",
            "_model_name": "LayoutModel",
            "_view_count": null,
            "_view_module": "@jupyter-widgets/base",
            "_view_module_version": "1.2.0",
            "_view_name": "LayoutView",
            "align_content": null,
            "align_items": null,
            "align_self": null,
            "border": null,
            "bottom": null,
            "display": null,
            "flex": null,
            "flex_flow": null,
            "grid_area": null,
            "grid_auto_columns": null,
            "grid_auto_flow": null,
            "grid_auto_rows": null,
            "grid_column": null,
            "grid_gap": null,
            "grid_row": null,
            "grid_template_areas": null,
            "grid_template_columns": null,
            "grid_template_rows": null,
            "height": null,
            "justify_content": null,
            "justify_items": null,
            "left": null,
            "margin": null,
            "max_height": null,
            "max_width": null,
            "min_height": null,
            "min_width": null,
            "object_fit": null,
            "object_position": null,
            "order": null,
            "overflow": null,
            "overflow_x": null,
            "overflow_y": null,
            "padding": null,
            "right": null,
            "top": null,
            "visibility": null,
            "width": null
          }
        },
        "8d64d67ae5a9487f9766f44778317ee6": {
          "model_module": "@jupyter-widgets/controls",
          "model_name": "ProgressStyleModel",
          "model_module_version": "1.5.0",
          "state": {
            "_model_module": "@jupyter-widgets/controls",
            "_model_module_version": "1.5.0",
            "_model_name": "ProgressStyleModel",
            "_view_count": null,
            "_view_module": "@jupyter-widgets/base",
            "_view_module_version": "1.2.0",
            "_view_name": "StyleView",
            "bar_color": null,
            "description_width": ""
          }
        },
        "51194160f4894d32a51d8c1915fc540a": {
          "model_module": "@jupyter-widgets/base",
          "model_name": "LayoutModel",
          "model_module_version": "1.2.0",
          "state": {
            "_model_module": "@jupyter-widgets/base",
            "_model_module_version": "1.2.0",
            "_model_name": "LayoutModel",
            "_view_count": null,
            "_view_module": "@jupyter-widgets/base",
            "_view_module_version": "1.2.0",
            "_view_name": "LayoutView",
            "align_content": null,
            "align_items": null,
            "align_self": null,
            "border": null,
            "bottom": null,
            "display": null,
            "flex": null,
            "flex_flow": null,
            "grid_area": null,
            "grid_auto_columns": null,
            "grid_auto_flow": null,
            "grid_auto_rows": null,
            "grid_column": null,
            "grid_gap": null,
            "grid_row": null,
            "grid_template_areas": null,
            "grid_template_columns": null,
            "grid_template_rows": null,
            "height": null,
            "justify_content": null,
            "justify_items": null,
            "left": null,
            "margin": null,
            "max_height": null,
            "max_width": null,
            "min_height": null,
            "min_width": null,
            "object_fit": null,
            "object_position": null,
            "order": null,
            "overflow": null,
            "overflow_x": null,
            "overflow_y": null,
            "padding": null,
            "right": null,
            "top": null,
            "visibility": null,
            "width": null
          }
        },
        "cfa561a743294c81a26ec6f60e42812a": {
          "model_module": "@jupyter-widgets/controls",
          "model_name": "DescriptionStyleModel",
          "model_module_version": "1.5.0",
          "state": {
            "_model_module": "@jupyter-widgets/controls",
            "_model_module_version": "1.5.0",
            "_model_name": "DescriptionStyleModel",
            "_view_count": null,
            "_view_module": "@jupyter-widgets/base",
            "_view_module_version": "1.2.0",
            "_view_name": "StyleView",
            "description_width": ""
          }
        },
        "52e7feded99c43c58657c0587643ba08": {
          "model_module": "@jupyter-widgets/controls",
          "model_name": "HBoxModel",
          "model_module_version": "1.5.0",
          "state": {
            "_dom_classes": [],
            "_model_module": "@jupyter-widgets/controls",
            "_model_module_version": "1.5.0",
            "_model_name": "HBoxModel",
            "_view_count": null,
            "_view_module": "@jupyter-widgets/controls",
            "_view_module_version": "1.5.0",
            "_view_name": "HBoxView",
            "box_style": "",
            "children": [
              "IPY_MODEL_ac8341be254840f4bb32369d087d68ea",
              "IPY_MODEL_4e9b66d2365c4550aead46618450fe9e",
              "IPY_MODEL_4b52dcc11b3d4f3eb72c28c80598aefd"
            ],
            "layout": "IPY_MODEL_1a8d8c10e01948eb951ce8e550f36f20"
          }
        },
        "ac8341be254840f4bb32369d087d68ea": {
          "model_module": "@jupyter-widgets/controls",
          "model_name": "HTMLModel",
          "model_module_version": "1.5.0",
          "state": {
            "_dom_classes": [],
            "_model_module": "@jupyter-widgets/controls",
            "_model_module_version": "1.5.0",
            "_model_name": "HTMLModel",
            "_view_count": null,
            "_view_module": "@jupyter-widgets/controls",
            "_view_module_version": "1.5.0",
            "_view_name": "HTMLView",
            "description": "",
            "description_tooltip": null,
            "layout": "IPY_MODEL_309b8323aa2340ceb993ccb7fc162fed",
            "placeholder": "​",
            "style": "IPY_MODEL_0338b2efa6374f89a351f399484df147",
            "value": "config.json: 100%"
          }
        },
        "4e9b66d2365c4550aead46618450fe9e": {
          "model_module": "@jupyter-widgets/controls",
          "model_name": "FloatProgressModel",
          "model_module_version": "1.5.0",
          "state": {
            "_dom_classes": [],
            "_model_module": "@jupyter-widgets/controls",
            "_model_module_version": "1.5.0",
            "_model_name": "FloatProgressModel",
            "_view_count": null,
            "_view_module": "@jupyter-widgets/controls",
            "_view_module_version": "1.5.0",
            "_view_name": "ProgressView",
            "bar_style": "success",
            "description": "",
            "description_tooltip": null,
            "layout": "IPY_MODEL_a12fc3a999304d0d88591dbc1ada5e59",
            "max": 671,
            "min": 0,
            "orientation": "horizontal",
            "style": "IPY_MODEL_a174b1181adf43799b70b4211e83824b",
            "value": 671
          }
        },
        "4b52dcc11b3d4f3eb72c28c80598aefd": {
          "model_module": "@jupyter-widgets/controls",
          "model_name": "HTMLModel",
          "model_module_version": "1.5.0",
          "state": {
            "_dom_classes": [],
            "_model_module": "@jupyter-widgets/controls",
            "_model_module_version": "1.5.0",
            "_model_name": "HTMLModel",
            "_view_count": null,
            "_view_module": "@jupyter-widgets/controls",
            "_view_module_version": "1.5.0",
            "_view_name": "HTMLView",
            "description": "",
            "description_tooltip": null,
            "layout": "IPY_MODEL_f82aa908b7284b62ad64358d2de7c01c",
            "placeholder": "​",
            "style": "IPY_MODEL_d2ea4b17d33d4b8abdc4b6940d02baf8",
            "value": " 671/671 [00:00&lt;00:00, 82.4kB/s]"
          }
        },
        "1a8d8c10e01948eb951ce8e550f36f20": {
          "model_module": "@jupyter-widgets/base",
          "model_name": "LayoutModel",
          "model_module_version": "1.2.0",
          "state": {
            "_model_module": "@jupyter-widgets/base",
            "_model_module_version": "1.2.0",
            "_model_name": "LayoutModel",
            "_view_count": null,
            "_view_module": "@jupyter-widgets/base",
            "_view_module_version": "1.2.0",
            "_view_name": "LayoutView",
            "align_content": null,
            "align_items": null,
            "align_self": null,
            "border": null,
            "bottom": null,
            "display": null,
            "flex": null,
            "flex_flow": null,
            "grid_area": null,
            "grid_auto_columns": null,
            "grid_auto_flow": null,
            "grid_auto_rows": null,
            "grid_column": null,
            "grid_gap": null,
            "grid_row": null,
            "grid_template_areas": null,
            "grid_template_columns": null,
            "grid_template_rows": null,
            "height": null,
            "justify_content": null,
            "justify_items": null,
            "left": null,
            "margin": null,
            "max_height": null,
            "max_width": null,
            "min_height": null,
            "min_width": null,
            "object_fit": null,
            "object_position": null,
            "order": null,
            "overflow": null,
            "overflow_x": null,
            "overflow_y": null,
            "padding": null,
            "right": null,
            "top": null,
            "visibility": null,
            "width": null
          }
        },
        "309b8323aa2340ceb993ccb7fc162fed": {
          "model_module": "@jupyter-widgets/base",
          "model_name": "LayoutModel",
          "model_module_version": "1.2.0",
          "state": {
            "_model_module": "@jupyter-widgets/base",
            "_model_module_version": "1.2.0",
            "_model_name": "LayoutModel",
            "_view_count": null,
            "_view_module": "@jupyter-widgets/base",
            "_view_module_version": "1.2.0",
            "_view_name": "LayoutView",
            "align_content": null,
            "align_items": null,
            "align_self": null,
            "border": null,
            "bottom": null,
            "display": null,
            "flex": null,
            "flex_flow": null,
            "grid_area": null,
            "grid_auto_columns": null,
            "grid_auto_flow": null,
            "grid_auto_rows": null,
            "grid_column": null,
            "grid_gap": null,
            "grid_row": null,
            "grid_template_areas": null,
            "grid_template_columns": null,
            "grid_template_rows": null,
            "height": null,
            "justify_content": null,
            "justify_items": null,
            "left": null,
            "margin": null,
            "max_height": null,
            "max_width": null,
            "min_height": null,
            "min_width": null,
            "object_fit": null,
            "object_position": null,
            "order": null,
            "overflow": null,
            "overflow_x": null,
            "overflow_y": null,
            "padding": null,
            "right": null,
            "top": null,
            "visibility": null,
            "width": null
          }
        },
        "0338b2efa6374f89a351f399484df147": {
          "model_module": "@jupyter-widgets/controls",
          "model_name": "DescriptionStyleModel",
          "model_module_version": "1.5.0",
          "state": {
            "_model_module": "@jupyter-widgets/controls",
            "_model_module_version": "1.5.0",
            "_model_name": "DescriptionStyleModel",
            "_view_count": null,
            "_view_module": "@jupyter-widgets/base",
            "_view_module_version": "1.2.0",
            "_view_name": "StyleView",
            "description_width": ""
          }
        },
        "a12fc3a999304d0d88591dbc1ada5e59": {
          "model_module": "@jupyter-widgets/base",
          "model_name": "LayoutModel",
          "model_module_version": "1.2.0",
          "state": {
            "_model_module": "@jupyter-widgets/base",
            "_model_module_version": "1.2.0",
            "_model_name": "LayoutModel",
            "_view_count": null,
            "_view_module": "@jupyter-widgets/base",
            "_view_module_version": "1.2.0",
            "_view_name": "LayoutView",
            "align_content": null,
            "align_items": null,
            "align_self": null,
            "border": null,
            "bottom": null,
            "display": null,
            "flex": null,
            "flex_flow": null,
            "grid_area": null,
            "grid_auto_columns": null,
            "grid_auto_flow": null,
            "grid_auto_rows": null,
            "grid_column": null,
            "grid_gap": null,
            "grid_row": null,
            "grid_template_areas": null,
            "grid_template_columns": null,
            "grid_template_rows": null,
            "height": null,
            "justify_content": null,
            "justify_items": null,
            "left": null,
            "margin": null,
            "max_height": null,
            "max_width": null,
            "min_height": null,
            "min_width": null,
            "object_fit": null,
            "object_position": null,
            "order": null,
            "overflow": null,
            "overflow_x": null,
            "overflow_y": null,
            "padding": null,
            "right": null,
            "top": null,
            "visibility": null,
            "width": null
          }
        },
        "a174b1181adf43799b70b4211e83824b": {
          "model_module": "@jupyter-widgets/controls",
          "model_name": "ProgressStyleModel",
          "model_module_version": "1.5.0",
          "state": {
            "_model_module": "@jupyter-widgets/controls",
            "_model_module_version": "1.5.0",
            "_model_name": "ProgressStyleModel",
            "_view_count": null,
            "_view_module": "@jupyter-widgets/base",
            "_view_module_version": "1.2.0",
            "_view_name": "StyleView",
            "bar_color": null,
            "description_width": ""
          }
        },
        "f82aa908b7284b62ad64358d2de7c01c": {
          "model_module": "@jupyter-widgets/base",
          "model_name": "LayoutModel",
          "model_module_version": "1.2.0",
          "state": {
            "_model_module": "@jupyter-widgets/base",
            "_model_module_version": "1.2.0",
            "_model_name": "LayoutModel",
            "_view_count": null,
            "_view_module": "@jupyter-widgets/base",
            "_view_module_version": "1.2.0",
            "_view_name": "LayoutView",
            "align_content": null,
            "align_items": null,
            "align_self": null,
            "border": null,
            "bottom": null,
            "display": null,
            "flex": null,
            "flex_flow": null,
            "grid_area": null,
            "grid_auto_columns": null,
            "grid_auto_flow": null,
            "grid_auto_rows": null,
            "grid_column": null,
            "grid_gap": null,
            "grid_row": null,
            "grid_template_areas": null,
            "grid_template_columns": null,
            "grid_template_rows": null,
            "height": null,
            "justify_content": null,
            "justify_items": null,
            "left": null,
            "margin": null,
            "max_height": null,
            "max_width": null,
            "min_height": null,
            "min_width": null,
            "object_fit": null,
            "object_position": null,
            "order": null,
            "overflow": null,
            "overflow_x": null,
            "overflow_y": null,
            "padding": null,
            "right": null,
            "top": null,
            "visibility": null,
            "width": null
          }
        },
        "d2ea4b17d33d4b8abdc4b6940d02baf8": {
          "model_module": "@jupyter-widgets/controls",
          "model_name": "DescriptionStyleModel",
          "model_module_version": "1.5.0",
          "state": {
            "_model_module": "@jupyter-widgets/controls",
            "_model_module_version": "1.5.0",
            "_model_name": "DescriptionStyleModel",
            "_view_count": null,
            "_view_module": "@jupyter-widgets/base",
            "_view_module_version": "1.2.0",
            "_view_name": "StyleView",
            "description_width": ""
          }
        },
        "db219f7f51174db9813a6c26741467e0": {
          "model_module": "@jupyter-widgets/controls",
          "model_name": "HBoxModel",
          "model_module_version": "1.5.0",
          "state": {
            "_dom_classes": [],
            "_model_module": "@jupyter-widgets/controls",
            "_model_module_version": "1.5.0",
            "_model_name": "HBoxModel",
            "_view_count": null,
            "_view_module": "@jupyter-widgets/controls",
            "_view_module_version": "1.5.0",
            "_view_name": "HBoxView",
            "box_style": "",
            "children": [
              "IPY_MODEL_5d71db97a38c4032960dd95b504587fd",
              "IPY_MODEL_6d65e63a1e6e49db9404ddcaf17893fb",
              "IPY_MODEL_0cae13de2b6a45e7993704cce94afb01"
            ],
            "layout": "IPY_MODEL_a765a0e07ba542208c81d4dba1020f6a"
          }
        },
        "5d71db97a38c4032960dd95b504587fd": {
          "model_module": "@jupyter-widgets/controls",
          "model_name": "HTMLModel",
          "model_module_version": "1.5.0",
          "state": {
            "_dom_classes": [],
            "_model_module": "@jupyter-widgets/controls",
            "_model_module_version": "1.5.0",
            "_model_name": "HTMLModel",
            "_view_count": null,
            "_view_module": "@jupyter-widgets/controls",
            "_view_module_version": "1.5.0",
            "_view_name": "HTMLView",
            "description": "",
            "description_tooltip": null,
            "layout": "IPY_MODEL_3fdf0166fc06410ea93ac6af8dcb828f",
            "placeholder": "​",
            "style": "IPY_MODEL_44ee2194fc1947de95134265f64b6261",
            "value": "pytorch_model.bin: 100%"
          }
        },
        "6d65e63a1e6e49db9404ddcaf17893fb": {
          "model_module": "@jupyter-widgets/controls",
          "model_name": "FloatProgressModel",
          "model_module_version": "1.5.0",
          "state": {
            "_dom_classes": [],
            "_model_module": "@jupyter-widgets/controls",
            "_model_module_version": "1.5.0",
            "_model_name": "FloatProgressModel",
            "_view_count": null,
            "_view_module": "@jupyter-widgets/controls",
            "_view_module_version": "1.5.0",
            "_view_name": "ProgressView",
            "bar_style": "success",
            "description": "",
            "description_tooltip": null,
            "layout": "IPY_MODEL_4b471b2049d14fd4a032f2c3f4d032ec",
            "max": 438022897,
            "min": 0,
            "orientation": "horizontal",
            "style": "IPY_MODEL_a2f9468eb0ca4166af981c147656a590",
            "value": 438022897
          }
        },
        "0cae13de2b6a45e7993704cce94afb01": {
          "model_module": "@jupyter-widgets/controls",
          "model_name": "HTMLModel",
          "model_module_version": "1.5.0",
          "state": {
            "_dom_classes": [],
            "_model_module": "@jupyter-widgets/controls",
            "_model_module_version": "1.5.0",
            "_model_name": "HTMLModel",
            "_view_count": null,
            "_view_module": "@jupyter-widgets/controls",
            "_view_module_version": "1.5.0",
            "_view_name": "HTMLView",
            "description": "",
            "description_tooltip": null,
            "layout": "IPY_MODEL_39dad08013414640a8187efc37c00b5f",
            "placeholder": "​",
            "style": "IPY_MODEL_621192219ec34aab8d7e3d5741be17f8",
            "value": " 438M/438M [00:03&lt;00:00, 150MB/s]"
          }
        },
        "a765a0e07ba542208c81d4dba1020f6a": {
          "model_module": "@jupyter-widgets/base",
          "model_name": "LayoutModel",
          "model_module_version": "1.2.0",
          "state": {
            "_model_module": "@jupyter-widgets/base",
            "_model_module_version": "1.2.0",
            "_model_name": "LayoutModel",
            "_view_count": null,
            "_view_module": "@jupyter-widgets/base",
            "_view_module_version": "1.2.0",
            "_view_name": "LayoutView",
            "align_content": null,
            "align_items": null,
            "align_self": null,
            "border": null,
            "bottom": null,
            "display": null,
            "flex": null,
            "flex_flow": null,
            "grid_area": null,
            "grid_auto_columns": null,
            "grid_auto_flow": null,
            "grid_auto_rows": null,
            "grid_column": null,
            "grid_gap": null,
            "grid_row": null,
            "grid_template_areas": null,
            "grid_template_columns": null,
            "grid_template_rows": null,
            "height": null,
            "justify_content": null,
            "justify_items": null,
            "left": null,
            "margin": null,
            "max_height": null,
            "max_width": null,
            "min_height": null,
            "min_width": null,
            "object_fit": null,
            "object_position": null,
            "order": null,
            "overflow": null,
            "overflow_x": null,
            "overflow_y": null,
            "padding": null,
            "right": null,
            "top": null,
            "visibility": null,
            "width": null
          }
        },
        "3fdf0166fc06410ea93ac6af8dcb828f": {
          "model_module": "@jupyter-widgets/base",
          "model_name": "LayoutModel",
          "model_module_version": "1.2.0",
          "state": {
            "_model_module": "@jupyter-widgets/base",
            "_model_module_version": "1.2.0",
            "_model_name": "LayoutModel",
            "_view_count": null,
            "_view_module": "@jupyter-widgets/base",
            "_view_module_version": "1.2.0",
            "_view_name": "LayoutView",
            "align_content": null,
            "align_items": null,
            "align_self": null,
            "border": null,
            "bottom": null,
            "display": null,
            "flex": null,
            "flex_flow": null,
            "grid_area": null,
            "grid_auto_columns": null,
            "grid_auto_flow": null,
            "grid_auto_rows": null,
            "grid_column": null,
            "grid_gap": null,
            "grid_row": null,
            "grid_template_areas": null,
            "grid_template_columns": null,
            "grid_template_rows": null,
            "height": null,
            "justify_content": null,
            "justify_items": null,
            "left": null,
            "margin": null,
            "max_height": null,
            "max_width": null,
            "min_height": null,
            "min_width": null,
            "object_fit": null,
            "object_position": null,
            "order": null,
            "overflow": null,
            "overflow_x": null,
            "overflow_y": null,
            "padding": null,
            "right": null,
            "top": null,
            "visibility": null,
            "width": null
          }
        },
        "44ee2194fc1947de95134265f64b6261": {
          "model_module": "@jupyter-widgets/controls",
          "model_name": "DescriptionStyleModel",
          "model_module_version": "1.5.0",
          "state": {
            "_model_module": "@jupyter-widgets/controls",
            "_model_module_version": "1.5.0",
            "_model_name": "DescriptionStyleModel",
            "_view_count": null,
            "_view_module": "@jupyter-widgets/base",
            "_view_module_version": "1.2.0",
            "_view_name": "StyleView",
            "description_width": ""
          }
        },
        "4b471b2049d14fd4a032f2c3f4d032ec": {
          "model_module": "@jupyter-widgets/base",
          "model_name": "LayoutModel",
          "model_module_version": "1.2.0",
          "state": {
            "_model_module": "@jupyter-widgets/base",
            "_model_module_version": "1.2.0",
            "_model_name": "LayoutModel",
            "_view_count": null,
            "_view_module": "@jupyter-widgets/base",
            "_view_module_version": "1.2.0",
            "_view_name": "LayoutView",
            "align_content": null,
            "align_items": null,
            "align_self": null,
            "border": null,
            "bottom": null,
            "display": null,
            "flex": null,
            "flex_flow": null,
            "grid_area": null,
            "grid_auto_columns": null,
            "grid_auto_flow": null,
            "grid_auto_rows": null,
            "grid_column": null,
            "grid_gap": null,
            "grid_row": null,
            "grid_template_areas": null,
            "grid_template_columns": null,
            "grid_template_rows": null,
            "height": null,
            "justify_content": null,
            "justify_items": null,
            "left": null,
            "margin": null,
            "max_height": null,
            "max_width": null,
            "min_height": null,
            "min_width": null,
            "object_fit": null,
            "object_position": null,
            "order": null,
            "overflow": null,
            "overflow_x": null,
            "overflow_y": null,
            "padding": null,
            "right": null,
            "top": null,
            "visibility": null,
            "width": null
          }
        },
        "a2f9468eb0ca4166af981c147656a590": {
          "model_module": "@jupyter-widgets/controls",
          "model_name": "ProgressStyleModel",
          "model_module_version": "1.5.0",
          "state": {
            "_model_module": "@jupyter-widgets/controls",
            "_model_module_version": "1.5.0",
            "_model_name": "ProgressStyleModel",
            "_view_count": null,
            "_view_module": "@jupyter-widgets/base",
            "_view_module_version": "1.2.0",
            "_view_name": "StyleView",
            "bar_color": null,
            "description_width": ""
          }
        },
        "39dad08013414640a8187efc37c00b5f": {
          "model_module": "@jupyter-widgets/base",
          "model_name": "LayoutModel",
          "model_module_version": "1.2.0",
          "state": {
            "_model_module": "@jupyter-widgets/base",
            "_model_module_version": "1.2.0",
            "_model_name": "LayoutModel",
            "_view_count": null,
            "_view_module": "@jupyter-widgets/base",
            "_view_module_version": "1.2.0",
            "_view_name": "LayoutView",
            "align_content": null,
            "align_items": null,
            "align_self": null,
            "border": null,
            "bottom": null,
            "display": null,
            "flex": null,
            "flex_flow": null,
            "grid_area": null,
            "grid_auto_columns": null,
            "grid_auto_flow": null,
            "grid_auto_rows": null,
            "grid_column": null,
            "grid_gap": null,
            "grid_row": null,
            "grid_template_areas": null,
            "grid_template_columns": null,
            "grid_template_rows": null,
            "height": null,
            "justify_content": null,
            "justify_items": null,
            "left": null,
            "margin": null,
            "max_height": null,
            "max_width": null,
            "min_height": null,
            "min_width": null,
            "object_fit": null,
            "object_position": null,
            "order": null,
            "overflow": null,
            "overflow_x": null,
            "overflow_y": null,
            "padding": null,
            "right": null,
            "top": null,
            "visibility": null,
            "width": null
          }
        },
        "621192219ec34aab8d7e3d5741be17f8": {
          "model_module": "@jupyter-widgets/controls",
          "model_name": "DescriptionStyleModel",
          "model_module_version": "1.5.0",
          "state": {
            "_model_module": "@jupyter-widgets/controls",
            "_model_module_version": "1.5.0",
            "_model_name": "DescriptionStyleModel",
            "_view_count": null,
            "_view_module": "@jupyter-widgets/base",
            "_view_module_version": "1.2.0",
            "_view_name": "StyleView",
            "description_width": ""
          }
        },
        "8c16d51aae0d4d1bb3a7c0079d3cd8bb": {
          "model_module": "@jupyter-widgets/controls",
          "model_name": "HBoxModel",
          "model_module_version": "1.5.0",
          "state": {
            "_dom_classes": [],
            "_model_module": "@jupyter-widgets/controls",
            "_model_module_version": "1.5.0",
            "_model_name": "HBoxModel",
            "_view_count": null,
            "_view_module": "@jupyter-widgets/controls",
            "_view_module_version": "1.5.0",
            "_view_name": "HBoxView",
            "box_style": "",
            "children": [
              "IPY_MODEL_bb156414ca86442e81436441b1cf9b77",
              "IPY_MODEL_b6482af7211641d1b5e5af4c5c2dabb9",
              "IPY_MODEL_47e11561caf147e1af96a843c7df235d"
            ],
            "layout": "IPY_MODEL_49873ec6e3de41ba931efe9f7a83596e"
          }
        },
        "bb156414ca86442e81436441b1cf9b77": {
          "model_module": "@jupyter-widgets/controls",
          "model_name": "HTMLModel",
          "model_module_version": "1.5.0",
          "state": {
            "_dom_classes": [],
            "_model_module": "@jupyter-widgets/controls",
            "_model_module_version": "1.5.0",
            "_model_name": "HTMLModel",
            "_view_count": null,
            "_view_module": "@jupyter-widgets/controls",
            "_view_module_version": "1.5.0",
            "_view_name": "HTMLView",
            "description": "",
            "description_tooltip": null,
            "layout": "IPY_MODEL_b69d625d934a46898719d53d3d68a8f1",
            "placeholder": "​",
            "style": "IPY_MODEL_23eee31391774eb7b8b323b14a39dc71",
            "value": "model.safetensors: 100%"
          }
        },
        "b6482af7211641d1b5e5af4c5c2dabb9": {
          "model_module": "@jupyter-widgets/controls",
          "model_name": "FloatProgressModel",
          "model_module_version": "1.5.0",
          "state": {
            "_dom_classes": [],
            "_model_module": "@jupyter-widgets/controls",
            "_model_module_version": "1.5.0",
            "_model_name": "FloatProgressModel",
            "_view_count": null,
            "_view_module": "@jupyter-widgets/controls",
            "_view_module_version": "1.5.0",
            "_view_name": "ProgressView",
            "bar_style": "success",
            "description": "",
            "description_tooltip": null,
            "layout": "IPY_MODEL_6b349ea0ceba471bb26d80f78d99264a",
            "max": 437971872,
            "min": 0,
            "orientation": "horizontal",
            "style": "IPY_MODEL_5751cd0c1c2e47a994f44840369dd62f",
            "value": 437971872
          }
        },
        "47e11561caf147e1af96a843c7df235d": {
          "model_module": "@jupyter-widgets/controls",
          "model_name": "HTMLModel",
          "model_module_version": "1.5.0",
          "state": {
            "_dom_classes": [],
            "_model_module": "@jupyter-widgets/controls",
            "_model_module_version": "1.5.0",
            "_model_name": "HTMLModel",
            "_view_count": null,
            "_view_module": "@jupyter-widgets/controls",
            "_view_module_version": "1.5.0",
            "_view_name": "HTMLView",
            "description": "",
            "description_tooltip": null,
            "layout": "IPY_MODEL_cd09c2e3dad54ee9aab68aeeef9e27ea",
            "placeholder": "​",
            "style": "IPY_MODEL_94882b16147c4f85b29f617e722333ef",
            "value": " 438M/438M [00:05&lt;00:00, 91.0MB/s]"
          }
        },
        "49873ec6e3de41ba931efe9f7a83596e": {
          "model_module": "@jupyter-widgets/base",
          "model_name": "LayoutModel",
          "model_module_version": "1.2.0",
          "state": {
            "_model_module": "@jupyter-widgets/base",
            "_model_module_version": "1.2.0",
            "_model_name": "LayoutModel",
            "_view_count": null,
            "_view_module": "@jupyter-widgets/base",
            "_view_module_version": "1.2.0",
            "_view_name": "LayoutView",
            "align_content": null,
            "align_items": null,
            "align_self": null,
            "border": null,
            "bottom": null,
            "display": null,
            "flex": null,
            "flex_flow": null,
            "grid_area": null,
            "grid_auto_columns": null,
            "grid_auto_flow": null,
            "grid_auto_rows": null,
            "grid_column": null,
            "grid_gap": null,
            "grid_row": null,
            "grid_template_areas": null,
            "grid_template_columns": null,
            "grid_template_rows": null,
            "height": null,
            "justify_content": null,
            "justify_items": null,
            "left": null,
            "margin": null,
            "max_height": null,
            "max_width": null,
            "min_height": null,
            "min_width": null,
            "object_fit": null,
            "object_position": null,
            "order": null,
            "overflow": null,
            "overflow_x": null,
            "overflow_y": null,
            "padding": null,
            "right": null,
            "top": null,
            "visibility": null,
            "width": null
          }
        },
        "b69d625d934a46898719d53d3d68a8f1": {
          "model_module": "@jupyter-widgets/base",
          "model_name": "LayoutModel",
          "model_module_version": "1.2.0",
          "state": {
            "_model_module": "@jupyter-widgets/base",
            "_model_module_version": "1.2.0",
            "_model_name": "LayoutModel",
            "_view_count": null,
            "_view_module": "@jupyter-widgets/base",
            "_view_module_version": "1.2.0",
            "_view_name": "LayoutView",
            "align_content": null,
            "align_items": null,
            "align_self": null,
            "border": null,
            "bottom": null,
            "display": null,
            "flex": null,
            "flex_flow": null,
            "grid_area": null,
            "grid_auto_columns": null,
            "grid_auto_flow": null,
            "grid_auto_rows": null,
            "grid_column": null,
            "grid_gap": null,
            "grid_row": null,
            "grid_template_areas": null,
            "grid_template_columns": null,
            "grid_template_rows": null,
            "height": null,
            "justify_content": null,
            "justify_items": null,
            "left": null,
            "margin": null,
            "max_height": null,
            "max_width": null,
            "min_height": null,
            "min_width": null,
            "object_fit": null,
            "object_position": null,
            "order": null,
            "overflow": null,
            "overflow_x": null,
            "overflow_y": null,
            "padding": null,
            "right": null,
            "top": null,
            "visibility": null,
            "width": null
          }
        },
        "23eee31391774eb7b8b323b14a39dc71": {
          "model_module": "@jupyter-widgets/controls",
          "model_name": "DescriptionStyleModel",
          "model_module_version": "1.5.0",
          "state": {
            "_model_module": "@jupyter-widgets/controls",
            "_model_module_version": "1.5.0",
            "_model_name": "DescriptionStyleModel",
            "_view_count": null,
            "_view_module": "@jupyter-widgets/base",
            "_view_module_version": "1.2.0",
            "_view_name": "StyleView",
            "description_width": ""
          }
        },
        "6b349ea0ceba471bb26d80f78d99264a": {
          "model_module": "@jupyter-widgets/base",
          "model_name": "LayoutModel",
          "model_module_version": "1.2.0",
          "state": {
            "_model_module": "@jupyter-widgets/base",
            "_model_module_version": "1.2.0",
            "_model_name": "LayoutModel",
            "_view_count": null,
            "_view_module": "@jupyter-widgets/base",
            "_view_module_version": "1.2.0",
            "_view_name": "LayoutView",
            "align_content": null,
            "align_items": null,
            "align_self": null,
            "border": null,
            "bottom": null,
            "display": null,
            "flex": null,
            "flex_flow": null,
            "grid_area": null,
            "grid_auto_columns": null,
            "grid_auto_flow": null,
            "grid_auto_rows": null,
            "grid_column": null,
            "grid_gap": null,
            "grid_row": null,
            "grid_template_areas": null,
            "grid_template_columns": null,
            "grid_template_rows": null,
            "height": null,
            "justify_content": null,
            "justify_items": null,
            "left": null,
            "margin": null,
            "max_height": null,
            "max_width": null,
            "min_height": null,
            "min_width": null,
            "object_fit": null,
            "object_position": null,
            "order": null,
            "overflow": null,
            "overflow_x": null,
            "overflow_y": null,
            "padding": null,
            "right": null,
            "top": null,
            "visibility": null,
            "width": null
          }
        },
        "5751cd0c1c2e47a994f44840369dd62f": {
          "model_module": "@jupyter-widgets/controls",
          "model_name": "ProgressStyleModel",
          "model_module_version": "1.5.0",
          "state": {
            "_model_module": "@jupyter-widgets/controls",
            "_model_module_version": "1.5.0",
            "_model_name": "ProgressStyleModel",
            "_view_count": null,
            "_view_module": "@jupyter-widgets/base",
            "_view_module_version": "1.2.0",
            "_view_name": "StyleView",
            "bar_color": null,
            "description_width": ""
          }
        },
        "cd09c2e3dad54ee9aab68aeeef9e27ea": {
          "model_module": "@jupyter-widgets/base",
          "model_name": "LayoutModel",
          "model_module_version": "1.2.0",
          "state": {
            "_model_module": "@jupyter-widgets/base",
            "_model_module_version": "1.2.0",
            "_model_name": "LayoutModel",
            "_view_count": null,
            "_view_module": "@jupyter-widgets/base",
            "_view_module_version": "1.2.0",
            "_view_name": "LayoutView",
            "align_content": null,
            "align_items": null,
            "align_self": null,
            "border": null,
            "bottom": null,
            "display": null,
            "flex": null,
            "flex_flow": null,
            "grid_area": null,
            "grid_auto_columns": null,
            "grid_auto_flow": null,
            "grid_auto_rows": null,
            "grid_column": null,
            "grid_gap": null,
            "grid_row": null,
            "grid_template_areas": null,
            "grid_template_columns": null,
            "grid_template_rows": null,
            "height": null,
            "justify_content": null,
            "justify_items": null,
            "left": null,
            "margin": null,
            "max_height": null,
            "max_width": null,
            "min_height": null,
            "min_width": null,
            "object_fit": null,
            "object_position": null,
            "order": null,
            "overflow": null,
            "overflow_x": null,
            "overflow_y": null,
            "padding": null,
            "right": null,
            "top": null,
            "visibility": null,
            "width": null
          }
        },
        "94882b16147c4f85b29f617e722333ef": {
          "model_module": "@jupyter-widgets/controls",
          "model_name": "DescriptionStyleModel",
          "model_module_version": "1.5.0",
          "state": {
            "_model_module": "@jupyter-widgets/controls",
            "_model_module_version": "1.5.0",
            "_model_name": "DescriptionStyleModel",
            "_view_count": null,
            "_view_module": "@jupyter-widgets/base",
            "_view_module_version": "1.2.0",
            "_view_name": "StyleView",
            "description_width": ""
          }
        },
        "1913ac94b2b54a14a60ad49d80b7c14e": {
          "model_module": "@jupyter-widgets/controls",
          "model_name": "HBoxModel",
          "model_module_version": "1.5.0",
          "state": {
            "_dom_classes": [],
            "_model_module": "@jupyter-widgets/controls",
            "_model_module_version": "1.5.0",
            "_model_name": "HBoxModel",
            "_view_count": null,
            "_view_module": "@jupyter-widgets/controls",
            "_view_module_version": "1.5.0",
            "_view_name": "HBoxView",
            "box_style": "",
            "children": [
              "IPY_MODEL_973190230b164569afc823068d84557c",
              "IPY_MODEL_0127758df6a341c58402d46f0a4ff23e",
              "IPY_MODEL_92005fdce38e40138c1c356a40e88d4b"
            ],
            "layout": "IPY_MODEL_e375c88ff29243759a12cf03bb2933d2"
          }
        },
        "973190230b164569afc823068d84557c": {
          "model_module": "@jupyter-widgets/controls",
          "model_name": "HTMLModel",
          "model_module_version": "1.5.0",
          "state": {
            "_dom_classes": [],
            "_model_module": "@jupyter-widgets/controls",
            "_model_module_version": "1.5.0",
            "_model_name": "HTMLModel",
            "_view_count": null,
            "_view_module": "@jupyter-widgets/controls",
            "_view_module_version": "1.5.0",
            "_view_name": "HTMLView",
            "description": "",
            "description_tooltip": null,
            "layout": "IPY_MODEL_958fdf7bd83649ddacd16dceb51bc3f6",
            "placeholder": "​",
            "style": "IPY_MODEL_b2cec2891a9f4289aa16717736609728",
            "value": "tokenizer_config.json: 100%"
          }
        },
        "0127758df6a341c58402d46f0a4ff23e": {
          "model_module": "@jupyter-widgets/controls",
          "model_name": "FloatProgressModel",
          "model_module_version": "1.5.0",
          "state": {
            "_dom_classes": [],
            "_model_module": "@jupyter-widgets/controls",
            "_model_module_version": "1.5.0",
            "_model_name": "FloatProgressModel",
            "_view_count": null,
            "_view_module": "@jupyter-widgets/controls",
            "_view_module_version": "1.5.0",
            "_view_name": "ProgressView",
            "bar_style": "success",
            "description": "",
            "description_tooltip": null,
            "layout": "IPY_MODEL_6075cc0341204ff288e2e681af39c01d",
            "max": 440,
            "min": 0,
            "orientation": "horizontal",
            "style": "IPY_MODEL_a47fee2ee5aa4fafba5f4c86bfb7d1d2",
            "value": 440
          }
        },
        "92005fdce38e40138c1c356a40e88d4b": {
          "model_module": "@jupyter-widgets/controls",
          "model_name": "HTMLModel",
          "model_module_version": "1.5.0",
          "state": {
            "_dom_classes": [],
            "_model_module": "@jupyter-widgets/controls",
            "_model_module_version": "1.5.0",
            "_model_name": "HTMLModel",
            "_view_count": null,
            "_view_module": "@jupyter-widgets/controls",
            "_view_module_version": "1.5.0",
            "_view_name": "HTMLView",
            "description": "",
            "description_tooltip": null,
            "layout": "IPY_MODEL_59bd217cbe9f4107bd13661d30c5bdfd",
            "placeholder": "​",
            "style": "IPY_MODEL_f3c6686b272741bc91e39992d77be6a8",
            "value": " 440/440 [00:00&lt;00:00, 43.7kB/s]"
          }
        },
        "e375c88ff29243759a12cf03bb2933d2": {
          "model_module": "@jupyter-widgets/base",
          "model_name": "LayoutModel",
          "model_module_version": "1.2.0",
          "state": {
            "_model_module": "@jupyter-widgets/base",
            "_model_module_version": "1.2.0",
            "_model_name": "LayoutModel",
            "_view_count": null,
            "_view_module": "@jupyter-widgets/base",
            "_view_module_version": "1.2.0",
            "_view_name": "LayoutView",
            "align_content": null,
            "align_items": null,
            "align_self": null,
            "border": null,
            "bottom": null,
            "display": null,
            "flex": null,
            "flex_flow": null,
            "grid_area": null,
            "grid_auto_columns": null,
            "grid_auto_flow": null,
            "grid_auto_rows": null,
            "grid_column": null,
            "grid_gap": null,
            "grid_row": null,
            "grid_template_areas": null,
            "grid_template_columns": null,
            "grid_template_rows": null,
            "height": null,
            "justify_content": null,
            "justify_items": null,
            "left": null,
            "margin": null,
            "max_height": null,
            "max_width": null,
            "min_height": null,
            "min_width": null,
            "object_fit": null,
            "object_position": null,
            "order": null,
            "overflow": null,
            "overflow_x": null,
            "overflow_y": null,
            "padding": null,
            "right": null,
            "top": null,
            "visibility": null,
            "width": null
          }
        },
        "958fdf7bd83649ddacd16dceb51bc3f6": {
          "model_module": "@jupyter-widgets/base",
          "model_name": "LayoutModel",
          "model_module_version": "1.2.0",
          "state": {
            "_model_module": "@jupyter-widgets/base",
            "_model_module_version": "1.2.0",
            "_model_name": "LayoutModel",
            "_view_count": null,
            "_view_module": "@jupyter-widgets/base",
            "_view_module_version": "1.2.0",
            "_view_name": "LayoutView",
            "align_content": null,
            "align_items": null,
            "align_self": null,
            "border": null,
            "bottom": null,
            "display": null,
            "flex": null,
            "flex_flow": null,
            "grid_area": null,
            "grid_auto_columns": null,
            "grid_auto_flow": null,
            "grid_auto_rows": null,
            "grid_column": null,
            "grid_gap": null,
            "grid_row": null,
            "grid_template_areas": null,
            "grid_template_columns": null,
            "grid_template_rows": null,
            "height": null,
            "justify_content": null,
            "justify_items": null,
            "left": null,
            "margin": null,
            "max_height": null,
            "max_width": null,
            "min_height": null,
            "min_width": null,
            "object_fit": null,
            "object_position": null,
            "order": null,
            "overflow": null,
            "overflow_x": null,
            "overflow_y": null,
            "padding": null,
            "right": null,
            "top": null,
            "visibility": null,
            "width": null
          }
        },
        "b2cec2891a9f4289aa16717736609728": {
          "model_module": "@jupyter-widgets/controls",
          "model_name": "DescriptionStyleModel",
          "model_module_version": "1.5.0",
          "state": {
            "_model_module": "@jupyter-widgets/controls",
            "_model_module_version": "1.5.0",
            "_model_name": "DescriptionStyleModel",
            "_view_count": null,
            "_view_module": "@jupyter-widgets/base",
            "_view_module_version": "1.2.0",
            "_view_name": "StyleView",
            "description_width": ""
          }
        },
        "6075cc0341204ff288e2e681af39c01d": {
          "model_module": "@jupyter-widgets/base",
          "model_name": "LayoutModel",
          "model_module_version": "1.2.0",
          "state": {
            "_model_module": "@jupyter-widgets/base",
            "_model_module_version": "1.2.0",
            "_model_name": "LayoutModel",
            "_view_count": null,
            "_view_module": "@jupyter-widgets/base",
            "_view_module_version": "1.2.0",
            "_view_name": "LayoutView",
            "align_content": null,
            "align_items": null,
            "align_self": null,
            "border": null,
            "bottom": null,
            "display": null,
            "flex": null,
            "flex_flow": null,
            "grid_area": null,
            "grid_auto_columns": null,
            "grid_auto_flow": null,
            "grid_auto_rows": null,
            "grid_column": null,
            "grid_gap": null,
            "grid_row": null,
            "grid_template_areas": null,
            "grid_template_columns": null,
            "grid_template_rows": null,
            "height": null,
            "justify_content": null,
            "justify_items": null,
            "left": null,
            "margin": null,
            "max_height": null,
            "max_width": null,
            "min_height": null,
            "min_width": null,
            "object_fit": null,
            "object_position": null,
            "order": null,
            "overflow": null,
            "overflow_x": null,
            "overflow_y": null,
            "padding": null,
            "right": null,
            "top": null,
            "visibility": null,
            "width": null
          }
        },
        "a47fee2ee5aa4fafba5f4c86bfb7d1d2": {
          "model_module": "@jupyter-widgets/controls",
          "model_name": "ProgressStyleModel",
          "model_module_version": "1.5.0",
          "state": {
            "_model_module": "@jupyter-widgets/controls",
            "_model_module_version": "1.5.0",
            "_model_name": "ProgressStyleModel",
            "_view_count": null,
            "_view_module": "@jupyter-widgets/base",
            "_view_module_version": "1.2.0",
            "_view_name": "StyleView",
            "bar_color": null,
            "description_width": ""
          }
        },
        "59bd217cbe9f4107bd13661d30c5bdfd": {
          "model_module": "@jupyter-widgets/base",
          "model_name": "LayoutModel",
          "model_module_version": "1.2.0",
          "state": {
            "_model_module": "@jupyter-widgets/base",
            "_model_module_version": "1.2.0",
            "_model_name": "LayoutModel",
            "_view_count": null,
            "_view_module": "@jupyter-widgets/base",
            "_view_module_version": "1.2.0",
            "_view_name": "LayoutView",
            "align_content": null,
            "align_items": null,
            "align_self": null,
            "border": null,
            "bottom": null,
            "display": null,
            "flex": null,
            "flex_flow": null,
            "grid_area": null,
            "grid_auto_columns": null,
            "grid_auto_flow": null,
            "grid_auto_rows": null,
            "grid_column": null,
            "grid_gap": null,
            "grid_row": null,
            "grid_template_areas": null,
            "grid_template_columns": null,
            "grid_template_rows": null,
            "height": null,
            "justify_content": null,
            "justify_items": null,
            "left": null,
            "margin": null,
            "max_height": null,
            "max_width": null,
            "min_height": null,
            "min_width": null,
            "object_fit": null,
            "object_position": null,
            "order": null,
            "overflow": null,
            "overflow_x": null,
            "overflow_y": null,
            "padding": null,
            "right": null,
            "top": null,
            "visibility": null,
            "width": null
          }
        },
        "f3c6686b272741bc91e39992d77be6a8": {
          "model_module": "@jupyter-widgets/controls",
          "model_name": "DescriptionStyleModel",
          "model_module_version": "1.5.0",
          "state": {
            "_model_module": "@jupyter-widgets/controls",
            "_model_module_version": "1.5.0",
            "_model_name": "DescriptionStyleModel",
            "_view_count": null,
            "_view_module": "@jupyter-widgets/base",
            "_view_module_version": "1.2.0",
            "_view_name": "StyleView",
            "description_width": ""
          }
        },
        "517aed03607b4d98b22120a1fc9eb363": {
          "model_module": "@jupyter-widgets/controls",
          "model_name": "HBoxModel",
          "model_module_version": "1.5.0",
          "state": {
            "_dom_classes": [],
            "_model_module": "@jupyter-widgets/controls",
            "_model_module_version": "1.5.0",
            "_model_name": "HBoxModel",
            "_view_count": null,
            "_view_module": "@jupyter-widgets/controls",
            "_view_module_version": "1.5.0",
            "_view_name": "HBoxView",
            "box_style": "",
            "children": [
              "IPY_MODEL_f8f228f58ae840a08c52f3c588ab99f5",
              "IPY_MODEL_501a1c06dadb48a0afe23d76ce8bb3ad",
              "IPY_MODEL_a78d1a5b1b384790a0f2638abf40c9b5"
            ],
            "layout": "IPY_MODEL_9297a089800340778494be8108775631"
          }
        },
        "f8f228f58ae840a08c52f3c588ab99f5": {
          "model_module": "@jupyter-widgets/controls",
          "model_name": "HTMLModel",
          "model_module_version": "1.5.0",
          "state": {
            "_dom_classes": [],
            "_model_module": "@jupyter-widgets/controls",
            "_model_module_version": "1.5.0",
            "_model_name": "HTMLModel",
            "_view_count": null,
            "_view_module": "@jupyter-widgets/controls",
            "_view_module_version": "1.5.0",
            "_view_name": "HTMLView",
            "description": "",
            "description_tooltip": null,
            "layout": "IPY_MODEL_84134f1a45094004a9b21b2011c02397",
            "placeholder": "​",
            "style": "IPY_MODEL_14b7d5b30ac64d52bdb3b5f0fbf25847",
            "value": "vocab.txt: 100%"
          }
        },
        "501a1c06dadb48a0afe23d76ce8bb3ad": {
          "model_module": "@jupyter-widgets/controls",
          "model_name": "FloatProgressModel",
          "model_module_version": "1.5.0",
          "state": {
            "_dom_classes": [],
            "_model_module": "@jupyter-widgets/controls",
            "_model_module_version": "1.5.0",
            "_model_name": "FloatProgressModel",
            "_view_count": null,
            "_view_module": "@jupyter-widgets/controls",
            "_view_module_version": "1.5.0",
            "_view_name": "ProgressView",
            "bar_style": "success",
            "description": "",
            "description_tooltip": null,
            "layout": "IPY_MODEL_86dab02b8e3546a4a1bd3fe3c1f1b154",
            "max": 231536,
            "min": 0,
            "orientation": "horizontal",
            "style": "IPY_MODEL_115dbb4fb5224099b6b8a358943fe259",
            "value": 231536
          }
        },
        "a78d1a5b1b384790a0f2638abf40c9b5": {
          "model_module": "@jupyter-widgets/controls",
          "model_name": "HTMLModel",
          "model_module_version": "1.5.0",
          "state": {
            "_dom_classes": [],
            "_model_module": "@jupyter-widgets/controls",
            "_model_module_version": "1.5.0",
            "_model_name": "HTMLModel",
            "_view_count": null,
            "_view_module": "@jupyter-widgets/controls",
            "_view_module_version": "1.5.0",
            "_view_name": "HTMLView",
            "description": "",
            "description_tooltip": null,
            "layout": "IPY_MODEL_50fedda93be94c479a947cbd0bd34f94",
            "placeholder": "​",
            "style": "IPY_MODEL_b2a497a0c42f45718c393b400e716604",
            "value": " 232k/232k [00:00&lt;00:00, 7.63MB/s]"
          }
        },
        "9297a089800340778494be8108775631": {
          "model_module": "@jupyter-widgets/base",
          "model_name": "LayoutModel",
          "model_module_version": "1.2.0",
          "state": {
            "_model_module": "@jupyter-widgets/base",
            "_model_module_version": "1.2.0",
            "_model_name": "LayoutModel",
            "_view_count": null,
            "_view_module": "@jupyter-widgets/base",
            "_view_module_version": "1.2.0",
            "_view_name": "LayoutView",
            "align_content": null,
            "align_items": null,
            "align_self": null,
            "border": null,
            "bottom": null,
            "display": null,
            "flex": null,
            "flex_flow": null,
            "grid_area": null,
            "grid_auto_columns": null,
            "grid_auto_flow": null,
            "grid_auto_rows": null,
            "grid_column": null,
            "grid_gap": null,
            "grid_row": null,
            "grid_template_areas": null,
            "grid_template_columns": null,
            "grid_template_rows": null,
            "height": null,
            "justify_content": null,
            "justify_items": null,
            "left": null,
            "margin": null,
            "max_height": null,
            "max_width": null,
            "min_height": null,
            "min_width": null,
            "object_fit": null,
            "object_position": null,
            "order": null,
            "overflow": null,
            "overflow_x": null,
            "overflow_y": null,
            "padding": null,
            "right": null,
            "top": null,
            "visibility": null,
            "width": null
          }
        },
        "84134f1a45094004a9b21b2011c02397": {
          "model_module": "@jupyter-widgets/base",
          "model_name": "LayoutModel",
          "model_module_version": "1.2.0",
          "state": {
            "_model_module": "@jupyter-widgets/base",
            "_model_module_version": "1.2.0",
            "_model_name": "LayoutModel",
            "_view_count": null,
            "_view_module": "@jupyter-widgets/base",
            "_view_module_version": "1.2.0",
            "_view_name": "LayoutView",
            "align_content": null,
            "align_items": null,
            "align_self": null,
            "border": null,
            "bottom": null,
            "display": null,
            "flex": null,
            "flex_flow": null,
            "grid_area": null,
            "grid_auto_columns": null,
            "grid_auto_flow": null,
            "grid_auto_rows": null,
            "grid_column": null,
            "grid_gap": null,
            "grid_row": null,
            "grid_template_areas": null,
            "grid_template_columns": null,
            "grid_template_rows": null,
            "height": null,
            "justify_content": null,
            "justify_items": null,
            "left": null,
            "margin": null,
            "max_height": null,
            "max_width": null,
            "min_height": null,
            "min_width": null,
            "object_fit": null,
            "object_position": null,
            "order": null,
            "overflow": null,
            "overflow_x": null,
            "overflow_y": null,
            "padding": null,
            "right": null,
            "top": null,
            "visibility": null,
            "width": null
          }
        },
        "14b7d5b30ac64d52bdb3b5f0fbf25847": {
          "model_module": "@jupyter-widgets/controls",
          "model_name": "DescriptionStyleModel",
          "model_module_version": "1.5.0",
          "state": {
            "_model_module": "@jupyter-widgets/controls",
            "_model_module_version": "1.5.0",
            "_model_name": "DescriptionStyleModel",
            "_view_count": null,
            "_view_module": "@jupyter-widgets/base",
            "_view_module_version": "1.2.0",
            "_view_name": "StyleView",
            "description_width": ""
          }
        },
        "86dab02b8e3546a4a1bd3fe3c1f1b154": {
          "model_module": "@jupyter-widgets/base",
          "model_name": "LayoutModel",
          "model_module_version": "1.2.0",
          "state": {
            "_model_module": "@jupyter-widgets/base",
            "_model_module_version": "1.2.0",
            "_model_name": "LayoutModel",
            "_view_count": null,
            "_view_module": "@jupyter-widgets/base",
            "_view_module_version": "1.2.0",
            "_view_name": "LayoutView",
            "align_content": null,
            "align_items": null,
            "align_self": null,
            "border": null,
            "bottom": null,
            "display": null,
            "flex": null,
            "flex_flow": null,
            "grid_area": null,
            "grid_auto_columns": null,
            "grid_auto_flow": null,
            "grid_auto_rows": null,
            "grid_column": null,
            "grid_gap": null,
            "grid_row": null,
            "grid_template_areas": null,
            "grid_template_columns": null,
            "grid_template_rows": null,
            "height": null,
            "justify_content": null,
            "justify_items": null,
            "left": null,
            "margin": null,
            "max_height": null,
            "max_width": null,
            "min_height": null,
            "min_width": null,
            "object_fit": null,
            "object_position": null,
            "order": null,
            "overflow": null,
            "overflow_x": null,
            "overflow_y": null,
            "padding": null,
            "right": null,
            "top": null,
            "visibility": null,
            "width": null
          }
        },
        "115dbb4fb5224099b6b8a358943fe259": {
          "model_module": "@jupyter-widgets/controls",
          "model_name": "ProgressStyleModel",
          "model_module_version": "1.5.0",
          "state": {
            "_model_module": "@jupyter-widgets/controls",
            "_model_module_version": "1.5.0",
            "_model_name": "ProgressStyleModel",
            "_view_count": null,
            "_view_module": "@jupyter-widgets/base",
            "_view_module_version": "1.2.0",
            "_view_name": "StyleView",
            "bar_color": null,
            "description_width": ""
          }
        },
        "50fedda93be94c479a947cbd0bd34f94": {
          "model_module": "@jupyter-widgets/base",
          "model_name": "LayoutModel",
          "model_module_version": "1.2.0",
          "state": {
            "_model_module": "@jupyter-widgets/base",
            "_model_module_version": "1.2.0",
            "_model_name": "LayoutModel",
            "_view_count": null,
            "_view_module": "@jupyter-widgets/base",
            "_view_module_version": "1.2.0",
            "_view_name": "LayoutView",
            "align_content": null,
            "align_items": null,
            "align_self": null,
            "border": null,
            "bottom": null,
            "display": null,
            "flex": null,
            "flex_flow": null,
            "grid_area": null,
            "grid_auto_columns": null,
            "grid_auto_flow": null,
            "grid_auto_rows": null,
            "grid_column": null,
            "grid_gap": null,
            "grid_row": null,
            "grid_template_areas": null,
            "grid_template_columns": null,
            "grid_template_rows": null,
            "height": null,
            "justify_content": null,
            "justify_items": null,
            "left": null,
            "margin": null,
            "max_height": null,
            "max_width": null,
            "min_height": null,
            "min_width": null,
            "object_fit": null,
            "object_position": null,
            "order": null,
            "overflow": null,
            "overflow_x": null,
            "overflow_y": null,
            "padding": null,
            "right": null,
            "top": null,
            "visibility": null,
            "width": null
          }
        },
        "b2a497a0c42f45718c393b400e716604": {
          "model_module": "@jupyter-widgets/controls",
          "model_name": "DescriptionStyleModel",
          "model_module_version": "1.5.0",
          "state": {
            "_model_module": "@jupyter-widgets/controls",
            "_model_module_version": "1.5.0",
            "_model_name": "DescriptionStyleModel",
            "_view_count": null,
            "_view_module": "@jupyter-widgets/base",
            "_view_module_version": "1.2.0",
            "_view_name": "StyleView",
            "description_width": ""
          }
        },
        "262a93a05f024fd7b63034dacd9d4395": {
          "model_module": "@jupyter-widgets/controls",
          "model_name": "HBoxModel",
          "model_module_version": "1.5.0",
          "state": {
            "_dom_classes": [],
            "_model_module": "@jupyter-widgets/controls",
            "_model_module_version": "1.5.0",
            "_model_name": "HBoxModel",
            "_view_count": null,
            "_view_module": "@jupyter-widgets/controls",
            "_view_module_version": "1.5.0",
            "_view_name": "HBoxView",
            "box_style": "",
            "children": [
              "IPY_MODEL_4fb4ec97fcd64de7b068170004a08f6b",
              "IPY_MODEL_b3ce774083a6407dbb59afd12e7f78f9",
              "IPY_MODEL_44450be306984773a1920a80fe0bdd49"
            ],
            "layout": "IPY_MODEL_a9bf17eed1e542d4afdeb99db13da5ed"
          }
        },
        "4fb4ec97fcd64de7b068170004a08f6b": {
          "model_module": "@jupyter-widgets/controls",
          "model_name": "HTMLModel",
          "model_module_version": "1.5.0",
          "state": {
            "_dom_classes": [],
            "_model_module": "@jupyter-widgets/controls",
            "_model_module_version": "1.5.0",
            "_model_name": "HTMLModel",
            "_view_count": null,
            "_view_module": "@jupyter-widgets/controls",
            "_view_module_version": "1.5.0",
            "_view_name": "HTMLView",
            "description": "",
            "description_tooltip": null,
            "layout": "IPY_MODEL_5e1fd4355c48426abd243122fdf04a85",
            "placeholder": "​",
            "style": "IPY_MODEL_d9a3634549ff491c8bcb20cc4cc16ada",
            "value": "tokenizer.json: 100%"
          }
        },
        "b3ce774083a6407dbb59afd12e7f78f9": {
          "model_module": "@jupyter-widgets/controls",
          "model_name": "FloatProgressModel",
          "model_module_version": "1.5.0",
          "state": {
            "_dom_classes": [],
            "_model_module": "@jupyter-widgets/controls",
            "_model_module_version": "1.5.0",
            "_model_name": "FloatProgressModel",
            "_view_count": null,
            "_view_module": "@jupyter-widgets/controls",
            "_view_module_version": "1.5.0",
            "_view_name": "ProgressView",
            "bar_style": "success",
            "description": "",
            "description_tooltip": null,
            "layout": "IPY_MODEL_8db5878cdc104e0385b1cb7d43b6f50a",
            "max": 466022,
            "min": 0,
            "orientation": "horizontal",
            "style": "IPY_MODEL_14ea806ca5e24dcea8b95974f746ef26",
            "value": 466022
          }
        },
        "44450be306984773a1920a80fe0bdd49": {
          "model_module": "@jupyter-widgets/controls",
          "model_name": "HTMLModel",
          "model_module_version": "1.5.0",
          "state": {
            "_dom_classes": [],
            "_model_module": "@jupyter-widgets/controls",
            "_model_module_version": "1.5.0",
            "_model_name": "HTMLModel",
            "_view_count": null,
            "_view_module": "@jupyter-widgets/controls",
            "_view_module_version": "1.5.0",
            "_view_name": "HTMLView",
            "description": "",
            "description_tooltip": null,
            "layout": "IPY_MODEL_fb7ea49a2f7b4bcfa220738f9c92b871",
            "placeholder": "​",
            "style": "IPY_MODEL_ff9334e245574079afb645c573ab6b1a",
            "value": " 466k/466k [00:00&lt;00:00, 21.2MB/s]"
          }
        },
        "a9bf17eed1e542d4afdeb99db13da5ed": {
          "model_module": "@jupyter-widgets/base",
          "model_name": "LayoutModel",
          "model_module_version": "1.2.0",
          "state": {
            "_model_module": "@jupyter-widgets/base",
            "_model_module_version": "1.2.0",
            "_model_name": "LayoutModel",
            "_view_count": null,
            "_view_module": "@jupyter-widgets/base",
            "_view_module_version": "1.2.0",
            "_view_name": "LayoutView",
            "align_content": null,
            "align_items": null,
            "align_self": null,
            "border": null,
            "bottom": null,
            "display": null,
            "flex": null,
            "flex_flow": null,
            "grid_area": null,
            "grid_auto_columns": null,
            "grid_auto_flow": null,
            "grid_auto_rows": null,
            "grid_column": null,
            "grid_gap": null,
            "grid_row": null,
            "grid_template_areas": null,
            "grid_template_columns": null,
            "grid_template_rows": null,
            "height": null,
            "justify_content": null,
            "justify_items": null,
            "left": null,
            "margin": null,
            "max_height": null,
            "max_width": null,
            "min_height": null,
            "min_width": null,
            "object_fit": null,
            "object_position": null,
            "order": null,
            "overflow": null,
            "overflow_x": null,
            "overflow_y": null,
            "padding": null,
            "right": null,
            "top": null,
            "visibility": null,
            "width": null
          }
        },
        "5e1fd4355c48426abd243122fdf04a85": {
          "model_module": "@jupyter-widgets/base",
          "model_name": "LayoutModel",
          "model_module_version": "1.2.0",
          "state": {
            "_model_module": "@jupyter-widgets/base",
            "_model_module_version": "1.2.0",
            "_model_name": "LayoutModel",
            "_view_count": null,
            "_view_module": "@jupyter-widgets/base",
            "_view_module_version": "1.2.0",
            "_view_name": "LayoutView",
            "align_content": null,
            "align_items": null,
            "align_self": null,
            "border": null,
            "bottom": null,
            "display": null,
            "flex": null,
            "flex_flow": null,
            "grid_area": null,
            "grid_auto_columns": null,
            "grid_auto_flow": null,
            "grid_auto_rows": null,
            "grid_column": null,
            "grid_gap": null,
            "grid_row": null,
            "grid_template_areas": null,
            "grid_template_columns": null,
            "grid_template_rows": null,
            "height": null,
            "justify_content": null,
            "justify_items": null,
            "left": null,
            "margin": null,
            "max_height": null,
            "max_width": null,
            "min_height": null,
            "min_width": null,
            "object_fit": null,
            "object_position": null,
            "order": null,
            "overflow": null,
            "overflow_x": null,
            "overflow_y": null,
            "padding": null,
            "right": null,
            "top": null,
            "visibility": null,
            "width": null
          }
        },
        "d9a3634549ff491c8bcb20cc4cc16ada": {
          "model_module": "@jupyter-widgets/controls",
          "model_name": "DescriptionStyleModel",
          "model_module_version": "1.5.0",
          "state": {
            "_model_module": "@jupyter-widgets/controls",
            "_model_module_version": "1.5.0",
            "_model_name": "DescriptionStyleModel",
            "_view_count": null,
            "_view_module": "@jupyter-widgets/base",
            "_view_module_version": "1.2.0",
            "_view_name": "StyleView",
            "description_width": ""
          }
        },
        "8db5878cdc104e0385b1cb7d43b6f50a": {
          "model_module": "@jupyter-widgets/base",
          "model_name": "LayoutModel",
          "model_module_version": "1.2.0",
          "state": {
            "_model_module": "@jupyter-widgets/base",
            "_model_module_version": "1.2.0",
            "_model_name": "LayoutModel",
            "_view_count": null,
            "_view_module": "@jupyter-widgets/base",
            "_view_module_version": "1.2.0",
            "_view_name": "LayoutView",
            "align_content": null,
            "align_items": null,
            "align_self": null,
            "border": null,
            "bottom": null,
            "display": null,
            "flex": null,
            "flex_flow": null,
            "grid_area": null,
            "grid_auto_columns": null,
            "grid_auto_flow": null,
            "grid_auto_rows": null,
            "grid_column": null,
            "grid_gap": null,
            "grid_row": null,
            "grid_template_areas": null,
            "grid_template_columns": null,
            "grid_template_rows": null,
            "height": null,
            "justify_content": null,
            "justify_items": null,
            "left": null,
            "margin": null,
            "max_height": null,
            "max_width": null,
            "min_height": null,
            "min_width": null,
            "object_fit": null,
            "object_position": null,
            "order": null,
            "overflow": null,
            "overflow_x": null,
            "overflow_y": null,
            "padding": null,
            "right": null,
            "top": null,
            "visibility": null,
            "width": null
          }
        },
        "14ea806ca5e24dcea8b95974f746ef26": {
          "model_module": "@jupyter-widgets/controls",
          "model_name": "ProgressStyleModel",
          "model_module_version": "1.5.0",
          "state": {
            "_model_module": "@jupyter-widgets/controls",
            "_model_module_version": "1.5.0",
            "_model_name": "ProgressStyleModel",
            "_view_count": null,
            "_view_module": "@jupyter-widgets/base",
            "_view_module_version": "1.2.0",
            "_view_name": "StyleView",
            "bar_color": null,
            "description_width": ""
          }
        },
        "fb7ea49a2f7b4bcfa220738f9c92b871": {
          "model_module": "@jupyter-widgets/base",
          "model_name": "LayoutModel",
          "model_module_version": "1.2.0",
          "state": {
            "_model_module": "@jupyter-widgets/base",
            "_model_module_version": "1.2.0",
            "_model_name": "LayoutModel",
            "_view_count": null,
            "_view_module": "@jupyter-widgets/base",
            "_view_module_version": "1.2.0",
            "_view_name": "LayoutView",
            "align_content": null,
            "align_items": null,
            "align_self": null,
            "border": null,
            "bottom": null,
            "display": null,
            "flex": null,
            "flex_flow": null,
            "grid_area": null,
            "grid_auto_columns": null,
            "grid_auto_flow": null,
            "grid_auto_rows": null,
            "grid_column": null,
            "grid_gap": null,
            "grid_row": null,
            "grid_template_areas": null,
            "grid_template_columns": null,
            "grid_template_rows": null,
            "height": null,
            "justify_content": null,
            "justify_items": null,
            "left": null,
            "margin": null,
            "max_height": null,
            "max_width": null,
            "min_height": null,
            "min_width": null,
            "object_fit": null,
            "object_position": null,
            "order": null,
            "overflow": null,
            "overflow_x": null,
            "overflow_y": null,
            "padding": null,
            "right": null,
            "top": null,
            "visibility": null,
            "width": null
          }
        },
        "ff9334e245574079afb645c573ab6b1a": {
          "model_module": "@jupyter-widgets/controls",
          "model_name": "DescriptionStyleModel",
          "model_module_version": "1.5.0",
          "state": {
            "_model_module": "@jupyter-widgets/controls",
            "_model_module_version": "1.5.0",
            "_model_name": "DescriptionStyleModel",
            "_view_count": null,
            "_view_module": "@jupyter-widgets/base",
            "_view_module_version": "1.2.0",
            "_view_name": "StyleView",
            "description_width": ""
          }
        },
        "ba30035d53be46949387a83d36b27462": {
          "model_module": "@jupyter-widgets/controls",
          "model_name": "HBoxModel",
          "model_module_version": "1.5.0",
          "state": {
            "_dom_classes": [],
            "_model_module": "@jupyter-widgets/controls",
            "_model_module_version": "1.5.0",
            "_model_name": "HBoxModel",
            "_view_count": null,
            "_view_module": "@jupyter-widgets/controls",
            "_view_module_version": "1.5.0",
            "_view_name": "HBoxView",
            "box_style": "",
            "children": [
              "IPY_MODEL_e0470fbb1747491d96c4f771b033c41b",
              "IPY_MODEL_d53922b2396645368a50d61bed925166",
              "IPY_MODEL_9c29523cc5df442d930e104d11873dff"
            ],
            "layout": "IPY_MODEL_12a756a4f363485691b1916f2ef2b158"
          }
        },
        "e0470fbb1747491d96c4f771b033c41b": {
          "model_module": "@jupyter-widgets/controls",
          "model_name": "HTMLModel",
          "model_module_version": "1.5.0",
          "state": {
            "_dom_classes": [],
            "_model_module": "@jupyter-widgets/controls",
            "_model_module_version": "1.5.0",
            "_model_name": "HTMLModel",
            "_view_count": null,
            "_view_module": "@jupyter-widgets/controls",
            "_view_module_version": "1.5.0",
            "_view_name": "HTMLView",
            "description": "",
            "description_tooltip": null,
            "layout": "IPY_MODEL_8709df41abf34de78dc5ee2556332f57",
            "placeholder": "​",
            "style": "IPY_MODEL_36b3cd4de8a54237a2926ba54d9eeba4",
            "value": "special_tokens_map.json: 100%"
          }
        },
        "d53922b2396645368a50d61bed925166": {
          "model_module": "@jupyter-widgets/controls",
          "model_name": "FloatProgressModel",
          "model_module_version": "1.5.0",
          "state": {
            "_dom_classes": [],
            "_model_module": "@jupyter-widgets/controls",
            "_model_module_version": "1.5.0",
            "_model_name": "FloatProgressModel",
            "_view_count": null,
            "_view_module": "@jupyter-widgets/controls",
            "_view_module_version": "1.5.0",
            "_view_name": "ProgressView",
            "bar_style": "success",
            "description": "",
            "description_tooltip": null,
            "layout": "IPY_MODEL_15961a3327614046932dcc55ab88dfe6",
            "max": 239,
            "min": 0,
            "orientation": "horizontal",
            "style": "IPY_MODEL_78f2eedef079407d903c706040c9fb12",
            "value": 239
          }
        },
        "9c29523cc5df442d930e104d11873dff": {
          "model_module": "@jupyter-widgets/controls",
          "model_name": "HTMLModel",
          "model_module_version": "1.5.0",
          "state": {
            "_dom_classes": [],
            "_model_module": "@jupyter-widgets/controls",
            "_model_module_version": "1.5.0",
            "_model_name": "HTMLModel",
            "_view_count": null,
            "_view_module": "@jupyter-widgets/controls",
            "_view_module_version": "1.5.0",
            "_view_name": "HTMLView",
            "description": "",
            "description_tooltip": null,
            "layout": "IPY_MODEL_871125b2efaa4862800dff7423da7c8b",
            "placeholder": "​",
            "style": "IPY_MODEL_23296d4d23f946a780d0ba143966ded0",
            "value": " 239/239 [00:00&lt;00:00, 17.7kB/s]"
          }
        },
        "12a756a4f363485691b1916f2ef2b158": {
          "model_module": "@jupyter-widgets/base",
          "model_name": "LayoutModel",
          "model_module_version": "1.2.0",
          "state": {
            "_model_module": "@jupyter-widgets/base",
            "_model_module_version": "1.2.0",
            "_model_name": "LayoutModel",
            "_view_count": null,
            "_view_module": "@jupyter-widgets/base",
            "_view_module_version": "1.2.0",
            "_view_name": "LayoutView",
            "align_content": null,
            "align_items": null,
            "align_self": null,
            "border": null,
            "bottom": null,
            "display": null,
            "flex": null,
            "flex_flow": null,
            "grid_area": null,
            "grid_auto_columns": null,
            "grid_auto_flow": null,
            "grid_auto_rows": null,
            "grid_column": null,
            "grid_gap": null,
            "grid_row": null,
            "grid_template_areas": null,
            "grid_template_columns": null,
            "grid_template_rows": null,
            "height": null,
            "justify_content": null,
            "justify_items": null,
            "left": null,
            "margin": null,
            "max_height": null,
            "max_width": null,
            "min_height": null,
            "min_width": null,
            "object_fit": null,
            "object_position": null,
            "order": null,
            "overflow": null,
            "overflow_x": null,
            "overflow_y": null,
            "padding": null,
            "right": null,
            "top": null,
            "visibility": null,
            "width": null
          }
        },
        "8709df41abf34de78dc5ee2556332f57": {
          "model_module": "@jupyter-widgets/base",
          "model_name": "LayoutModel",
          "model_module_version": "1.2.0",
          "state": {
            "_model_module": "@jupyter-widgets/base",
            "_model_module_version": "1.2.0",
            "_model_name": "LayoutModel",
            "_view_count": null,
            "_view_module": "@jupyter-widgets/base",
            "_view_module_version": "1.2.0",
            "_view_name": "LayoutView",
            "align_content": null,
            "align_items": null,
            "align_self": null,
            "border": null,
            "bottom": null,
            "display": null,
            "flex": null,
            "flex_flow": null,
            "grid_area": null,
            "grid_auto_columns": null,
            "grid_auto_flow": null,
            "grid_auto_rows": null,
            "grid_column": null,
            "grid_gap": null,
            "grid_row": null,
            "grid_template_areas": null,
            "grid_template_columns": null,
            "grid_template_rows": null,
            "height": null,
            "justify_content": null,
            "justify_items": null,
            "left": null,
            "margin": null,
            "max_height": null,
            "max_width": null,
            "min_height": null,
            "min_width": null,
            "object_fit": null,
            "object_position": null,
            "order": null,
            "overflow": null,
            "overflow_x": null,
            "overflow_y": null,
            "padding": null,
            "right": null,
            "top": null,
            "visibility": null,
            "width": null
          }
        },
        "36b3cd4de8a54237a2926ba54d9eeba4": {
          "model_module": "@jupyter-widgets/controls",
          "model_name": "DescriptionStyleModel",
          "model_module_version": "1.5.0",
          "state": {
            "_model_module": "@jupyter-widgets/controls",
            "_model_module_version": "1.5.0",
            "_model_name": "DescriptionStyleModel",
            "_view_count": null,
            "_view_module": "@jupyter-widgets/base",
            "_view_module_version": "1.2.0",
            "_view_name": "StyleView",
            "description_width": ""
          }
        },
        "15961a3327614046932dcc55ab88dfe6": {
          "model_module": "@jupyter-widgets/base",
          "model_name": "LayoutModel",
          "model_module_version": "1.2.0",
          "state": {
            "_model_module": "@jupyter-widgets/base",
            "_model_module_version": "1.2.0",
            "_model_name": "LayoutModel",
            "_view_count": null,
            "_view_module": "@jupyter-widgets/base",
            "_view_module_version": "1.2.0",
            "_view_name": "LayoutView",
            "align_content": null,
            "align_items": null,
            "align_self": null,
            "border": null,
            "bottom": null,
            "display": null,
            "flex": null,
            "flex_flow": null,
            "grid_area": null,
            "grid_auto_columns": null,
            "grid_auto_flow": null,
            "grid_auto_rows": null,
            "grid_column": null,
            "grid_gap": null,
            "grid_row": null,
            "grid_template_areas": null,
            "grid_template_columns": null,
            "grid_template_rows": null,
            "height": null,
            "justify_content": null,
            "justify_items": null,
            "left": null,
            "margin": null,
            "max_height": null,
            "max_width": null,
            "min_height": null,
            "min_width": null,
            "object_fit": null,
            "object_position": null,
            "order": null,
            "overflow": null,
            "overflow_x": null,
            "overflow_y": null,
            "padding": null,
            "right": null,
            "top": null,
            "visibility": null,
            "width": null
          }
        },
        "78f2eedef079407d903c706040c9fb12": {
          "model_module": "@jupyter-widgets/controls",
          "model_name": "ProgressStyleModel",
          "model_module_version": "1.5.0",
          "state": {
            "_model_module": "@jupyter-widgets/controls",
            "_model_module_version": "1.5.0",
            "_model_name": "ProgressStyleModel",
            "_view_count": null,
            "_view_module": "@jupyter-widgets/base",
            "_view_module_version": "1.2.0",
            "_view_name": "StyleView",
            "bar_color": null,
            "description_width": ""
          }
        },
        "871125b2efaa4862800dff7423da7c8b": {
          "model_module": "@jupyter-widgets/base",
          "model_name": "LayoutModel",
          "model_module_version": "1.2.0",
          "state": {
            "_model_module": "@jupyter-widgets/base",
            "_model_module_version": "1.2.0",
            "_model_name": "LayoutModel",
            "_view_count": null,
            "_view_module": "@jupyter-widgets/base",
            "_view_module_version": "1.2.0",
            "_view_name": "LayoutView",
            "align_content": null,
            "align_items": null,
            "align_self": null,
            "border": null,
            "bottom": null,
            "display": null,
            "flex": null,
            "flex_flow": null,
            "grid_area": null,
            "grid_auto_columns": null,
            "grid_auto_flow": null,
            "grid_auto_rows": null,
            "grid_column": null,
            "grid_gap": null,
            "grid_row": null,
            "grid_template_areas": null,
            "grid_template_columns": null,
            "grid_template_rows": null,
            "height": null,
            "justify_content": null,
            "justify_items": null,
            "left": null,
            "margin": null,
            "max_height": null,
            "max_width": null,
            "min_height": null,
            "min_width": null,
            "object_fit": null,
            "object_position": null,
            "order": null,
            "overflow": null,
            "overflow_x": null,
            "overflow_y": null,
            "padding": null,
            "right": null,
            "top": null,
            "visibility": null,
            "width": null
          }
        },
        "23296d4d23f946a780d0ba143966ded0": {
          "model_module": "@jupyter-widgets/controls",
          "model_name": "DescriptionStyleModel",
          "model_module_version": "1.5.0",
          "state": {
            "_model_module": "@jupyter-widgets/controls",
            "_model_module_version": "1.5.0",
            "_model_name": "DescriptionStyleModel",
            "_view_count": null,
            "_view_module": "@jupyter-widgets/base",
            "_view_module_version": "1.2.0",
            "_view_name": "StyleView",
            "description_width": ""
          }
        },
        "bf48b1385cd54b809ff993f3896f60a8": {
          "model_module": "@jupyter-widgets/controls",
          "model_name": "HBoxModel",
          "model_module_version": "1.5.0",
          "state": {
            "_dom_classes": [],
            "_model_module": "@jupyter-widgets/controls",
            "_model_module_version": "1.5.0",
            "_model_name": "HBoxModel",
            "_view_count": null,
            "_view_module": "@jupyter-widgets/controls",
            "_view_module_version": "1.5.0",
            "_view_name": "HBoxView",
            "box_style": "",
            "children": [
              "IPY_MODEL_a5f5f495dd3c46b987e9f7c252758a3d",
              "IPY_MODEL_3f1579a7e70e43f4b91f60f703474e82",
              "IPY_MODEL_42bbf2874c254ab7a1f5b367aa9466f4"
            ],
            "layout": "IPY_MODEL_b336a086b50849c4bad30f8520255e6b"
          }
        },
        "a5f5f495dd3c46b987e9f7c252758a3d": {
          "model_module": "@jupyter-widgets/controls",
          "model_name": "HTMLModel",
          "model_module_version": "1.5.0",
          "state": {
            "_dom_classes": [],
            "_model_module": "@jupyter-widgets/controls",
            "_model_module_version": "1.5.0",
            "_model_name": "HTMLModel",
            "_view_count": null,
            "_view_module": "@jupyter-widgets/controls",
            "_view_module_version": "1.5.0",
            "_view_name": "HTMLView",
            "description": "",
            "description_tooltip": null,
            "layout": "IPY_MODEL_6e701d667a3e4b4c8bf421f55396a090",
            "placeholder": "​",
            "style": "IPY_MODEL_bca50d321b614654a387a61ccb07f644",
            "value": "config.json: 100%"
          }
        },
        "3f1579a7e70e43f4b91f60f703474e82": {
          "model_module": "@jupyter-widgets/controls",
          "model_name": "FloatProgressModel",
          "model_module_version": "1.5.0",
          "state": {
            "_dom_classes": [],
            "_model_module": "@jupyter-widgets/controls",
            "_model_module_version": "1.5.0",
            "_model_name": "FloatProgressModel",
            "_view_count": null,
            "_view_module": "@jupyter-widgets/controls",
            "_view_module_version": "1.5.0",
            "_view_name": "ProgressView",
            "bar_style": "success",
            "description": "",
            "description_tooltip": null,
            "layout": "IPY_MODEL_3a522c6c7c434c8c9dd441b86c41d7af",
            "max": 190,
            "min": 0,
            "orientation": "horizontal",
            "style": "IPY_MODEL_ac7b77fbfda9402693ce10bbe4ee56d3",
            "value": 190
          }
        },
        "42bbf2874c254ab7a1f5b367aa9466f4": {
          "model_module": "@jupyter-widgets/controls",
          "model_name": "HTMLModel",
          "model_module_version": "1.5.0",
          "state": {
            "_dom_classes": [],
            "_model_module": "@jupyter-widgets/controls",
            "_model_module_version": "1.5.0",
            "_model_name": "HTMLModel",
            "_view_count": null,
            "_view_module": "@jupyter-widgets/controls",
            "_view_module_version": "1.5.0",
            "_view_name": "HTMLView",
            "description": "",
            "description_tooltip": null,
            "layout": "IPY_MODEL_ee9f0818184e4177a614619a0f40ef49",
            "placeholder": "​",
            "style": "IPY_MODEL_a857fdda9f8f4522a986f81e85522029",
            "value": " 190/190 [00:00&lt;00:00, 15.6kB/s]"
          }
        },
        "b336a086b50849c4bad30f8520255e6b": {
          "model_module": "@jupyter-widgets/base",
          "model_name": "LayoutModel",
          "model_module_version": "1.2.0",
          "state": {
            "_model_module": "@jupyter-widgets/base",
            "_model_module_version": "1.2.0",
            "_model_name": "LayoutModel",
            "_view_count": null,
            "_view_module": "@jupyter-widgets/base",
            "_view_module_version": "1.2.0",
            "_view_name": "LayoutView",
            "align_content": null,
            "align_items": null,
            "align_self": null,
            "border": null,
            "bottom": null,
            "display": null,
            "flex": null,
            "flex_flow": null,
            "grid_area": null,
            "grid_auto_columns": null,
            "grid_auto_flow": null,
            "grid_auto_rows": null,
            "grid_column": null,
            "grid_gap": null,
            "grid_row": null,
            "grid_template_areas": null,
            "grid_template_columns": null,
            "grid_template_rows": null,
            "height": null,
            "justify_content": null,
            "justify_items": null,
            "left": null,
            "margin": null,
            "max_height": null,
            "max_width": null,
            "min_height": null,
            "min_width": null,
            "object_fit": null,
            "object_position": null,
            "order": null,
            "overflow": null,
            "overflow_x": null,
            "overflow_y": null,
            "padding": null,
            "right": null,
            "top": null,
            "visibility": null,
            "width": null
          }
        },
        "6e701d667a3e4b4c8bf421f55396a090": {
          "model_module": "@jupyter-widgets/base",
          "model_name": "LayoutModel",
          "model_module_version": "1.2.0",
          "state": {
            "_model_module": "@jupyter-widgets/base",
            "_model_module_version": "1.2.0",
            "_model_name": "LayoutModel",
            "_view_count": null,
            "_view_module": "@jupyter-widgets/base",
            "_view_module_version": "1.2.0",
            "_view_name": "LayoutView",
            "align_content": null,
            "align_items": null,
            "align_self": null,
            "border": null,
            "bottom": null,
            "display": null,
            "flex": null,
            "flex_flow": null,
            "grid_area": null,
            "grid_auto_columns": null,
            "grid_auto_flow": null,
            "grid_auto_rows": null,
            "grid_column": null,
            "grid_gap": null,
            "grid_row": null,
            "grid_template_areas": null,
            "grid_template_columns": null,
            "grid_template_rows": null,
            "height": null,
            "justify_content": null,
            "justify_items": null,
            "left": null,
            "margin": null,
            "max_height": null,
            "max_width": null,
            "min_height": null,
            "min_width": null,
            "object_fit": null,
            "object_position": null,
            "order": null,
            "overflow": null,
            "overflow_x": null,
            "overflow_y": null,
            "padding": null,
            "right": null,
            "top": null,
            "visibility": null,
            "width": null
          }
        },
        "bca50d321b614654a387a61ccb07f644": {
          "model_module": "@jupyter-widgets/controls",
          "model_name": "DescriptionStyleModel",
          "model_module_version": "1.5.0",
          "state": {
            "_model_module": "@jupyter-widgets/controls",
            "_model_module_version": "1.5.0",
            "_model_name": "DescriptionStyleModel",
            "_view_count": null,
            "_view_module": "@jupyter-widgets/base",
            "_view_module_version": "1.2.0",
            "_view_name": "StyleView",
            "description_width": ""
          }
        },
        "3a522c6c7c434c8c9dd441b86c41d7af": {
          "model_module": "@jupyter-widgets/base",
          "model_name": "LayoutModel",
          "model_module_version": "1.2.0",
          "state": {
            "_model_module": "@jupyter-widgets/base",
            "_model_module_version": "1.2.0",
            "_model_name": "LayoutModel",
            "_view_count": null,
            "_view_module": "@jupyter-widgets/base",
            "_view_module_version": "1.2.0",
            "_view_name": "LayoutView",
            "align_content": null,
            "align_items": null,
            "align_self": null,
            "border": null,
            "bottom": null,
            "display": null,
            "flex": null,
            "flex_flow": null,
            "grid_area": null,
            "grid_auto_columns": null,
            "grid_auto_flow": null,
            "grid_auto_rows": null,
            "grid_column": null,
            "grid_gap": null,
            "grid_row": null,
            "grid_template_areas": null,
            "grid_template_columns": null,
            "grid_template_rows": null,
            "height": null,
            "justify_content": null,
            "justify_items": null,
            "left": null,
            "margin": null,
            "max_height": null,
            "max_width": null,
            "min_height": null,
            "min_width": null,
            "object_fit": null,
            "object_position": null,
            "order": null,
            "overflow": null,
            "overflow_x": null,
            "overflow_y": null,
            "padding": null,
            "right": null,
            "top": null,
            "visibility": null,
            "width": null
          }
        },
        "ac7b77fbfda9402693ce10bbe4ee56d3": {
          "model_module": "@jupyter-widgets/controls",
          "model_name": "ProgressStyleModel",
          "model_module_version": "1.5.0",
          "state": {
            "_model_module": "@jupyter-widgets/controls",
            "_model_module_version": "1.5.0",
            "_model_name": "ProgressStyleModel",
            "_view_count": null,
            "_view_module": "@jupyter-widgets/base",
            "_view_module_version": "1.2.0",
            "_view_name": "StyleView",
            "bar_color": null,
            "description_width": ""
          }
        },
        "ee9f0818184e4177a614619a0f40ef49": {
          "model_module": "@jupyter-widgets/base",
          "model_name": "LayoutModel",
          "model_module_version": "1.2.0",
          "state": {
            "_model_module": "@jupyter-widgets/base",
            "_model_module_version": "1.2.0",
            "_model_name": "LayoutModel",
            "_view_count": null,
            "_view_module": "@jupyter-widgets/base",
            "_view_module_version": "1.2.0",
            "_view_name": "LayoutView",
            "align_content": null,
            "align_items": null,
            "align_self": null,
            "border": null,
            "bottom": null,
            "display": null,
            "flex": null,
            "flex_flow": null,
            "grid_area": null,
            "grid_auto_columns": null,
            "grid_auto_flow": null,
            "grid_auto_rows": null,
            "grid_column": null,
            "grid_gap": null,
            "grid_row": null,
            "grid_template_areas": null,
            "grid_template_columns": null,
            "grid_template_rows": null,
            "height": null,
            "justify_content": null,
            "justify_items": null,
            "left": null,
            "margin": null,
            "max_height": null,
            "max_width": null,
            "min_height": null,
            "min_width": null,
            "object_fit": null,
            "object_position": null,
            "order": null,
            "overflow": null,
            "overflow_x": null,
            "overflow_y": null,
            "padding": null,
            "right": null,
            "top": null,
            "visibility": null,
            "width": null
          }
        },
        "a857fdda9f8f4522a986f81e85522029": {
          "model_module": "@jupyter-widgets/controls",
          "model_name": "DescriptionStyleModel",
          "model_module_version": "1.5.0",
          "state": {
            "_model_module": "@jupyter-widgets/controls",
            "_model_module_version": "1.5.0",
            "_model_name": "DescriptionStyleModel",
            "_view_count": null,
            "_view_module": "@jupyter-widgets/base",
            "_view_module_version": "1.2.0",
            "_view_name": "StyleView",
            "description_width": ""
          }
        }
      }
    }
  },
  "nbformat": 4,
  "nbformat_minor": 0
}